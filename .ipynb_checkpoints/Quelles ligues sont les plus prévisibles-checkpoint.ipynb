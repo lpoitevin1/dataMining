{
 "cells": [
  {
   "cell_type": "markdown",
   "metadata": {},
   "source": [
    "# Question : Quelles sont les ligues les plus prévisibles ?"
   ]
  },
  {
   "cell_type": "markdown",
   "metadata": {},
   "source": [
    "But: On cherche à savoir quelle ligue est la plus adaptée pour réaliser des paris sportifs"
   ]
  },
  {
   "cell_type": "markdown",
   "metadata": {},
   "source": [
    "# Sommaire "
   ]
  },
  {
   "cell_type": "markdown",
   "metadata": {},
   "source": [
    "* Quelles ligues présente le plus de cohérence avec les côtes des paris sportifs ?\n",
    "* Parmis le top des équipes les plus prévisibles, quelles sont les ligues les plus representés ?"
   ]
  },
  {
   "cell_type": "markdown",
   "metadata": {},
   "source": [
    "# Import package"
   ]
  },
  {
   "cell_type": "code",
   "execution_count": 1,
   "metadata": {},
   "outputs": [],
   "source": [
    "import pandas as pd\n",
    "import numpy as np\n",
    "import matplotlib.pyplot as plt\n",
    "import seaborn as sns\n",
    "import sqlite3\n",
    "from scipy.stats import entropy"
   ]
  },
  {
   "cell_type": "markdown",
   "metadata": {},
   "source": [
    "# Import jeu de données"
   ]
  },
  {
   "cell_type": "code",
   "execution_count": 2,
   "metadata": {},
   "outputs": [],
   "source": [
    "conn = sqlite3.connect('data/database.sqlite')"
   ]
  },
  {
   "cell_type": "code",
   "execution_count": 3,
   "metadata": {},
   "outputs": [],
   "source": [
    "countries = pd.read_sql_query(\"SELECT * from Country\", conn)\n",
    "match = pd.read_sql_query(\"SELECT * from Match\", conn)\n",
    "leagues = pd.read_sql_query(\"SELECT * from League\", conn)\n",
    "team = pd.read_sql_query(\"SELECT * from Team\", conn)"
   ]
  },
  {
   "cell_type": "code",
   "execution_count": 4,
   "metadata": {},
   "outputs": [
    {
     "data": {
      "text/html": [
       "<div>\n",
       "<style scoped>\n",
       "    .dataframe tbody tr th:only-of-type {\n",
       "        vertical-align: middle;\n",
       "    }\n",
       "\n",
       "    .dataframe tbody tr th {\n",
       "        vertical-align: top;\n",
       "    }\n",
       "\n",
       "    .dataframe thead th {\n",
       "        text-align: right;\n",
       "    }\n",
       "</style>\n",
       "<table border=\"1\" class=\"dataframe\">\n",
       "  <thead>\n",
       "    <tr style=\"text-align: right;\">\n",
       "      <th></th>\n",
       "      <th>id</th>\n",
       "      <th>country_id</th>\n",
       "      <th>name</th>\n",
       "    </tr>\n",
       "  </thead>\n",
       "  <tbody>\n",
       "    <tr>\n",
       "      <th>0</th>\n",
       "      <td>1</td>\n",
       "      <td>1</td>\n",
       "      <td>Belgium Jupiler League</td>\n",
       "    </tr>\n",
       "    <tr>\n",
       "      <th>1</th>\n",
       "      <td>1729</td>\n",
       "      <td>1729</td>\n",
       "      <td>England Premier League</td>\n",
       "    </tr>\n",
       "    <tr>\n",
       "      <th>2</th>\n",
       "      <td>4769</td>\n",
       "      <td>4769</td>\n",
       "      <td>France Ligue 1</td>\n",
       "    </tr>\n",
       "    <tr>\n",
       "      <th>3</th>\n",
       "      <td>7809</td>\n",
       "      <td>7809</td>\n",
       "      <td>Germany 1. Bundesliga</td>\n",
       "    </tr>\n",
       "    <tr>\n",
       "      <th>4</th>\n",
       "      <td>10257</td>\n",
       "      <td>10257</td>\n",
       "      <td>Italy Serie A</td>\n",
       "    </tr>\n",
       "    <tr>\n",
       "      <th>5</th>\n",
       "      <td>13274</td>\n",
       "      <td>13274</td>\n",
       "      <td>Netherlands Eredivisie</td>\n",
       "    </tr>\n",
       "    <tr>\n",
       "      <th>6</th>\n",
       "      <td>15722</td>\n",
       "      <td>15722</td>\n",
       "      <td>Poland Ekstraklasa</td>\n",
       "    </tr>\n",
       "    <tr>\n",
       "      <th>7</th>\n",
       "      <td>17642</td>\n",
       "      <td>17642</td>\n",
       "      <td>Portugal Liga ZON Sagres</td>\n",
       "    </tr>\n",
       "    <tr>\n",
       "      <th>8</th>\n",
       "      <td>19694</td>\n",
       "      <td>19694</td>\n",
       "      <td>Scotland Premier League</td>\n",
       "    </tr>\n",
       "    <tr>\n",
       "      <th>9</th>\n",
       "      <td>21518</td>\n",
       "      <td>21518</td>\n",
       "      <td>Spain LIGA BBVA</td>\n",
       "    </tr>\n",
       "    <tr>\n",
       "      <th>10</th>\n",
       "      <td>24558</td>\n",
       "      <td>24558</td>\n",
       "      <td>Switzerland Super League</td>\n",
       "    </tr>\n",
       "  </tbody>\n",
       "</table>\n",
       "</div>"
      ],
      "text/plain": [
       "       id  country_id                      name\n",
       "0       1           1    Belgium Jupiler League\n",
       "1    1729        1729    England Premier League\n",
       "2    4769        4769            France Ligue 1\n",
       "3    7809        7809     Germany 1. Bundesliga\n",
       "4   10257       10257             Italy Serie A\n",
       "5   13274       13274    Netherlands Eredivisie\n",
       "6   15722       15722        Poland Ekstraklasa\n",
       "7   17642       17642  Portugal Liga ZON Sagres\n",
       "8   19694       19694   Scotland Premier League\n",
       "9   21518       21518           Spain LIGA BBVA\n",
       "10  24558       24558  Switzerland Super League"
      ]
     },
     "execution_count": 4,
     "metadata": {},
     "output_type": "execute_result"
    }
   ],
   "source": [
    "leagues.rename(columns = {'name_x':'country'})\n",
    "leagues.rename(columns = {'name_y':'name_league'})"
   ]
  },
  {
   "cell_type": "markdown",
   "metadata": {},
   "source": [
    "# Preprocessing"
   ]
  },
  {
   "cell_type": "code",
   "execution_count": 5,
   "metadata": {},
   "outputs": [
    {
     "data": {
      "text/plain": [
       "array(['id', 'country_id', 'league_id', 'season', 'stage', 'date',\n",
       "       'match_api_id', 'home_team_api_id', 'away_team_api_id',\n",
       "       'home_team_goal', 'away_team_goal', 'home_player_X1',\n",
       "       'home_player_X2', 'home_player_X3', 'home_player_X4',\n",
       "       'home_player_X5', 'home_player_X6', 'home_player_X7',\n",
       "       'home_player_X8', 'home_player_X9', 'home_player_X10',\n",
       "       'home_player_X11', 'away_player_X1', 'away_player_X2',\n",
       "       'away_player_X3', 'away_player_X4', 'away_player_X5',\n",
       "       'away_player_X6', 'away_player_X7', 'away_player_X8',\n",
       "       'away_player_X9', 'away_player_X10', 'away_player_X11',\n",
       "       'home_player_Y1', 'home_player_Y2', 'home_player_Y3',\n",
       "       'home_player_Y4', 'home_player_Y5', 'home_player_Y6',\n",
       "       'home_player_Y7', 'home_player_Y8', 'home_player_Y9',\n",
       "       'home_player_Y10', 'home_player_Y11', 'away_player_Y1',\n",
       "       'away_player_Y2', 'away_player_Y3', 'away_player_Y4',\n",
       "       'away_player_Y5', 'away_player_Y6', 'away_player_Y7',\n",
       "       'away_player_Y8', 'away_player_Y9', 'away_player_Y10',\n",
       "       'away_player_Y11', 'home_player_1', 'home_player_2',\n",
       "       'home_player_3', 'home_player_4', 'home_player_5', 'home_player_6',\n",
       "       'home_player_7', 'home_player_8', 'home_player_9',\n",
       "       'home_player_10', 'home_player_11', 'away_player_1',\n",
       "       'away_player_2', 'away_player_3', 'away_player_4', 'away_player_5',\n",
       "       'away_player_6', 'away_player_7', 'away_player_8', 'away_player_9',\n",
       "       'away_player_10', 'away_player_11', 'goal', 'shoton', 'shotoff',\n",
       "       'foulcommit', 'card', 'cross', 'corner', 'possession', 'B365H',\n",
       "       'B365D', 'B365A', 'BWH', 'BWD', 'BWA', 'IWH', 'IWD', 'IWA', 'LBH',\n",
       "       'LBD', 'LBA', 'PSH', 'PSD', 'PSA', 'WHH', 'WHD', 'WHA', 'SJH',\n",
       "       'SJD', 'SJA', 'VCH', 'VCD', 'VCA', 'GBH', 'GBD', 'GBA', 'BSH',\n",
       "       'BSD', 'BSA'], dtype=object)"
      ]
     },
     "execution_count": 5,
     "metadata": {},
     "output_type": "execute_result"
    }
   ],
   "source": [
    "match.columns.values"
   ]
  },
  {
   "cell_type": "markdown",
   "metadata": {},
   "source": [
    "On regarde la colonne de paris avec le moins de valeurs NaN pour la selection de la colonne de paris sportif"
   ]
  },
  {
   "cell_type": "code",
   "execution_count": 6,
   "metadata": {},
   "outputs": [
    {
     "data": {
      "text/plain": [
       "'home_player_1'"
      ]
     },
     "execution_count": 6,
     "metadata": {},
     "output_type": "execute_result"
    }
   ],
   "source": [
    "match.isnull().sum()\n",
    "match.iloc[:,11:-1].count().idxmax()"
   ]
  },
  {
   "cell_type": "code",
   "execution_count": 7,
   "metadata": {},
   "outputs": [],
   "source": [
    "country_selected = ['England','France','Germany','Italy','Netherlands','Portugal','Spain']\n",
    "col_match_selected =['id', 'country_id', 'league_id', 'season', 'stage', 'date',\n",
    "       'match_api_id', 'home_team_api_id', 'away_team_api_id',\n",
    "       'home_team_goal', 'away_team_goal','B365H',\n",
    "       'B365D', 'B365A']"
   ]
  },
  {
   "cell_type": "code",
   "execution_count": 8,
   "metadata": {},
   "outputs": [],
   "source": [
    "countries = countries[countries['name'].isin(country_selected)]"
   ]
  },
  {
   "cell_type": "code",
   "execution_count": 9,
   "metadata": {},
   "outputs": [
    {
     "data": {
      "text/html": [
       "<div>\n",
       "<style scoped>\n",
       "    .dataframe tbody tr th:only-of-type {\n",
       "        vertical-align: middle;\n",
       "    }\n",
       "\n",
       "    .dataframe tbody tr th {\n",
       "        vertical-align: top;\n",
       "    }\n",
       "\n",
       "    .dataframe thead th {\n",
       "        text-align: right;\n",
       "    }\n",
       "</style>\n",
       "<table border=\"1\" class=\"dataframe\">\n",
       "  <thead>\n",
       "    <tr style=\"text-align: right;\">\n",
       "      <th></th>\n",
       "      <th>id</th>\n",
       "      <th>country_id</th>\n",
       "      <th>league_id</th>\n",
       "      <th>season</th>\n",
       "      <th>stage</th>\n",
       "      <th>date</th>\n",
       "      <th>match_api_id</th>\n",
       "      <th>home_team_api_id</th>\n",
       "      <th>away_team_api_id</th>\n",
       "      <th>home_team_goal</th>\n",
       "      <th>away_team_goal</th>\n",
       "      <th>B365H</th>\n",
       "      <th>B365D</th>\n",
       "      <th>B365A</th>\n",
       "    </tr>\n",
       "  </thead>\n",
       "  <tbody>\n",
       "    <tr>\n",
       "      <th>0</th>\n",
       "      <td>1</td>\n",
       "      <td>1</td>\n",
       "      <td>1</td>\n",
       "      <td>2008/2009</td>\n",
       "      <td>1</td>\n",
       "      <td>2008-08-17 00:00:00</td>\n",
       "      <td>492473</td>\n",
       "      <td>9987</td>\n",
       "      <td>9993</td>\n",
       "      <td>1</td>\n",
       "      <td>1</td>\n",
       "      <td>1.73</td>\n",
       "      <td>3.40</td>\n",
       "      <td>5.00</td>\n",
       "    </tr>\n",
       "    <tr>\n",
       "      <th>1</th>\n",
       "      <td>2</td>\n",
       "      <td>1</td>\n",
       "      <td>1</td>\n",
       "      <td>2008/2009</td>\n",
       "      <td>1</td>\n",
       "      <td>2008-08-16 00:00:00</td>\n",
       "      <td>492474</td>\n",
       "      <td>10000</td>\n",
       "      <td>9994</td>\n",
       "      <td>0</td>\n",
       "      <td>0</td>\n",
       "      <td>1.95</td>\n",
       "      <td>3.20</td>\n",
       "      <td>3.60</td>\n",
       "    </tr>\n",
       "    <tr>\n",
       "      <th>2</th>\n",
       "      <td>3</td>\n",
       "      <td>1</td>\n",
       "      <td>1</td>\n",
       "      <td>2008/2009</td>\n",
       "      <td>1</td>\n",
       "      <td>2008-08-16 00:00:00</td>\n",
       "      <td>492475</td>\n",
       "      <td>9984</td>\n",
       "      <td>8635</td>\n",
       "      <td>0</td>\n",
       "      <td>3</td>\n",
       "      <td>2.38</td>\n",
       "      <td>3.30</td>\n",
       "      <td>2.75</td>\n",
       "    </tr>\n",
       "    <tr>\n",
       "      <th>3</th>\n",
       "      <td>4</td>\n",
       "      <td>1</td>\n",
       "      <td>1</td>\n",
       "      <td>2008/2009</td>\n",
       "      <td>1</td>\n",
       "      <td>2008-08-17 00:00:00</td>\n",
       "      <td>492476</td>\n",
       "      <td>9991</td>\n",
       "      <td>9998</td>\n",
       "      <td>5</td>\n",
       "      <td>0</td>\n",
       "      <td>1.44</td>\n",
       "      <td>3.75</td>\n",
       "      <td>7.50</td>\n",
       "    </tr>\n",
       "    <tr>\n",
       "      <th>4</th>\n",
       "      <td>5</td>\n",
       "      <td>1</td>\n",
       "      <td>1</td>\n",
       "      <td>2008/2009</td>\n",
       "      <td>1</td>\n",
       "      <td>2008-08-16 00:00:00</td>\n",
       "      <td>492477</td>\n",
       "      <td>7947</td>\n",
       "      <td>9985</td>\n",
       "      <td>1</td>\n",
       "      <td>3</td>\n",
       "      <td>5.00</td>\n",
       "      <td>3.50</td>\n",
       "      <td>1.65</td>\n",
       "    </tr>\n",
       "  </tbody>\n",
       "</table>\n",
       "</div>"
      ],
      "text/plain": [
       "   id  country_id  league_id     season  stage                 date  \\\n",
       "0   1           1          1  2008/2009      1  2008-08-17 00:00:00   \n",
       "1   2           1          1  2008/2009      1  2008-08-16 00:00:00   \n",
       "2   3           1          1  2008/2009      1  2008-08-16 00:00:00   \n",
       "3   4           1          1  2008/2009      1  2008-08-17 00:00:00   \n",
       "4   5           1          1  2008/2009      1  2008-08-16 00:00:00   \n",
       "\n",
       "   match_api_id  home_team_api_id  away_team_api_id  home_team_goal  \\\n",
       "0        492473              9987              9993               1   \n",
       "1        492474             10000              9994               0   \n",
       "2        492475              9984              8635               0   \n",
       "3        492476              9991              9998               5   \n",
       "4        492477              7947              9985               1   \n",
       "\n",
       "   away_team_goal  B365H  B365D  B365A  \n",
       "0               1   1.73   3.40   5.00  \n",
       "1               0   1.95   3.20   3.60  \n",
       "2               3   2.38   3.30   2.75  \n",
       "3               0   1.44   3.75   7.50  \n",
       "4               3   5.00   3.50   1.65  "
      ]
     },
     "execution_count": 9,
     "metadata": {},
     "output_type": "execute_result"
    }
   ],
   "source": [
    "match = match[col_match_selected]\n",
    "match.head()"
   ]
  },
  {
   "cell_type": "code",
   "execution_count": 10,
   "metadata": {},
   "outputs": [
    {
     "data": {
      "text/html": [
       "<div>\n",
       "<style scoped>\n",
       "    .dataframe tbody tr th:only-of-type {\n",
       "        vertical-align: middle;\n",
       "    }\n",
       "\n",
       "    .dataframe tbody tr th {\n",
       "        vertical-align: top;\n",
       "    }\n",
       "\n",
       "    .dataframe thead th {\n",
       "        text-align: right;\n",
       "    }\n",
       "</style>\n",
       "<table border=\"1\" class=\"dataframe\">\n",
       "  <thead>\n",
       "    <tr style=\"text-align: right;\">\n",
       "      <th></th>\n",
       "      <th>id</th>\n",
       "      <th>country_id</th>\n",
       "      <th>league_id</th>\n",
       "      <th>season</th>\n",
       "      <th>stage</th>\n",
       "      <th>date</th>\n",
       "      <th>match_api_id</th>\n",
       "      <th>home_team_api_id</th>\n",
       "      <th>away_team_api_id</th>\n",
       "      <th>home_team_goal</th>\n",
       "      <th>away_team_goal</th>\n",
       "      <th>B365H</th>\n",
       "      <th>B365D</th>\n",
       "      <th>B365A</th>\n",
       "    </tr>\n",
       "  </thead>\n",
       "  <tbody>\n",
       "    <tr>\n",
       "      <th>0</th>\n",
       "      <td>1</td>\n",
       "      <td>1</td>\n",
       "      <td>1</td>\n",
       "      <td>2008/2009</td>\n",
       "      <td>1</td>\n",
       "      <td>2008-08-17 00:00:00</td>\n",
       "      <td>492473</td>\n",
       "      <td>9987</td>\n",
       "      <td>9993</td>\n",
       "      <td>1</td>\n",
       "      <td>1</td>\n",
       "      <td>1.73</td>\n",
       "      <td>3.40</td>\n",
       "      <td>5.00</td>\n",
       "    </tr>\n",
       "    <tr>\n",
       "      <th>1</th>\n",
       "      <td>2</td>\n",
       "      <td>1</td>\n",
       "      <td>1</td>\n",
       "      <td>2008/2009</td>\n",
       "      <td>1</td>\n",
       "      <td>2008-08-16 00:00:00</td>\n",
       "      <td>492474</td>\n",
       "      <td>10000</td>\n",
       "      <td>9994</td>\n",
       "      <td>0</td>\n",
       "      <td>0</td>\n",
       "      <td>1.95</td>\n",
       "      <td>3.20</td>\n",
       "      <td>3.60</td>\n",
       "    </tr>\n",
       "    <tr>\n",
       "      <th>2</th>\n",
       "      <td>3</td>\n",
       "      <td>1</td>\n",
       "      <td>1</td>\n",
       "      <td>2008/2009</td>\n",
       "      <td>1</td>\n",
       "      <td>2008-08-16 00:00:00</td>\n",
       "      <td>492475</td>\n",
       "      <td>9984</td>\n",
       "      <td>8635</td>\n",
       "      <td>0</td>\n",
       "      <td>3</td>\n",
       "      <td>2.38</td>\n",
       "      <td>3.30</td>\n",
       "      <td>2.75</td>\n",
       "    </tr>\n",
       "    <tr>\n",
       "      <th>3</th>\n",
       "      <td>4</td>\n",
       "      <td>1</td>\n",
       "      <td>1</td>\n",
       "      <td>2008/2009</td>\n",
       "      <td>1</td>\n",
       "      <td>2008-08-17 00:00:00</td>\n",
       "      <td>492476</td>\n",
       "      <td>9991</td>\n",
       "      <td>9998</td>\n",
       "      <td>5</td>\n",
       "      <td>0</td>\n",
       "      <td>1.44</td>\n",
       "      <td>3.75</td>\n",
       "      <td>7.50</td>\n",
       "    </tr>\n",
       "    <tr>\n",
       "      <th>4</th>\n",
       "      <td>5</td>\n",
       "      <td>1</td>\n",
       "      <td>1</td>\n",
       "      <td>2008/2009</td>\n",
       "      <td>1</td>\n",
       "      <td>2008-08-16 00:00:00</td>\n",
       "      <td>492477</td>\n",
       "      <td>7947</td>\n",
       "      <td>9985</td>\n",
       "      <td>1</td>\n",
       "      <td>3</td>\n",
       "      <td>5.00</td>\n",
       "      <td>3.50</td>\n",
       "      <td>1.65</td>\n",
       "    </tr>\n",
       "  </tbody>\n",
       "</table>\n",
       "</div>"
      ],
      "text/plain": [
       "   id  country_id  league_id     season  stage                 date  \\\n",
       "0   1           1          1  2008/2009      1  2008-08-17 00:00:00   \n",
       "1   2           1          1  2008/2009      1  2008-08-16 00:00:00   \n",
       "2   3           1          1  2008/2009      1  2008-08-16 00:00:00   \n",
       "3   4           1          1  2008/2009      1  2008-08-17 00:00:00   \n",
       "4   5           1          1  2008/2009      1  2008-08-16 00:00:00   \n",
       "\n",
       "   match_api_id  home_team_api_id  away_team_api_id  home_team_goal  \\\n",
       "0        492473              9987              9993               1   \n",
       "1        492474             10000              9994               0   \n",
       "2        492475              9984              8635               0   \n",
       "3        492476              9991              9998               5   \n",
       "4        492477              7947              9985               1   \n",
       "\n",
       "   away_team_goal  B365H  B365D  B365A  \n",
       "0               1   1.73   3.40   5.00  \n",
       "1               0   1.95   3.20   3.60  \n",
       "2               3   2.38   3.30   2.75  \n",
       "3               0   1.44   3.75   7.50  \n",
       "4               3   5.00   3.50   1.65  "
      ]
     },
     "execution_count": 10,
     "metadata": {},
     "output_type": "execute_result"
    }
   ],
   "source": [
    "match = match[match['league_id'].isin([x for x in leagues.id])]\n",
    "match.head()"
   ]
  },
  {
   "cell_type": "code",
   "execution_count": 11,
   "metadata": {},
   "outputs": [
    {
     "data": {
      "text/plain": [
       "Index(['id', 'country_id', 'league_id', 'season', 'stage', 'date',\n",
       "       'match_api_id', 'home_team_api_id', 'away_team_api_id',\n",
       "       'home_team_goal', 'away_team_goal', 'B365H', 'B365D', 'B365A'],\n",
       "      dtype='object')"
      ]
     },
     "execution_count": 11,
     "metadata": {},
     "output_type": "execute_result"
    }
   ],
   "source": [
    "match.columns"
   ]
  },
  {
   "cell_type": "code",
   "execution_count": 12,
   "metadata": {},
   "outputs": [],
   "source": [
    "match['league_id'] = match['league_id'].apply(lambda x : int(str(x)))\n",
    "leagues['id'] = leagues['id'].apply(lambda x : int(str(x)))"
   ]
  },
  {
   "cell_type": "code",
   "execution_count": 13,
   "metadata": {},
   "outputs": [
    {
     "data": {
      "text/plain": [
       "array([    1,  1729,  4769,  7809, 10257, 13274, 15722, 17642, 19694,\n",
       "       21518, 24558], dtype=int64)"
      ]
     },
     "execution_count": 13,
     "metadata": {},
     "output_type": "execute_result"
    }
   ],
   "source": [
    "leagues['id'].unique()"
   ]
  },
  {
   "cell_type": "code",
   "execution_count": 14,
   "metadata": {},
   "outputs": [
    {
     "data": {
      "text/html": [
       "<div>\n",
       "<style scoped>\n",
       "    .dataframe tbody tr th:only-of-type {\n",
       "        vertical-align: middle;\n",
       "    }\n",
       "\n",
       "    .dataframe tbody tr th {\n",
       "        vertical-align: top;\n",
       "    }\n",
       "\n",
       "    .dataframe thead th {\n",
       "        text-align: right;\n",
       "    }\n",
       "</style>\n",
       "<table border=\"1\" class=\"dataframe\">\n",
       "  <thead>\n",
       "    <tr style=\"text-align: right;\">\n",
       "      <th></th>\n",
       "      <th>id</th>\n",
       "      <th>country_id</th>\n",
       "      <th>name</th>\n",
       "    </tr>\n",
       "  </thead>\n",
       "  <tbody>\n",
       "    <tr>\n",
       "      <th>0</th>\n",
       "      <td>1</td>\n",
       "      <td>1</td>\n",
       "      <td>Belgium Jupiler League</td>\n",
       "    </tr>\n",
       "    <tr>\n",
       "      <th>1</th>\n",
       "      <td>1729</td>\n",
       "      <td>1729</td>\n",
       "      <td>England Premier League</td>\n",
       "    </tr>\n",
       "    <tr>\n",
       "      <th>2</th>\n",
       "      <td>4769</td>\n",
       "      <td>4769</td>\n",
       "      <td>France Ligue 1</td>\n",
       "    </tr>\n",
       "    <tr>\n",
       "      <th>3</th>\n",
       "      <td>7809</td>\n",
       "      <td>7809</td>\n",
       "      <td>Germany 1. Bundesliga</td>\n",
       "    </tr>\n",
       "    <tr>\n",
       "      <th>4</th>\n",
       "      <td>10257</td>\n",
       "      <td>10257</td>\n",
       "      <td>Italy Serie A</td>\n",
       "    </tr>\n",
       "    <tr>\n",
       "      <th>5</th>\n",
       "      <td>13274</td>\n",
       "      <td>13274</td>\n",
       "      <td>Netherlands Eredivisie</td>\n",
       "    </tr>\n",
       "    <tr>\n",
       "      <th>6</th>\n",
       "      <td>15722</td>\n",
       "      <td>15722</td>\n",
       "      <td>Poland Ekstraklasa</td>\n",
       "    </tr>\n",
       "    <tr>\n",
       "      <th>7</th>\n",
       "      <td>17642</td>\n",
       "      <td>17642</td>\n",
       "      <td>Portugal Liga ZON Sagres</td>\n",
       "    </tr>\n",
       "    <tr>\n",
       "      <th>8</th>\n",
       "      <td>19694</td>\n",
       "      <td>19694</td>\n",
       "      <td>Scotland Premier League</td>\n",
       "    </tr>\n",
       "    <tr>\n",
       "      <th>9</th>\n",
       "      <td>21518</td>\n",
       "      <td>21518</td>\n",
       "      <td>Spain LIGA BBVA</td>\n",
       "    </tr>\n",
       "    <tr>\n",
       "      <th>10</th>\n",
       "      <td>24558</td>\n",
       "      <td>24558</td>\n",
       "      <td>Switzerland Super League</td>\n",
       "    </tr>\n",
       "  </tbody>\n",
       "</table>\n",
       "</div>"
      ],
      "text/plain": [
       "       id  country_id                      name\n",
       "0       1           1    Belgium Jupiler League\n",
       "1    1729        1729    England Premier League\n",
       "2    4769        4769            France Ligue 1\n",
       "3    7809        7809     Germany 1. Bundesliga\n",
       "4   10257       10257             Italy Serie A\n",
       "5   13274       13274    Netherlands Eredivisie\n",
       "6   15722       15722        Poland Ekstraklasa\n",
       "7   17642       17642  Portugal Liga ZON Sagres\n",
       "8   19694       19694   Scotland Premier League\n",
       "9   21518       21518           Spain LIGA BBVA\n",
       "10  24558       24558  Switzerland Super League"
      ]
     },
     "execution_count": 14,
     "metadata": {},
     "output_type": "execute_result"
    }
   ],
   "source": [
    "leagues"
   ]
  },
  {
   "cell_type": "code",
   "execution_count": 15,
   "metadata": {},
   "outputs": [
    {
     "data": {
      "text/plain": [
       "(25979, 14)"
      ]
     },
     "execution_count": 15,
     "metadata": {},
     "output_type": "execute_result"
    }
   ],
   "source": [
    "match.shape"
   ]
  },
  {
   "cell_type": "markdown",
   "metadata": {},
   "source": [
    "### Suppression des NaN"
   ]
  },
  {
   "cell_type": "code",
   "execution_count": 16,
   "metadata": {},
   "outputs": [
    {
     "data": {
      "text/plain": [
       "id                     0\n",
       "country_id             0\n",
       "league_id              0\n",
       "season                 0\n",
       "stage                  0\n",
       "date                   0\n",
       "match_api_id           0\n",
       "home_team_api_id       0\n",
       "away_team_api_id       0\n",
       "home_team_goal         0\n",
       "away_team_goal         0\n",
       "B365H               3387\n",
       "B365D               3387\n",
       "B365A               3387\n",
       "dtype: int64"
      ]
     },
     "execution_count": 16,
     "metadata": {},
     "output_type": "execute_result"
    }
   ],
   "source": [
    "match.isnull().sum()"
   ]
  },
  {
   "cell_type": "code",
   "execution_count": 17,
   "metadata": {},
   "outputs": [
    {
     "data": {
      "text/plain": [
       "id                  0\n",
       "country_id          0\n",
       "league_id           0\n",
       "season              0\n",
       "stage               0\n",
       "date                0\n",
       "match_api_id        0\n",
       "home_team_api_id    0\n",
       "away_team_api_id    0\n",
       "home_team_goal      0\n",
       "away_team_goal      0\n",
       "B365H               0\n",
       "B365D               0\n",
       "B365A               0\n",
       "dtype: int64"
      ]
     },
     "execution_count": 17,
     "metadata": {},
     "output_type": "execute_result"
    }
   ],
   "source": [
    "match = match[~match['B365H'].isnull()]\n",
    "match.isnull().sum()"
   ]
  },
  {
   "cell_type": "code",
   "execution_count": 18,
   "metadata": {},
   "outputs": [],
   "source": [
    "leagues = countries.merge(leagues ,on='id')\n",
    "match = match[match.league_id.isin(leagues.id)]"
   ]
  },
  {
   "cell_type": "code",
   "execution_count": 19,
   "metadata": {},
   "outputs": [],
   "source": [
    "match['league_name'] = match['league_id'].apply(lambda x : leagues[leagues['id'] == x].name_y.values[0])"
   ]
  },
  {
   "cell_type": "code",
   "execution_count": 20,
   "metadata": {},
   "outputs": [
    {
     "data": {
      "text/html": [
       "<div>\n",
       "<style scoped>\n",
       "    .dataframe tbody tr th:only-of-type {\n",
       "        vertical-align: middle;\n",
       "    }\n",
       "\n",
       "    .dataframe tbody tr th {\n",
       "        vertical-align: top;\n",
       "    }\n",
       "\n",
       "    .dataframe thead th {\n",
       "        text-align: right;\n",
       "    }\n",
       "</style>\n",
       "<table border=\"1\" class=\"dataframe\">\n",
       "  <thead>\n",
       "    <tr style=\"text-align: right;\">\n",
       "      <th></th>\n",
       "      <th>id</th>\n",
       "      <th>country_id</th>\n",
       "      <th>league_id</th>\n",
       "      <th>season</th>\n",
       "      <th>stage</th>\n",
       "      <th>date</th>\n",
       "      <th>match_api_id</th>\n",
       "      <th>home_team_api_id</th>\n",
       "      <th>away_team_api_id</th>\n",
       "      <th>home_team_goal</th>\n",
       "      <th>away_team_goal</th>\n",
       "      <th>B365H</th>\n",
       "      <th>B365D</th>\n",
       "      <th>B365A</th>\n",
       "      <th>league_name</th>\n",
       "    </tr>\n",
       "  </thead>\n",
       "  <tbody>\n",
       "    <tr>\n",
       "      <th>1728</th>\n",
       "      <td>1729</td>\n",
       "      <td>1729</td>\n",
       "      <td>1729</td>\n",
       "      <td>2008/2009</td>\n",
       "      <td>1</td>\n",
       "      <td>2008-08-17 00:00:00</td>\n",
       "      <td>489042</td>\n",
       "      <td>10260</td>\n",
       "      <td>10261</td>\n",
       "      <td>1</td>\n",
       "      <td>1</td>\n",
       "      <td>1.29</td>\n",
       "      <td>5.5</td>\n",
       "      <td>11.00</td>\n",
       "      <td>England Premier League</td>\n",
       "    </tr>\n",
       "    <tr>\n",
       "      <th>1729</th>\n",
       "      <td>1730</td>\n",
       "      <td>1729</td>\n",
       "      <td>1729</td>\n",
       "      <td>2008/2009</td>\n",
       "      <td>1</td>\n",
       "      <td>2008-08-16 00:00:00</td>\n",
       "      <td>489043</td>\n",
       "      <td>9825</td>\n",
       "      <td>8659</td>\n",
       "      <td>1</td>\n",
       "      <td>0</td>\n",
       "      <td>1.20</td>\n",
       "      <td>6.5</td>\n",
       "      <td>15.00</td>\n",
       "      <td>England Premier League</td>\n",
       "    </tr>\n",
       "    <tr>\n",
       "      <th>1730</th>\n",
       "      <td>1731</td>\n",
       "      <td>1729</td>\n",
       "      <td>1729</td>\n",
       "      <td>2008/2009</td>\n",
       "      <td>1</td>\n",
       "      <td>2008-08-16 00:00:00</td>\n",
       "      <td>489044</td>\n",
       "      <td>8472</td>\n",
       "      <td>8650</td>\n",
       "      <td>0</td>\n",
       "      <td>1</td>\n",
       "      <td>5.50</td>\n",
       "      <td>3.6</td>\n",
       "      <td>1.67</td>\n",
       "      <td>England Premier League</td>\n",
       "    </tr>\n",
       "    <tr>\n",
       "      <th>1731</th>\n",
       "      <td>1732</td>\n",
       "      <td>1729</td>\n",
       "      <td>1729</td>\n",
       "      <td>2008/2009</td>\n",
       "      <td>1</td>\n",
       "      <td>2008-08-16 00:00:00</td>\n",
       "      <td>489045</td>\n",
       "      <td>8654</td>\n",
       "      <td>8528</td>\n",
       "      <td>2</td>\n",
       "      <td>1</td>\n",
       "      <td>1.91</td>\n",
       "      <td>3.4</td>\n",
       "      <td>4.20</td>\n",
       "      <td>England Premier League</td>\n",
       "    </tr>\n",
       "    <tr>\n",
       "      <th>1732</th>\n",
       "      <td>1733</td>\n",
       "      <td>1729</td>\n",
       "      <td>1729</td>\n",
       "      <td>2008/2009</td>\n",
       "      <td>1</td>\n",
       "      <td>2008-08-17 00:00:00</td>\n",
       "      <td>489046</td>\n",
       "      <td>10252</td>\n",
       "      <td>8456</td>\n",
       "      <td>4</td>\n",
       "      <td>2</td>\n",
       "      <td>1.91</td>\n",
       "      <td>3.4</td>\n",
       "      <td>4.33</td>\n",
       "      <td>England Premier League</td>\n",
       "    </tr>\n",
       "  </tbody>\n",
       "</table>\n",
       "</div>"
      ],
      "text/plain": [
       "        id  country_id  league_id     season  stage                 date  \\\n",
       "1728  1729        1729       1729  2008/2009      1  2008-08-17 00:00:00   \n",
       "1729  1730        1729       1729  2008/2009      1  2008-08-16 00:00:00   \n",
       "1730  1731        1729       1729  2008/2009      1  2008-08-16 00:00:00   \n",
       "1731  1732        1729       1729  2008/2009      1  2008-08-16 00:00:00   \n",
       "1732  1733        1729       1729  2008/2009      1  2008-08-17 00:00:00   \n",
       "\n",
       "      match_api_id  home_team_api_id  away_team_api_id  home_team_goal  \\\n",
       "1728        489042             10260             10261               1   \n",
       "1729        489043              9825              8659               1   \n",
       "1730        489044              8472              8650               0   \n",
       "1731        489045              8654              8528               2   \n",
       "1732        489046             10252              8456               4   \n",
       "\n",
       "      away_team_goal  B365H  B365D  B365A             league_name  \n",
       "1728               1   1.29    5.5  11.00  England Premier League  \n",
       "1729               0   1.20    6.5  15.00  England Premier League  \n",
       "1730               1   5.50    3.6   1.67  England Premier League  \n",
       "1731               1   1.91    3.4   4.20  England Premier League  \n",
       "1732               2   1.91    3.4   4.33  England Premier League  "
      ]
     },
     "execution_count": 20,
     "metadata": {},
     "output_type": "execute_result"
    }
   ],
   "source": [
    "match.head()"
   ]
  },
  {
   "cell_type": "markdown",
   "metadata": {},
   "source": [
    "# 1) Quelle ligue présente le plus de cohérence avec les paris sportifs ?"
   ]
  },
  {
   "cell_type": "markdown",
   "metadata": {},
   "source": [
    "Pour déterminer quelle ligue est la plus prévisible, nous allons pour chaque ligne calculer deux métriques :\n",
    "- L'impureté de Gini.\n",
    "- L'entropie. \n",
    "<p>Ces deux coefficients détermine le \"désordre\" d'un jeu de donnée. Plus l'indice est fort et moins le classifieur arrive à déterminer avec certitude la classification </p>"
   ]
  },
  {
   "cell_type": "markdown",
   "metadata": {},
   "source": [
    "Nous allons pour ça normaliser les côtes associés sur chaque ligne sous forme de probabilités"
   ]
  },
  {
   "cell_type": "code",
   "execution_count": 21,
   "metadata": {},
   "outputs": [],
   "source": [
    "def entropie(row) : \n",
    "    proba = []\n",
    "    proba_norm = []  \n",
    "    # normalize probability\n",
    "    odd = [row['B365H'],row['B365D'],row['B365A']]\n",
    "    for o in odd :\n",
    "        proba.append(1/o)\n",
    "    sum_proba = sum(proba)\n",
    "    for prob in proba :\n",
    "        proba_norm.append(prob/sum_proba)\n",
    "    return entropy(proba_norm)\n",
    "    \n",
    "\n",
    "def gini(row):\n",
    "    g = 1\n",
    "    proba = []\n",
    "    proba_norm = []   \n",
    "    odd = [row['B365H'],row['B365D'],row['B365A']]\n",
    "    for o in odd :\n",
    "        proba.append(1/o)\n",
    "    sum_proba = sum(proba)\n",
    "    for prob in proba :\n",
    "        proba_norm.append(prob/sum_proba)\n",
    "    for prob in proba_norm :\n",
    "        g -= prob*prob\n",
    "        return g\n",
    "    \n",
    "    \n",
    "#https://stats.stackexchange.com/questions/308885/a-simple-clear-explanation-of-the-gini-impurity\n",
    "#https://www.researchgate.net/post/How-to-compute-impurity-using-Gini-Index     "
   ]
  },
  {
   "cell_type": "code",
   "execution_count": 22,
   "metadata": {},
   "outputs": [],
   "source": [
    "match['entropy'] = match.apply(lambda x : entropie(x),axis=1)\n",
    "match['gini'] = match.apply(lambda x: gini(x),axis=1)"
   ]
  },
  {
   "cell_type": "code",
   "execution_count": 23,
   "metadata": {},
   "outputs": [],
   "source": [
    "entropy_league_season = match.groupby(['season','league_name'])['entropy'].mean().reset_index()\n",
    "entropy_means_league_season = entropy_league_season.reset_index().pivot(index='season', columns='league_name', values='entropy')"
   ]
  },
  {
   "cell_type": "code",
   "execution_count": 24,
   "metadata": {},
   "outputs": [],
   "source": [
    "gini_league_season = match.groupby(['season','league_name'])['gini'].mean().reset_index()\n",
    "gini_means_league_season = gini_league_season.reset_index().pivot(index='season', columns='league_name', values='gini')"
   ]
  },
  {
   "cell_type": "code",
   "execution_count": 25,
   "metadata": {},
   "outputs": [
    {
     "data": {
      "text/html": [
       "<div>\n",
       "<style scoped>\n",
       "    .dataframe tbody tr th:only-of-type {\n",
       "        vertical-align: middle;\n",
       "    }\n",
       "\n",
       "    .dataframe tbody tr th {\n",
       "        vertical-align: top;\n",
       "    }\n",
       "\n",
       "    .dataframe thead th {\n",
       "        text-align: right;\n",
       "    }\n",
       "</style>\n",
       "<table border=\"1\" class=\"dataframe\">\n",
       "  <thead>\n",
       "    <tr style=\"text-align: right;\">\n",
       "      <th>league_name</th>\n",
       "      <th>England Premier League</th>\n",
       "      <th>France Ligue 1</th>\n",
       "      <th>Germany 1. Bundesliga</th>\n",
       "      <th>Italy Serie A</th>\n",
       "      <th>Netherlands Eredivisie</th>\n",
       "      <th>Portugal Liga ZON Sagres</th>\n",
       "      <th>Spain LIGA BBVA</th>\n",
       "    </tr>\n",
       "  </thead>\n",
       "  <tbody>\n",
       "    <tr>\n",
       "      <th>count</th>\n",
       "      <td>8.000000</td>\n",
       "      <td>8.000000</td>\n",
       "      <td>8.000000</td>\n",
       "      <td>8.000000</td>\n",
       "      <td>8.000000</td>\n",
       "      <td>8.000000</td>\n",
       "      <td>8.000000</td>\n",
       "    </tr>\n",
       "    <tr>\n",
       "      <th>mean</th>\n",
       "      <td>0.976746</td>\n",
       "      <td>1.017324</td>\n",
       "      <td>0.993969</td>\n",
       "      <td>0.999829</td>\n",
       "      <td>0.959155</td>\n",
       "      <td>0.976492</td>\n",
       "      <td>0.964286</td>\n",
       "    </tr>\n",
       "    <tr>\n",
       "      <th>std</th>\n",
       "      <td>0.013672</td>\n",
       "      <td>0.007914</td>\n",
       "      <td>0.014056</td>\n",
       "      <td>0.007374</td>\n",
       "      <td>0.017693</td>\n",
       "      <td>0.015101</td>\n",
       "      <td>0.024595</td>\n",
       "    </tr>\n",
       "    <tr>\n",
       "      <th>min</th>\n",
       "      <td>0.956496</td>\n",
       "      <td>1.004439</td>\n",
       "      <td>0.974657</td>\n",
       "      <td>0.985284</td>\n",
       "      <td>0.927274</td>\n",
       "      <td>0.960114</td>\n",
       "      <td>0.933637</td>\n",
       "    </tr>\n",
       "    <tr>\n",
       "      <th>25%</th>\n",
       "      <td>0.967313</td>\n",
       "      <td>1.013490</td>\n",
       "      <td>0.983751</td>\n",
       "      <td>0.997481</td>\n",
       "      <td>0.950114</td>\n",
       "      <td>0.966850</td>\n",
       "      <td>0.946164</td>\n",
       "    </tr>\n",
       "    <tr>\n",
       "      <th>50%</th>\n",
       "      <td>0.980887</td>\n",
       "      <td>1.015022</td>\n",
       "      <td>0.995959</td>\n",
       "      <td>1.002639</td>\n",
       "      <td>0.959296</td>\n",
       "      <td>0.972881</td>\n",
       "      <td>0.962959</td>\n",
       "    </tr>\n",
       "    <tr>\n",
       "      <th>75%</th>\n",
       "      <td>0.983582</td>\n",
       "      <td>1.025246</td>\n",
       "      <td>1.002042</td>\n",
       "      <td>1.004181</td>\n",
       "      <td>0.971532</td>\n",
       "      <td>0.984719</td>\n",
       "      <td>0.975727</td>\n",
       "    </tr>\n",
       "    <tr>\n",
       "      <th>max</th>\n",
       "      <td>0.997819</td>\n",
       "      <td>1.026638</td>\n",
       "      <td>1.016264</td>\n",
       "      <td>1.006755</td>\n",
       "      <td>0.981676</td>\n",
       "      <td>1.004260</td>\n",
       "      <td>1.010859</td>\n",
       "    </tr>\n",
       "  </tbody>\n",
       "</table>\n",
       "</div>"
      ],
      "text/plain": [
       "league_name  England Premier League  France Ligue 1  Germany 1. Bundesliga  \\\n",
       "count                      8.000000        8.000000               8.000000   \n",
       "mean                       0.976746        1.017324               0.993969   \n",
       "std                        0.013672        0.007914               0.014056   \n",
       "min                        0.956496        1.004439               0.974657   \n",
       "25%                        0.967313        1.013490               0.983751   \n",
       "50%                        0.980887        1.015022               0.995959   \n",
       "75%                        0.983582        1.025246               1.002042   \n",
       "max                        0.997819        1.026638               1.016264   \n",
       "\n",
       "league_name  Italy Serie A  Netherlands Eredivisie  Portugal Liga ZON Sagres  \\\n",
       "count             8.000000                8.000000                  8.000000   \n",
       "mean              0.999829                0.959155                  0.976492   \n",
       "std               0.007374                0.017693                  0.015101   \n",
       "min               0.985284                0.927274                  0.960114   \n",
       "25%               0.997481                0.950114                  0.966850   \n",
       "50%               1.002639                0.959296                  0.972881   \n",
       "75%               1.004181                0.971532                  0.984719   \n",
       "max               1.006755                0.981676                  1.004260   \n",
       "\n",
       "league_name  Spain LIGA BBVA  \n",
       "count               8.000000  \n",
       "mean                0.964286  \n",
       "std                 0.024595  \n",
       "min                 0.933637  \n",
       "25%                 0.946164  \n",
       "50%                 0.962959  \n",
       "75%                 0.975727  \n",
       "max                 1.010859  "
      ]
     },
     "execution_count": 25,
     "metadata": {},
     "output_type": "execute_result"
    }
   ],
   "source": [
    "entropy_means_league_season.describe()"
   ]
  },
  {
   "cell_type": "code",
   "execution_count": 26,
   "metadata": {},
   "outputs": [
    {
     "data": {
      "text/html": [
       "<div>\n",
       "<style scoped>\n",
       "    .dataframe tbody tr th:only-of-type {\n",
       "        vertical-align: middle;\n",
       "    }\n",
       "\n",
       "    .dataframe tbody tr th {\n",
       "        vertical-align: top;\n",
       "    }\n",
       "\n",
       "    .dataframe thead th {\n",
       "        text-align: right;\n",
       "    }\n",
       "</style>\n",
       "<table border=\"1\" class=\"dataframe\">\n",
       "  <thead>\n",
       "    <tr style=\"text-align: right;\">\n",
       "      <th>league_name</th>\n",
       "      <th>England Premier League</th>\n",
       "      <th>France Ligue 1</th>\n",
       "      <th>Germany 1. Bundesliga</th>\n",
       "      <th>Italy Serie A</th>\n",
       "      <th>Netherlands Eredivisie</th>\n",
       "      <th>Portugal Liga ZON Sagres</th>\n",
       "      <th>Spain LIGA BBVA</th>\n",
       "    </tr>\n",
       "  </thead>\n",
       "  <tbody>\n",
       "    <tr>\n",
       "      <th>count</th>\n",
       "      <td>8.000000</td>\n",
       "      <td>8.000000</td>\n",
       "      <td>8.000000</td>\n",
       "      <td>8.000000</td>\n",
       "      <td>8.000000</td>\n",
       "      <td>8.000000</td>\n",
       "      <td>8.000000</td>\n",
       "    </tr>\n",
       "    <tr>\n",
       "      <th>mean</th>\n",
       "      <td>0.761642</td>\n",
       "      <td>0.780132</td>\n",
       "      <td>0.771131</td>\n",
       "      <td>0.771492</td>\n",
       "      <td>0.742945</td>\n",
       "      <td>0.775057</td>\n",
       "      <td>0.750520</td>\n",
       "    </tr>\n",
       "    <tr>\n",
       "      <th>std</th>\n",
       "      <td>0.007011</td>\n",
       "      <td>0.003277</td>\n",
       "      <td>0.004118</td>\n",
       "      <td>0.003051</td>\n",
       "      <td>0.010606</td>\n",
       "      <td>0.002715</td>\n",
       "      <td>0.011038</td>\n",
       "    </tr>\n",
       "    <tr>\n",
       "      <th>min</th>\n",
       "      <td>0.754011</td>\n",
       "      <td>0.774326</td>\n",
       "      <td>0.765810</td>\n",
       "      <td>0.767328</td>\n",
       "      <td>0.723093</td>\n",
       "      <td>0.771388</td>\n",
       "      <td>0.739258</td>\n",
       "    </tr>\n",
       "    <tr>\n",
       "      <th>25%</th>\n",
       "      <td>0.755722</td>\n",
       "      <td>0.777538</td>\n",
       "      <td>0.768978</td>\n",
       "      <td>0.769387</td>\n",
       "      <td>0.738366</td>\n",
       "      <td>0.773291</td>\n",
       "      <td>0.743772</td>\n",
       "    </tr>\n",
       "    <tr>\n",
       "      <th>50%</th>\n",
       "      <td>0.760538</td>\n",
       "      <td>0.781456</td>\n",
       "      <td>0.770690</td>\n",
       "      <td>0.771860</td>\n",
       "      <td>0.743345</td>\n",
       "      <td>0.775015</td>\n",
       "      <td>0.746222</td>\n",
       "    </tr>\n",
       "    <tr>\n",
       "      <th>75%</th>\n",
       "      <td>0.765765</td>\n",
       "      <td>0.782408</td>\n",
       "      <td>0.771797</td>\n",
       "      <td>0.773851</td>\n",
       "      <td>0.747651</td>\n",
       "      <td>0.777570</td>\n",
       "      <td>0.755738</td>\n",
       "    </tr>\n",
       "    <tr>\n",
       "      <th>max</th>\n",
       "      <td>0.774288</td>\n",
       "      <td>0.783533</td>\n",
       "      <td>0.779904</td>\n",
       "      <td>0.775609</td>\n",
       "      <td>0.757358</td>\n",
       "      <td>0.778102</td>\n",
       "      <td>0.772751</td>\n",
       "    </tr>\n",
       "  </tbody>\n",
       "</table>\n",
       "</div>"
      ],
      "text/plain": [
       "league_name  England Premier League  France Ligue 1  Germany 1. Bundesliga  \\\n",
       "count                      8.000000        8.000000               8.000000   \n",
       "mean                       0.761642        0.780132               0.771131   \n",
       "std                        0.007011        0.003277               0.004118   \n",
       "min                        0.754011        0.774326               0.765810   \n",
       "25%                        0.755722        0.777538               0.768978   \n",
       "50%                        0.760538        0.781456               0.770690   \n",
       "75%                        0.765765        0.782408               0.771797   \n",
       "max                        0.774288        0.783533               0.779904   \n",
       "\n",
       "league_name  Italy Serie A  Netherlands Eredivisie  Portugal Liga ZON Sagres  \\\n",
       "count             8.000000                8.000000                  8.000000   \n",
       "mean              0.771492                0.742945                  0.775057   \n",
       "std               0.003051                0.010606                  0.002715   \n",
       "min               0.767328                0.723093                  0.771388   \n",
       "25%               0.769387                0.738366                  0.773291   \n",
       "50%               0.771860                0.743345                  0.775015   \n",
       "75%               0.773851                0.747651                  0.777570   \n",
       "max               0.775609                0.757358                  0.778102   \n",
       "\n",
       "league_name  Spain LIGA BBVA  \n",
       "count               8.000000  \n",
       "mean                0.750520  \n",
       "std                 0.011038  \n",
       "min                 0.739258  \n",
       "25%                 0.743772  \n",
       "50%                 0.746222  \n",
       "75%                 0.755738  \n",
       "max                 0.772751  "
      ]
     },
     "execution_count": 26,
     "metadata": {},
     "output_type": "execute_result"
    }
   ],
   "source": [
    "gini_means_league_season.describe()"
   ]
  },
  {
   "cell_type": "code",
   "execution_count": 27,
   "metadata": {},
   "outputs": [],
   "source": [
    "#plot graph\n",
    "def plot(metric_league_by_season,name_metric):\n",
    "    if name_metric == 'entropie':\n",
    "        ax = metric_league_by_season.plot(figsize=(10,8),marker='o')\n",
    "        plt.title('Prédiction des league en terme de paris selon '+name_metric, fontsize=16)\n",
    "        plt.xticks(rotation=50)\n",
    "        colors = [x.get_color() for x in ax.get_lines()]\n",
    "        colors_mapping = dict(zip(leagues.id,colors))\n",
    "        ax.set_xlabel('Saison')\n",
    "        plt.legend(loc='lower left')\n",
    "        ax.annotate('Moins prédictable', xy=(7.7, 0.985), annotation_clip=False,fontsize=14,rotation='vertical')\n",
    "        ax.annotate('Plus prédictable', xy=(7.7, 0.94), annotation_clip=False,fontsize=14,rotation='vertical')\n",
    "    \n",
    "    if name_metric == 'gini':\n",
    "        ax = metric_league_by_season.plot(figsize=(10,8),marker='o')\n",
    "        plt.title('Prédiction des league en terme de paris selon l\\'impureté de '+name_metric, fontsize=16)\n",
    "        plt.xticks(rotation=50)\n",
    "        colors = [x.get_color() for x in ax.get_lines()]\n",
    "        colors_mapping = dict(zip(leagues.id,colors))\n",
    "        ax.set_xlabel('Saison')\n",
    "        ax.annotate('Moins prédictable', xy=(7.6, 0.77), annotation_clip=False,fontsize=14,rotation='vertical')\n",
    "        ax.annotate('Plus prédictable', xy=(7.6, 0.74), annotation_clip=False,fontsize=14,rotation='vertical')"
   ]
  },
  {
   "cell_type": "code",
   "execution_count": 28,
   "metadata": {},
   "outputs": [
    {
     "data": {
      "image/png": "[encoded data removed]",
      "text/plain": [
       "<Figure size 720x576 with 1 Axes>"
      ]
     },
     "metadata": {
      "needs_background": "light"
     },
     "output_type": "display_data"
    }
   ],
   "source": [
    "plot(entropy_means_league_season,'entropie')"
   ]
  },
  {
   "cell_type": "code",
   "execution_count": 29,
   "metadata": {},
   "outputs": [
    {
     "data": {
      "image/png": "[encoded data removed]",
      "text/plain": [
       "<Figure size 720x576 with 1 Axes>"
      ]
     },
     "metadata": {
      "needs_background": "light"
     },
     "output_type": "display_data"
    }
   ],
   "source": [
    "plot(gini_means_league_season,'gini')"
   ]
  },
  {
   "cell_type": "markdown",
   "metadata": {},
   "source": [
    "Globalement, sur les deux métriques le classement des ligues les plus prédictable restent les même.\n",
    "Les deux indices qui mesure le \"désordre\" d'un jeu de donnée ont des valeurs globalement haute\n",
    "Gini(league) > 0.7\n",
    "Entropy(league) > 0.93"
   ]
  },
  {
   "cell_type": "code",
   "execution_count": 30,
   "metadata": {},
   "outputs": [
    {
     "name": "stdout",
     "output_type": "stream",
     "text": [
      "Classement des ligue les plus prédictables aux moins prédictables toutes époque confondues\n",
      "1) Netherlands Eredivisie\n",
      "2) Spain LIGA BBVA\n",
      "3) Portugal Liga ZON Sagres\n",
      "4) England Premier League\n",
      "5) Germany 1. Bundesliga\n",
      "6) Italy Serie A\n",
      "7) France Ligue 1\n",
      "Classement des ligue les plus prédictables aux moins prédictables toutes époque confondues\n",
      "1) Netherlands Eredivisie\n",
      "2) Spain LIGA BBVA\n",
      "3) England Premier League\n",
      "4) Germany 1. Bundesliga\n",
      "5) Italy Serie A\n",
      "6) Portugal Liga ZON Sagres\n",
      "7) France Ligue 1\n"
     ]
    },
    {
     "data": {
      "text/plain": [
       "[('Netherlands Eredivisie', 0.7429453209040424),\n",
       " ('Spain LIGA BBVA', 0.750519512855031),\n",
       " ('England Premier League', 0.7616424712140861),\n",
       " ('Germany 1. Bundesliga', 0.7711307637243301),\n",
       " ('Italy Serie A', 0.7714919496352688),\n",
       " ('Portugal Liga ZON Sagres', 0.7750565682398246),\n",
       " ('France Ligue 1', 0.7801320996966143)]"
      ]
     },
     "execution_count": 30,
     "metadata": {},
     "output_type": "execute_result"
    }
   ],
   "source": [
    "def rankLeague(entropy_means_league_season, gini_means_league_season,metric='entropy'):\n",
    "    rank_league = {}\n",
    "    col_league = entropy_means_league_season.columns\n",
    "    means_league = [] \n",
    "    for c in col_league :\n",
    "        if metric == 'entropy' :\n",
    "            metric_mean =  entropy_means_league_season[c].mean()\n",
    "        if metric == 'gini':\n",
    "            metric_mean =  gini_means_league_season[c].mean()\n",
    "        rank_league.update({c:metric_mean})  \n",
    "    rank_league = sorted(rank_league.items(), key=lambda x: x[1])\n",
    "    cpt = 1\n",
    "    print(\"Classement des ligue les plus prédictables aux moins prédictables toutes époque confondues\")\n",
    "    for key,value in rank_league :\n",
    "        print(str(cpt)+ \") \"+str(key))\n",
    "        cpt += 1\n",
    "    return rank_league\n",
    "rank_league_entropy = rankLeague(entropy_means_league_season,gini_means_league_season)\n",
    "rank_league_gini = rankLeague(entropy_means_league_season,gini_means_league_season,metric='gini')\n",
    "rank_league_gini"
   ]
  },
  {
   "cell_type": "code",
   "execution_count": 31,
   "metadata": {},
   "outputs": [
    {
     "data": {
      "image/png": "[encoded data removed]",
      "text/plain": [
       "<Figure size 720x360 with 1 Axes>"
      ]
     },
     "metadata": {
      "needs_background": "light"
     },
     "output_type": "display_data"
    }
   ],
   "source": [
    "league_key = []\n",
    "league_val = []\n",
    "for key,value in rank_league_entropy :\n",
    "    league_key.append(key.split()[0])\n",
    "    league_val.append(value)\n",
    "   \n",
    "fig = plt.figure(figsize = (10, 5)) \n",
    "  \n",
    "# creating the bar plot \n",
    "plt.bar(league_key,league_val ,width = 0.4) \n",
    "  \n",
    "plt.xlabel(\"League\") \n",
    "axes = plt.gca()\n",
    "axes.set_ylim([0.8,1.05])\n",
    "plt.ylabel(\"Entropie\") \n",
    "plt.title(\"Ligue les plus prédictables au moins prédictables toute époque confondus (gauche à droite)\") \n",
    "plt.show() "
   ]
  },
  {
   "cell_type": "code",
   "execution_count": 32,
   "metadata": {},
   "outputs": [
    {
     "data": {
      "image/png": "[encoded data removed]",
      "text/plain": [
       "<Figure size 720x360 with 1 Axes>"
      ]
     },
     "metadata": {
      "needs_background": "light"
     },
     "output_type": "display_data"
    }
   ],
   "source": [
    "league_key = []\n",
    "league_val = []\n",
    "for key,value in rank_league_gini :\n",
    "    league_key.append(key.split()[0])\n",
    "    league_val.append(value)\n",
    "\n",
    "fig = plt.figure(figsize = (10, 5)) \n",
    "  \n",
    "# creating the bar plot \n",
    "plt.bar(league_key,league_val ,width = 0.4) \n",
    "  \n",
    "plt.xlabel(\"League\") \n",
    "axes = plt.gca()\n",
    "axes.set_ylim([0.7,0.80])\n",
    "plt.ylabel(\"Indice de Gini\") \n",
    "plt.title(\"Ligue les plus prédictables au moins prédictables toute époque confondus (gauche à droite)\") \n",
    "plt.show() "
   ]
  },
  {
   "cell_type": "markdown",
   "metadata": {},
   "source": [
    "On note que la Hollande et les Pays bas ne sont pas déclassé selon la metrique utilisée. Le Portugal lui arrive en troisieme position avec l'entropie alors qu'il est avant dernier dans le classement avec l'indice de Gini\n",
    "On remarque que la France reste la ligue la moins previsible."
   ]
  },
  {
   "cell_type": "markdown",
   "metadata": {},
   "source": [
    "## Réponse a la sous question "
   ]
  },
  {
   "cell_type": "markdown",
   "metadata": {},
   "source": [
    "Pour répondre à la question, est ce que des ligues sont plus prévisibles que d'autres sur les paris sportifs ? \n",
    "La réponse est oui même si par nos deux métriques nous trouvons des valeurs d'entropie et de gini relativement haute qui témoigne du \"désordre\" des données et donc de la complexité de la chance d'avoir fait une bonne prédiction.\n",
    "Les deux ligues les plus prédictables sont la ligue hollandaise et espagnol\n",
    "La ligue la moins prédictable est la ligue française"
   ]
  },
  {
   "cell_type": "markdown",
   "metadata": {},
   "source": [
    "# 2) Quelle est la representation des ligues dans les top equipes les plus prédictables ?"
   ]
  },
  {
   "cell_type": "code",
   "execution_count": 33,
   "metadata": {},
   "outputs": [
    {
     "data": {
      "text/html": [
       "<div>\n",
       "<style scoped>\n",
       "    .dataframe tbody tr th:only-of-type {\n",
       "        vertical-align: middle;\n",
       "    }\n",
       "\n",
       "    .dataframe tbody tr th {\n",
       "        vertical-align: top;\n",
       "    }\n",
       "\n",
       "    .dataframe thead th {\n",
       "        text-align: right;\n",
       "    }\n",
       "</style>\n",
       "<table border=\"1\" class=\"dataframe\">\n",
       "  <thead>\n",
       "    <tr style=\"text-align: right;\">\n",
       "      <th></th>\n",
       "      <th>id</th>\n",
       "      <th>team_api_id</th>\n",
       "      <th>team_fifa_api_id</th>\n",
       "      <th>team_long_name</th>\n",
       "      <th>team_short_name</th>\n",
       "    </tr>\n",
       "  </thead>\n",
       "  <tbody>\n",
       "    <tr>\n",
       "      <th>0</th>\n",
       "      <td>1</td>\n",
       "      <td>9987</td>\n",
       "      <td>673.0</td>\n",
       "      <td>KRC Genk</td>\n",
       "      <td>GEN</td>\n",
       "    </tr>\n",
       "    <tr>\n",
       "      <th>1</th>\n",
       "      <td>2</td>\n",
       "      <td>9993</td>\n",
       "      <td>675.0</td>\n",
       "      <td>Beerschot AC</td>\n",
       "      <td>BAC</td>\n",
       "    </tr>\n",
       "    <tr>\n",
       "      <th>2</th>\n",
       "      <td>3</td>\n",
       "      <td>10000</td>\n",
       "      <td>15005.0</td>\n",
       "      <td>SV Zulte-Waregem</td>\n",
       "      <td>ZUL</td>\n",
       "    </tr>\n",
       "    <tr>\n",
       "      <th>3</th>\n",
       "      <td>4</td>\n",
       "      <td>9994</td>\n",
       "      <td>2007.0</td>\n",
       "      <td>Sporting Lokeren</td>\n",
       "      <td>LOK</td>\n",
       "    </tr>\n",
       "    <tr>\n",
       "      <th>4</th>\n",
       "      <td>5</td>\n",
       "      <td>9984</td>\n",
       "      <td>1750.0</td>\n",
       "      <td>KSV Cercle Brugge</td>\n",
       "      <td>CEB</td>\n",
       "    </tr>\n",
       "    <tr>\n",
       "      <th>...</th>\n",
       "      <td>...</td>\n",
       "      <td>...</td>\n",
       "      <td>...</td>\n",
       "      <td>...</td>\n",
       "      <td>...</td>\n",
       "    </tr>\n",
       "    <tr>\n",
       "      <th>294</th>\n",
       "      <td>49479</td>\n",
       "      <td>10190</td>\n",
       "      <td>898.0</td>\n",
       "      <td>FC St. Gallen</td>\n",
       "      <td>GAL</td>\n",
       "    </tr>\n",
       "    <tr>\n",
       "      <th>295</th>\n",
       "      <td>49837</td>\n",
       "      <td>10191</td>\n",
       "      <td>1715.0</td>\n",
       "      <td>FC Thun</td>\n",
       "      <td>THU</td>\n",
       "    </tr>\n",
       "    <tr>\n",
       "      <th>296</th>\n",
       "      <td>50201</td>\n",
       "      <td>9777</td>\n",
       "      <td>324.0</td>\n",
       "      <td>Servette FC</td>\n",
       "      <td>SER</td>\n",
       "    </tr>\n",
       "    <tr>\n",
       "      <th>297</th>\n",
       "      <td>50204</td>\n",
       "      <td>7730</td>\n",
       "      <td>1862.0</td>\n",
       "      <td>FC Lausanne-Sports</td>\n",
       "      <td>LAU</td>\n",
       "    </tr>\n",
       "    <tr>\n",
       "      <th>298</th>\n",
       "      <td>51606</td>\n",
       "      <td>7896</td>\n",
       "      <td>NaN</td>\n",
       "      <td>Lugano</td>\n",
       "      <td>LUG</td>\n",
       "    </tr>\n",
       "  </tbody>\n",
       "</table>\n",
       "<p>299 rows × 5 columns</p>\n",
       "</div>"
      ],
      "text/plain": [
       "        id  team_api_id  team_fifa_api_id      team_long_name team_short_name\n",
       "0        1         9987             673.0            KRC Genk             GEN\n",
       "1        2         9993             675.0        Beerschot AC             BAC\n",
       "2        3        10000           15005.0    SV Zulte-Waregem             ZUL\n",
       "3        4         9994            2007.0    Sporting Lokeren             LOK\n",
       "4        5         9984            1750.0   KSV Cercle Brugge             CEB\n",
       "..     ...          ...               ...                 ...             ...\n",
       "294  49479        10190             898.0       FC St. Gallen             GAL\n",
       "295  49837        10191            1715.0             FC Thun             THU\n",
       "296  50201         9777             324.0         Servette FC             SER\n",
       "297  50204         7730            1862.0  FC Lausanne-Sports             LAU\n",
       "298  51606         7896               NaN              Lugano             LUG\n",
       "\n",
       "[299 rows x 5 columns]"
      ]
     },
     "execution_count": 33,
     "metadata": {},
     "output_type": "execute_result"
    }
   ],
   "source": [
    "team"
   ]
  },
  {
   "cell_type": "code",
   "execution_count": 34,
   "metadata": {},
   "outputs": [
    {
     "data": {
      "text/html": [
       "<div>\n",
       "<style scoped>\n",
       "    .dataframe tbody tr th:only-of-type {\n",
       "        vertical-align: middle;\n",
       "    }\n",
       "\n",
       "    .dataframe tbody tr th {\n",
       "        vertical-align: top;\n",
       "    }\n",
       "\n",
       "    .dataframe thead th {\n",
       "        text-align: right;\n",
       "    }\n",
       "</style>\n",
       "<table border=\"1\" class=\"dataframe\">\n",
       "  <thead>\n",
       "    <tr style=\"text-align: right;\">\n",
       "      <th></th>\n",
       "      <th>id</th>\n",
       "      <th>country_id</th>\n",
       "      <th>league_id</th>\n",
       "      <th>season</th>\n",
       "      <th>stage</th>\n",
       "      <th>date</th>\n",
       "      <th>match_api_id</th>\n",
       "      <th>home_team_api_id</th>\n",
       "      <th>away_team_api_id</th>\n",
       "      <th>home_team_goal</th>\n",
       "      <th>away_team_goal</th>\n",
       "      <th>B365H</th>\n",
       "      <th>B365D</th>\n",
       "      <th>B365A</th>\n",
       "      <th>league_name</th>\n",
       "      <th>entropy</th>\n",
       "      <th>gini</th>\n",
       "    </tr>\n",
       "  </thead>\n",
       "  <tbody>\n",
       "    <tr>\n",
       "      <th>1728</th>\n",
       "      <td>1729</td>\n",
       "      <td>1729</td>\n",
       "      <td>1729</td>\n",
       "      <td>2008/2009</td>\n",
       "      <td>1</td>\n",
       "      <td>2008-08-17 00:00:00</td>\n",
       "      <td>489042</td>\n",
       "      <td>10260</td>\n",
       "      <td>10261</td>\n",
       "      <td>1</td>\n",
       "      <td>1</td>\n",
       "      <td>1.29</td>\n",
       "      <td>5.5</td>\n",
       "      <td>11.00</td>\n",
       "      <td>England Premier League</td>\n",
       "      <td>0.738980</td>\n",
       "      <td>0.452778</td>\n",
       "    </tr>\n",
       "    <tr>\n",
       "      <th>1729</th>\n",
       "      <td>1730</td>\n",
       "      <td>1729</td>\n",
       "      <td>1729</td>\n",
       "      <td>2008/2009</td>\n",
       "      <td>1</td>\n",
       "      <td>2008-08-16 00:00:00</td>\n",
       "      <td>489043</td>\n",
       "      <td>9825</td>\n",
       "      <td>8659</td>\n",
       "      <td>1</td>\n",
       "      <td>0</td>\n",
       "      <td>1.20</td>\n",
       "      <td>6.5</td>\n",
       "      <td>15.00</td>\n",
       "      <td>England Premier League</td>\n",
       "      <td>0.641186</td>\n",
       "      <td>0.374708</td>\n",
       "    </tr>\n",
       "    <tr>\n",
       "      <th>1730</th>\n",
       "      <td>1731</td>\n",
       "      <td>1729</td>\n",
       "      <td>1729</td>\n",
       "      <td>2008/2009</td>\n",
       "      <td>1</td>\n",
       "      <td>2008-08-16 00:00:00</td>\n",
       "      <td>489044</td>\n",
       "      <td>8472</td>\n",
       "      <td>8650</td>\n",
       "      <td>0</td>\n",
       "      <td>1</td>\n",
       "      <td>5.50</td>\n",
       "      <td>3.6</td>\n",
       "      <td>1.67</td>\n",
       "      <td>England Premier League</td>\n",
       "      <td>0.975928</td>\n",
       "      <td>0.970490</td>\n",
       "    </tr>\n",
       "    <tr>\n",
       "      <th>1731</th>\n",
       "      <td>1732</td>\n",
       "      <td>1729</td>\n",
       "      <td>1729</td>\n",
       "      <td>2008/2009</td>\n",
       "      <td>1</td>\n",
       "      <td>2008-08-16 00:00:00</td>\n",
       "      <td>489045</td>\n",
       "      <td>8654</td>\n",
       "      <td>8528</td>\n",
       "      <td>2</td>\n",
       "      <td>1</td>\n",
       "      <td>1.91</td>\n",
       "      <td>3.4</td>\n",
       "      <td>4.20</td>\n",
       "      <td>England Premier League</td>\n",
       "      <td>1.039730</td>\n",
       "      <td>0.754081</td>\n",
       "    </tr>\n",
       "    <tr>\n",
       "      <th>1732</th>\n",
       "      <td>1733</td>\n",
       "      <td>1729</td>\n",
       "      <td>1729</td>\n",
       "      <td>2008/2009</td>\n",
       "      <td>1</td>\n",
       "      <td>2008-08-17 00:00:00</td>\n",
       "      <td>489046</td>\n",
       "      <td>10252</td>\n",
       "      <td>8456</td>\n",
       "      <td>4</td>\n",
       "      <td>2</td>\n",
       "      <td>1.91</td>\n",
       "      <td>3.4</td>\n",
       "      <td>4.33</td>\n",
       "      <td>England Premier League</td>\n",
       "      <td>1.036584</td>\n",
       "      <td>0.750717</td>\n",
       "    </tr>\n",
       "  </tbody>\n",
       "</table>\n",
       "</div>"
      ],
      "text/plain": [
       "        id  country_id  league_id     season  stage                 date  \\\n",
       "1728  1729        1729       1729  2008/2009      1  2008-08-17 00:00:00   \n",
       "1729  1730        1729       1729  2008/2009      1  2008-08-16 00:00:00   \n",
       "1730  1731        1729       1729  2008/2009      1  2008-08-16 00:00:00   \n",
       "1731  1732        1729       1729  2008/2009      1  2008-08-16 00:00:00   \n",
       "1732  1733        1729       1729  2008/2009      1  2008-08-17 00:00:00   \n",
       "\n",
       "      match_api_id  home_team_api_id  away_team_api_id  home_team_goal  \\\n",
       "1728        489042             10260             10261               1   \n",
       "1729        489043              9825              8659               1   \n",
       "1730        489044              8472              8650               0   \n",
       "1731        489045              8654              8528               2   \n",
       "1732        489046             10252              8456               4   \n",
       "\n",
       "      away_team_goal  B365H  B365D  B365A             league_name   entropy  \\\n",
       "1728               1   1.29    5.5  11.00  England Premier League  0.738980   \n",
       "1729               0   1.20    6.5  15.00  England Premier League  0.641186   \n",
       "1730               1   5.50    3.6   1.67  England Premier League  0.975928   \n",
       "1731               1   1.91    3.4   4.20  England Premier League  1.039730   \n",
       "1732               2   1.91    3.4   4.33  England Premier League  1.036584   \n",
       "\n",
       "          gini  \n",
       "1728  0.452778  \n",
       "1729  0.374708  \n",
       "1730  0.970490  \n",
       "1731  0.754081  \n",
       "1732  0.750717  "
      ]
     },
     "execution_count": 34,
     "metadata": {},
     "output_type": "execute_result"
    }
   ],
   "source": [
    "match.head(5)"
   ]
  },
  {
   "cell_type": "code",
   "execution_count": 35,
   "metadata": {},
   "outputs": [
    {
     "data": {
      "text/html": [
       "<div>\n",
       "<style scoped>\n",
       "    .dataframe tbody tr th:only-of-type {\n",
       "        vertical-align: middle;\n",
       "    }\n",
       "\n",
       "    .dataframe tbody tr th {\n",
       "        vertical-align: top;\n",
       "    }\n",
       "\n",
       "    .dataframe thead th {\n",
       "        text-align: right;\n",
       "    }\n",
       "</style>\n",
       "<table border=\"1\" class=\"dataframe\">\n",
       "  <thead>\n",
       "    <tr style=\"text-align: right;\">\n",
       "      <th></th>\n",
       "      <th>id</th>\n",
       "      <th>team_api_id</th>\n",
       "      <th>team_fifa_api_id</th>\n",
       "      <th>team_long_name</th>\n",
       "      <th>team_short_name</th>\n",
       "    </tr>\n",
       "  </thead>\n",
       "  <tbody>\n",
       "    <tr>\n",
       "      <th>0</th>\n",
       "      <td>1</td>\n",
       "      <td>9987</td>\n",
       "      <td>673.0</td>\n",
       "      <td>KRC Genk</td>\n",
       "      <td>GEN</td>\n",
       "    </tr>\n",
       "    <tr>\n",
       "      <th>1</th>\n",
       "      <td>2</td>\n",
       "      <td>9993</td>\n",
       "      <td>675.0</td>\n",
       "      <td>Beerschot AC</td>\n",
       "      <td>BAC</td>\n",
       "    </tr>\n",
       "    <tr>\n",
       "      <th>2</th>\n",
       "      <td>3</td>\n",
       "      <td>10000</td>\n",
       "      <td>15005.0</td>\n",
       "      <td>SV Zulte-Waregem</td>\n",
       "      <td>ZUL</td>\n",
       "    </tr>\n",
       "    <tr>\n",
       "      <th>3</th>\n",
       "      <td>4</td>\n",
       "      <td>9994</td>\n",
       "      <td>2007.0</td>\n",
       "      <td>Sporting Lokeren</td>\n",
       "      <td>LOK</td>\n",
       "    </tr>\n",
       "    <tr>\n",
       "      <th>4</th>\n",
       "      <td>5</td>\n",
       "      <td>9984</td>\n",
       "      <td>1750.0</td>\n",
       "      <td>KSV Cercle Brugge</td>\n",
       "      <td>CEB</td>\n",
       "    </tr>\n",
       "  </tbody>\n",
       "</table>\n",
       "</div>"
      ],
      "text/plain": [
       "   id  team_api_id  team_fifa_api_id     team_long_name team_short_name\n",
       "0   1         9987             673.0           KRC Genk             GEN\n",
       "1   2         9993             675.0       Beerschot AC             BAC\n",
       "2   3        10000           15005.0   SV Zulte-Waregem             ZUL\n",
       "3   4         9994            2007.0   Sporting Lokeren             LOK\n",
       "4   5         9984            1750.0  KSV Cercle Brugge             CEB"
      ]
     },
     "execution_count": 35,
     "metadata": {},
     "output_type": "execute_result"
    }
   ],
   "source": [
    "team.head()"
   ]
  },
  {
   "cell_type": "code",
   "execution_count": 36,
   "metadata": {},
   "outputs": [],
   "source": [
    "match['home_team'] = match['home_team_api_id'].apply(lambda x : team[team['team_api_id'] == x].team_long_name.values[0])\n",
    "match['away_team'] = match['away_team_api_id'].apply(lambda x : team[team['team_api_id'] == x].team_long_name.values[0])\n",
    "match['country'] = match['country_id'].apply(lambda x : countries[countries['id'] == x].name.values[0])"
   ]
  },
  {
   "cell_type": "code",
   "execution_count": 37,
   "metadata": {},
   "outputs": [],
   "source": [
    "league_value = match['league_name'].unique()\n",
    "countries_value = match['country'].unique()\n",
    "season_value = match['season'].unique() "
   ]
  },
  {
   "cell_type": "code",
   "execution_count": 38,
   "metadata": {},
   "outputs": [
    {
     "data": {
      "text/plain": [
       "array(['England', 'France', 'Germany', 'Italy', 'Netherlands', 'Portugal',\n",
       "       'Spain'], dtype=object)"
      ]
     },
     "execution_count": 38,
     "metadata": {},
     "output_type": "execute_result"
    }
   ],
   "source": [
    "countries_value"
   ]
  },
  {
   "cell_type": "code",
   "execution_count": 39,
   "metadata": {},
   "outputs": [
    {
     "data": {
      "text/plain": [
       "array(['England Premier League', 'France Ligue 1',\n",
       "       'Germany 1. Bundesliga', 'Italy Serie A', 'Netherlands Eredivisie',\n",
       "       'Portugal Liga ZON Sagres', 'Spain LIGA BBVA'], dtype=object)"
      ]
     },
     "execution_count": 39,
     "metadata": {},
     "output_type": "execute_result"
    }
   ],
   "source": [
    "league_value"
   ]
  },
  {
   "cell_type": "code",
   "execution_count": 40,
   "metadata": {},
   "outputs": [
    {
     "data": {
      "text/plain": [
       "array(['2008/2009', '2009/2010', '2010/2011', '2011/2012', '2012/2013',\n",
       "       '2013/2014', '2014/2015', '2015/2016'], dtype=object)"
      ]
     },
     "execution_count": 40,
     "metadata": {},
     "output_type": "execute_result"
    }
   ],
   "source": [
    "season_value"
   ]
  },
  {
   "cell_type": "code",
   "execution_count": 41,
   "metadata": {},
   "outputs": [],
   "source": [
    "def team_predict(match,league_value,season_value):\n",
    "    d = []\n",
    "    df_league_team_season = []\n",
    "    # Pour chaque league\n",
    "    for l in league_value :\n",
    "        # Pour chaque saison\n",
    "        for s in season_value : \n",
    "            df_league_team_season.append(match[ ( match['league_name'] == l ) & (match['season'] == s) ])\n",
    "            # on recupere les equipes de la ligue\n",
    "            team_season = match[ ( match['league_name'] == l ) & (match['season'] == s) ]['home_team'].unique()\n",
    "            match_season = match[ ( match['league_name'] == l ) & (match['season'] == s) ]\n",
    "            # Pour chaque equipe\n",
    "            #print(team_season)\n",
    "            for ekip in team_season : \n",
    "                entropy_equip = float(match_season[(['home_team'] == ekip ) | (match_season['away_team'] == ekip) ]['entropy'].mean())\n",
    "                gini_equip = float(match_season[(match_season['home_team'] == ekip) | (match_season['away_team'] == ekip) ]['gini'].mean())\n",
    "                d.append({\n",
    "                            'League': l,\n",
    "                            'Team': ekip,\n",
    "                            'Season': s,\n",
    "                            'entropy':  entropy_equip,\n",
    "                            'gini' : gini_equip\n",
    "                        })\n",
    "\n",
    "    return pd.DataFrame(d)\n",
    "        "
   ]
  },
  {
   "cell_type": "code",
   "execution_count": 42,
   "metadata": {},
   "outputs": [
    {
     "data": {
      "text/plain": [
       "(1060, 5)"
      ]
     },
     "execution_count": 42,
     "metadata": {},
     "output_type": "execute_result"
    }
   ],
   "source": [
    "d = team_predict(match,league_value,season_value)\n",
    "d.shape"
   ]
  },
  {
   "cell_type": "code",
   "execution_count": 43,
   "metadata": {},
   "outputs": [
    {
     "name": "stdout",
     "output_type": "stream",
     "text": [
      "                    League               Team     Season   entropy      gini\n",
      "0   England Premier League  Manchester United  2008/2009  0.943305  0.714776\n",
      "1   England Premier League            Arsenal  2008/2009  0.996960  0.746184\n",
      "2   England Premier League         Sunderland  2008/2009  0.970833  0.776997\n",
      "3   England Premier League    West Ham United  2008/2009  0.991150  0.779474\n",
      "4   England Premier League        Aston Villa  2008/2009  1.035199  0.778353\n",
      "..                     ...                ...        ...       ...       ...\n",
      "95  England Premier League  Tottenham Hotspur  2012/2013  1.040718  0.763319\n",
      "96  England Premier League        Aston Villa  2012/2013  0.937973  0.766834\n",
      "97  England Premier League            Chelsea  2012/2013  1.028543  0.741515\n",
      "98  England Premier League        Southampton  2012/2013  0.944649  0.759672\n",
      "99  England Premier League         Stoke City  2012/2013  0.979518  0.770967\n",
      "\n",
      "[100 rows x 5 columns]\n"
     ]
    }
   ],
   "source": [
    "print(d.head(100))"
   ]
  },
  {
   "cell_type": "code",
   "execution_count": 44,
   "metadata": {},
   "outputs": [],
   "source": [
    "def rankTeam(d, season,nfirst):\n",
    "    df = d[d['Season'] == season]\n",
    "    df = df.groupby(['Team','League','Season']).agg({'entropy': {lambda x: x.mean()},\n",
    "                                                         'gini':{lambda x: x.mean()},\n",
    "                                                       },axis=1)\n",
    "    df.columns = df.columns.droplevel(1)\n",
    "    small_df = df.nsmallest(nfirst, 'entropy')\n",
    "    small_df = small_df.reset_index()\n",
    "    return small_df\n",
    "\n",
    "sr = d['Season'].unique()\n",
    "season_rank_team = []\n",
    "for s in sr: \n",
    "    season_rank_team.append(rankTeam(d,s,20))"
   ]
  },
  {
   "cell_type": "code",
   "execution_count": 45,
   "metadata": {},
   "outputs": [],
   "source": [
    "top_team = season_rank_team[0]\n",
    "for df in range(1,len(season_rank_team)):\n",
    "                top_team = pd.concat([top_team,season_rank_team[df]])\n",
    "top_team['Country'] = top_team['League'].apply(lambda x : x.split()[0])"
   ]
  },
  {
   "cell_type": "code",
   "execution_count": 46,
   "metadata": {},
   "outputs": [
    {
     "data": {
      "text/html": [
       "<div>\n",
       "<style scoped>\n",
       "    .dataframe tbody tr th:only-of-type {\n",
       "        vertical-align: middle;\n",
       "    }\n",
       "\n",
       "    .dataframe tbody tr th {\n",
       "        vertical-align: top;\n",
       "    }\n",
       "\n",
       "    .dataframe thead th {\n",
       "        text-align: right;\n",
       "    }\n",
       "</style>\n",
       "<table border=\"1\" class=\"dataframe\">\n",
       "  <thead>\n",
       "    <tr style=\"text-align: right;\">\n",
       "      <th></th>\n",
       "      <th>Team</th>\n",
       "      <th>League</th>\n",
       "      <th>Season</th>\n",
       "      <th>entropy</th>\n",
       "      <th>gini</th>\n",
       "      <th>Country</th>\n",
       "    </tr>\n",
       "  </thead>\n",
       "  <tbody>\n",
       "    <tr>\n",
       "      <th>0</th>\n",
       "      <td>FC Volendam</td>\n",
       "      <td>Netherlands Eredivisie</td>\n",
       "      <td>2008/2009</td>\n",
       "      <td>0.835105</td>\n",
       "      <td>0.733413</td>\n",
       "      <td>Netherlands</td>\n",
       "    </tr>\n",
       "    <tr>\n",
       "      <th>1</th>\n",
       "      <td>De Graafschap</td>\n",
       "      <td>Netherlands Eredivisie</td>\n",
       "      <td>2008/2009</td>\n",
       "      <td>0.886308</td>\n",
       "      <td>0.754026</td>\n",
       "      <td>Netherlands</td>\n",
       "    </tr>\n",
       "    <tr>\n",
       "      <th>2</th>\n",
       "      <td>FC Energie Cottbus</td>\n",
       "      <td>Germany 1. Bundesliga</td>\n",
       "      <td>2008/2009</td>\n",
       "      <td>0.893372</td>\n",
       "      <td>0.747231</td>\n",
       "      <td>Germany</td>\n",
       "    </tr>\n",
       "    <tr>\n",
       "      <th>3</th>\n",
       "      <td>ADO Den Haag</td>\n",
       "      <td>Netherlands Eredivisie</td>\n",
       "      <td>2008/2009</td>\n",
       "      <td>0.894987</td>\n",
       "      <td>0.745058</td>\n",
       "      <td>Netherlands</td>\n",
       "    </tr>\n",
       "    <tr>\n",
       "      <th>4</th>\n",
       "      <td>Stoke City</td>\n",
       "      <td>England Premier League</td>\n",
       "      <td>2008/2009</td>\n",
       "      <td>0.908132</td>\n",
       "      <td>0.758103</td>\n",
       "      <td>England</td>\n",
       "    </tr>\n",
       "    <tr>\n",
       "      <th>...</th>\n",
       "      <td>...</td>\n",
       "      <td>...</td>\n",
       "      <td>...</td>\n",
       "      <td>...</td>\n",
       "      <td>...</td>\n",
       "      <td>...</td>\n",
       "    </tr>\n",
       "    <tr>\n",
       "      <th>15</th>\n",
       "      <td>Borussia Dortmund</td>\n",
       "      <td>Germany 1. Bundesliga</td>\n",
       "      <td>2015/2016</td>\n",
       "      <td>0.911551</td>\n",
       "      <td>0.705851</td>\n",
       "      <td>Germany</td>\n",
       "    </tr>\n",
       "    <tr>\n",
       "      <th>16</th>\n",
       "      <td>Carpi</td>\n",
       "      <td>Italy Serie A</td>\n",
       "      <td>2015/2016</td>\n",
       "      <td>0.914134</td>\n",
       "      <td>0.755672</td>\n",
       "      <td>Italy</td>\n",
       "    </tr>\n",
       "    <tr>\n",
       "      <th>17</th>\n",
       "      <td>Aston Villa</td>\n",
       "      <td>England Premier League</td>\n",
       "      <td>2015/2016</td>\n",
       "      <td>0.914290</td>\n",
       "      <td>0.772457</td>\n",
       "      <td>England</td>\n",
       "    </tr>\n",
       "    <tr>\n",
       "      <th>18</th>\n",
       "      <td>Granada CF</td>\n",
       "      <td>Spain LIGA BBVA</td>\n",
       "      <td>2015/2016</td>\n",
       "      <td>0.914531</td>\n",
       "      <td>0.752897</td>\n",
       "      <td>Spain</td>\n",
       "    </tr>\n",
       "    <tr>\n",
       "      <th>19</th>\n",
       "      <td>Tondela</td>\n",
       "      <td>Portugal Liga ZON Sagres</td>\n",
       "      <td>2015/2016</td>\n",
       "      <td>0.915062</td>\n",
       "      <td>0.769630</td>\n",
       "      <td>Portugal</td>\n",
       "    </tr>\n",
       "  </tbody>\n",
       "</table>\n",
       "<p>160 rows × 6 columns</p>\n",
       "</div>"
      ],
      "text/plain": [
       "                  Team                    League     Season   entropy  \\\n",
       "0          FC Volendam    Netherlands Eredivisie  2008/2009  0.835105   \n",
       "1        De Graafschap    Netherlands Eredivisie  2008/2009  0.886308   \n",
       "2   FC Energie Cottbus     Germany 1. Bundesliga  2008/2009  0.893372   \n",
       "3         ADO Den Haag    Netherlands Eredivisie  2008/2009  0.894987   \n",
       "4           Stoke City    England Premier League  2008/2009  0.908132   \n",
       "..                 ...                       ...        ...       ...   \n",
       "15   Borussia Dortmund     Germany 1. Bundesliga  2015/2016  0.911551   \n",
       "16               Carpi             Italy Serie A  2015/2016  0.914134   \n",
       "17         Aston Villa    England Premier League  2015/2016  0.914290   \n",
       "18          Granada CF           Spain LIGA BBVA  2015/2016  0.914531   \n",
       "19             Tondela  Portugal Liga ZON Sagres  2015/2016  0.915062   \n",
       "\n",
       "        gini      Country  \n",
       "0   0.733413  Netherlands  \n",
       "1   0.754026  Netherlands  \n",
       "2   0.747231      Germany  \n",
       "3   0.745058  Netherlands  \n",
       "4   0.758103      England  \n",
       "..       ...          ...  \n",
       "15  0.705851      Germany  \n",
       "16  0.755672        Italy  \n",
       "17  0.772457      England  \n",
       "18  0.752897        Spain  \n",
       "19  0.769630     Portugal  \n",
       "\n",
       "[160 rows x 6 columns]"
      ]
     },
     "execution_count": 46,
     "metadata": {},
     "output_type": "execute_result"
    }
   ],
   "source": [
    "top_team"
   ]
  },
  {
   "cell_type": "code",
   "execution_count": 47,
   "metadata": {},
   "outputs": [],
   "source": [
    "groups = top_team.groupby(\"League\")"
   ]
  },
  {
   "cell_type": "code",
   "execution_count": 48,
   "metadata": {},
   "outputs": [
    {
     "data": {
      "image/png": "[encoded data removed]",
      "text/plain": [
       "<Figure size 864x576 with 1 Axes>"
      ]
     },
     "metadata": {
      "needs_background": "light"
     },
     "output_type": "display_data"
    }
   ],
   "source": [
    "# Plot\n",
    "fig, ax = plt.subplots(figsize=(12,8))\n",
    "ax.margins(0.05) # Optional, just adds 5% padding to the autoscaling\n",
    "for name, group in groups:\n",
    "    ax.plot(group['Season'], group['entropy'], marker='o', linestyle='', ms=12, label=name)\n",
    "ax.legend()\n",
    "\n",
    "# Annotation \n",
    "plt.ylabel(\"Entropie\")\n",
    "ax.annotate('Moins prévisible', xy=(7.75, 0.85), annotation_clip=False,fontsize=14,rotation='vertical')\n",
    "ax.annotate('Plus prévisible', xy=(7.75, 0.73), annotation_clip=False,fontsize=14,rotation='vertical')\n",
    "ax.title.set_text('Top 20 des équipes les plus prévisibles par saison selon l\\'entropie')\n",
    "plt.show()"
   ]
  },
  {
   "cell_type": "markdown",
   "metadata": {},
   "source": [
    "Vu le résultat des graphiques précédent, on pouvait avoir l'intuition que les équipes des ligues les plus prévisibles aient une fréquence plus élevé dans ce classement des dix équipes sur chaque saison. On observe bien une majorité de points rose et violet qui appartiennent aux deux ligues les plus prédictables : espagnole et hollandaise"
   ]
  },
  {
   "cell_type": "code",
   "execution_count": 49,
   "metadata": {},
   "outputs": [
    {
     "data": {
      "image/png": "[encoded data removed]",
      "text/plain": [
       "<Figure size 864x576 with 1 Axes>"
      ]
     },
     "metadata": {
      "needs_background": "light"
     },
     "output_type": "display_data"
    }
   ],
   "source": [
    "# Plot\n",
    "fig, ax = plt.subplots(figsize=(12,8))\n",
    "ax.margins(0.05) # Optional, just adds 5% padding to the autoscaling\n",
    "for name, group in groups:\n",
    "    ax.plot(group['Season'], group['gini'], marker='o', linestyle='', ms=12, label=name)\n",
    "ax.legend()\n",
    "\n",
    "# Annotation \n",
    "plt.ylabel(\"Gini\")\n",
    "ax.annotate('Moins prévisible', xy=(7.75, 0.7), annotation_clip=False,fontsize=14,rotation='vertical')\n",
    "ax.annotate('Plus prévisible', xy=(7.75, 0.65), annotation_clip=False,fontsize=14,rotation='vertical')\n",
    "ax.title.set_text('Top 20 des équipes les plus prévisibles par saison selon Gini')\n",
    "plt.show()"
   ]
  },
  {
   "cell_type": "markdown",
   "metadata": {},
   "source": [
    "Même observation que pour l'entropie"
   ]
  },
  {
   "cell_type": "code",
   "execution_count": 50,
   "metadata": {},
   "outputs": [
    {
     "data": {
      "text/plain": [
       "<AxesSubplot:ylabel='League'>"
      ]
     },
     "execution_count": 50,
     "metadata": {},
     "output_type": "execute_result"
    },
    {
     "data": {
      "image/png": "[encoded data removed]",
      "text/plain": [
       "<Figure size 432x288 with 1 Axes>"
      ]
     },
     "metadata": {},
     "output_type": "display_data"
    }
   ],
   "source": [
    "top_team['League'].value_counts().plot(kind='pie',autopct='%.2f')"
   ]
  },
  {
   "cell_type": "markdown",
   "metadata": {},
   "source": [
    "Les top  équipes sont représentatifs des résultat qu'on à trouvé à la question précédente, c'est à dire une part importante d'équipe qui font partie de la ligue espagnol et hollandaise qui compte au moins le double d'équipe par rapport aux autres"
   ]
  },
  {
   "cell_type": "markdown",
   "metadata": {},
   "source": [
    "## Réponse a la sous question  "
   ]
  },
  {
   "cell_type": "markdown",
   "metadata": {},
   "source": [
    "A la question quelle est la representation des ligues dans les top equipes les plus prédictables, nous trouvons que la ligue espagnole et la ligue hollandaise domine le classement avec presque 1/2 des équipes à eux deux."
   ]
  },
  {
   "cell_type": "markdown",
   "metadata": {},
   "source": [
    "# Conclusion"
   ]
  },
  {
   "cell_type": "markdown",
   "metadata": {},
   "source": [
    "A la question quelles ligues sont les plus prédictables : nous pouvons répondre la ligue espagnole et la ligue hollandaise sont les ligues les plus prévisibles car elles se retrouvent dans le top des ligues prédictable à chaque saison. De plus, à eux d'eux,  elles constituent presque la moitié des équipe les prédictables dans le top 20 des équipes les plus prédictables toutes époques confondues. Cependant, la ligue française reste la pire en terme de prédiction."
   ]
  }
 ],
 "metadata": {
  "kernelspec": {
   "display_name": "Python 3",
   "language": "python",
   "name": "python3"
  },
  "language_info": {
   "codemirror_mode": {
    "name": "ipython",
    "version": 3
   },
   "file_extension": ".py",
   "mimetype": "text/x-python",
   "name": "python",
   "nbconvert_exporter": "python",
   "pygments_lexer": "ipython3",
   "version": "3.8.5"
  }
 },
 "nbformat": 4,
 "nbformat_minor": 4
}
