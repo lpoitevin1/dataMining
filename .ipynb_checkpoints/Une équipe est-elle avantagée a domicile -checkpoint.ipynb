{
 "cells": [
  {
   "cell_type": "markdown",
   "metadata": {},
   "source": [
    "# Question : Une equipe est-elle favorisée à domicile ? "
   ]
  },
  {
   "cell_type": "markdown",
   "metadata": {},
   "source": [
    "But : On cherche à savoir si une équipe à un certain avantage de jouer à domicile plutôt que à l'exterieur. On va donc faire une étude statistique sur les critères a analyser pour les points suivants : "
   ]
  },
  {
   "cell_type": "markdown",
   "metadata": {},
   "source": [
    "### Sommaire"
   ]
  },
  {
   "cell_type": "markdown",
   "metadata": {},
   "source": [
    "* Une équipe a-t-elle plus de chance de gagner à domicile que à l'exterieur ?\n",
    "* Est ce que les équipes marquent/prennent d'avantage buts à domicile ou à l'exterieur\n",
    "* L'arbitrage a-t-il tendance a favoriser les équipes a domicile ?"
   ]
  },
  {
   "cell_type": "markdown",
   "metadata": {},
   "source": [
    "# Import des package"
   ]
  },
  {
   "cell_type": "code",
   "execution_count": 1,
   "metadata": {},
   "outputs": [],
   "source": [
    "import pandas as pd\n",
    "import numpy as np\n",
    "import matplotlib.pyplot as plt\n",
    "import seaborn as sns\n",
    "import sqlite3\n",
    "from math import pi"
   ]
  },
  {
   "cell_type": "markdown",
   "metadata": {},
   "source": [
    "# Import des données"
   ]
  },
  {
   "cell_type": "code",
   "execution_count": 2,
   "metadata": {},
   "outputs": [],
   "source": [
    "conn = sqlite3.connect('data/database.sqlite')"
   ]
  },
  {
   "cell_type": "code",
   "execution_count": 3,
   "metadata": {},
   "outputs": [],
   "source": [
    "df = pd.read_sql_query(\"SELECT * FROM Match\", conn)"
   ]
  },
  {
   "cell_type": "code",
   "execution_count": 4,
   "metadata": {},
   "outputs": [
    {
     "data": {
      "text/html": [
       "<div>\n",
       "<style scoped>\n",
       "    .dataframe tbody tr th:only-of-type {\n",
       "        vertical-align: middle;\n",
       "    }\n",
       "\n",
       "    .dataframe tbody tr th {\n",
       "        vertical-align: top;\n",
       "    }\n",
       "\n",
       "    .dataframe thead th {\n",
       "        text-align: right;\n",
       "    }\n",
       "</style>\n",
       "<table border=\"1\" class=\"dataframe\">\n",
       "  <thead>\n",
       "    <tr style=\"text-align: right;\">\n",
       "      <th></th>\n",
       "      <th>id</th>\n",
       "      <th>country_id</th>\n",
       "      <th>league_id</th>\n",
       "      <th>season</th>\n",
       "      <th>stage</th>\n",
       "      <th>date</th>\n",
       "      <th>match_api_id</th>\n",
       "      <th>home_team_api_id</th>\n",
       "      <th>away_team_api_id</th>\n",
       "      <th>home_team_goal</th>\n",
       "      <th>...</th>\n",
       "      <th>SJA</th>\n",
       "      <th>VCH</th>\n",
       "      <th>VCD</th>\n",
       "      <th>VCA</th>\n",
       "      <th>GBH</th>\n",
       "      <th>GBD</th>\n",
       "      <th>GBA</th>\n",
       "      <th>BSH</th>\n",
       "      <th>BSD</th>\n",
       "      <th>BSA</th>\n",
       "    </tr>\n",
       "  </thead>\n",
       "  <tbody>\n",
       "    <tr>\n",
       "      <th>0</th>\n",
       "      <td>1</td>\n",
       "      <td>1</td>\n",
       "      <td>1</td>\n",
       "      <td>2008/2009</td>\n",
       "      <td>1</td>\n",
       "      <td>2008-08-17 00:00:00</td>\n",
       "      <td>492473</td>\n",
       "      <td>9987</td>\n",
       "      <td>9993</td>\n",
       "      <td>1</td>\n",
       "      <td>...</td>\n",
       "      <td>4.00</td>\n",
       "      <td>1.65</td>\n",
       "      <td>3.40</td>\n",
       "      <td>4.50</td>\n",
       "      <td>1.78</td>\n",
       "      <td>3.25</td>\n",
       "      <td>4.00</td>\n",
       "      <td>1.73</td>\n",
       "      <td>3.40</td>\n",
       "      <td>4.20</td>\n",
       "    </tr>\n",
       "    <tr>\n",
       "      <th>1</th>\n",
       "      <td>2</td>\n",
       "      <td>1</td>\n",
       "      <td>1</td>\n",
       "      <td>2008/2009</td>\n",
       "      <td>1</td>\n",
       "      <td>2008-08-16 00:00:00</td>\n",
       "      <td>492474</td>\n",
       "      <td>10000</td>\n",
       "      <td>9994</td>\n",
       "      <td>0</td>\n",
       "      <td>...</td>\n",
       "      <td>3.80</td>\n",
       "      <td>2.00</td>\n",
       "      <td>3.25</td>\n",
       "      <td>3.25</td>\n",
       "      <td>1.85</td>\n",
       "      <td>3.25</td>\n",
       "      <td>3.75</td>\n",
       "      <td>1.91</td>\n",
       "      <td>3.25</td>\n",
       "      <td>3.60</td>\n",
       "    </tr>\n",
       "    <tr>\n",
       "      <th>2</th>\n",
       "      <td>3</td>\n",
       "      <td>1</td>\n",
       "      <td>1</td>\n",
       "      <td>2008/2009</td>\n",
       "      <td>1</td>\n",
       "      <td>2008-08-16 00:00:00</td>\n",
       "      <td>492475</td>\n",
       "      <td>9984</td>\n",
       "      <td>8635</td>\n",
       "      <td>0</td>\n",
       "      <td>...</td>\n",
       "      <td>2.50</td>\n",
       "      <td>2.35</td>\n",
       "      <td>3.25</td>\n",
       "      <td>2.65</td>\n",
       "      <td>2.50</td>\n",
       "      <td>3.20</td>\n",
       "      <td>2.50</td>\n",
       "      <td>2.30</td>\n",
       "      <td>3.20</td>\n",
       "      <td>2.75</td>\n",
       "    </tr>\n",
       "    <tr>\n",
       "      <th>3</th>\n",
       "      <td>4</td>\n",
       "      <td>1</td>\n",
       "      <td>1</td>\n",
       "      <td>2008/2009</td>\n",
       "      <td>1</td>\n",
       "      <td>2008-08-17 00:00:00</td>\n",
       "      <td>492476</td>\n",
       "      <td>9991</td>\n",
       "      <td>9998</td>\n",
       "      <td>5</td>\n",
       "      <td>...</td>\n",
       "      <td>7.50</td>\n",
       "      <td>1.45</td>\n",
       "      <td>3.75</td>\n",
       "      <td>6.50</td>\n",
       "      <td>1.50</td>\n",
       "      <td>3.75</td>\n",
       "      <td>5.50</td>\n",
       "      <td>1.44</td>\n",
       "      <td>3.75</td>\n",
       "      <td>6.50</td>\n",
       "    </tr>\n",
       "    <tr>\n",
       "      <th>4</th>\n",
       "      <td>5</td>\n",
       "      <td>1</td>\n",
       "      <td>1</td>\n",
       "      <td>2008/2009</td>\n",
       "      <td>1</td>\n",
       "      <td>2008-08-16 00:00:00</td>\n",
       "      <td>492477</td>\n",
       "      <td>7947</td>\n",
       "      <td>9985</td>\n",
       "      <td>1</td>\n",
       "      <td>...</td>\n",
       "      <td>1.73</td>\n",
       "      <td>4.50</td>\n",
       "      <td>3.40</td>\n",
       "      <td>1.65</td>\n",
       "      <td>4.50</td>\n",
       "      <td>3.50</td>\n",
       "      <td>1.65</td>\n",
       "      <td>4.75</td>\n",
       "      <td>3.30</td>\n",
       "      <td>1.67</td>\n",
       "    </tr>\n",
       "  </tbody>\n",
       "</table>\n",
       "<p>5 rows × 115 columns</p>\n",
       "</div>"
      ],
      "text/plain": [
       "   id  country_id  league_id     season  stage                 date  \\\n",
       "0   1           1          1  2008/2009      1  2008-08-17 00:00:00   \n",
       "1   2           1          1  2008/2009      1  2008-08-16 00:00:00   \n",
       "2   3           1          1  2008/2009      1  2008-08-16 00:00:00   \n",
       "3   4           1          1  2008/2009      1  2008-08-17 00:00:00   \n",
       "4   5           1          1  2008/2009      1  2008-08-16 00:00:00   \n",
       "\n",
       "   match_api_id  home_team_api_id  away_team_api_id  home_team_goal  ...  \\\n",
       "0        492473              9987              9993               1  ...   \n",
       "1        492474             10000              9994               0  ...   \n",
       "2        492475              9984              8635               0  ...   \n",
       "3        492476              9991              9998               5  ...   \n",
       "4        492477              7947              9985               1  ...   \n",
       "\n",
       "    SJA   VCH   VCD   VCA   GBH   GBD   GBA   BSH   BSD   BSA  \n",
       "0  4.00  1.65  3.40  4.50  1.78  3.25  4.00  1.73  3.40  4.20  \n",
       "1  3.80  2.00  3.25  3.25  1.85  3.25  3.75  1.91  3.25  3.60  \n",
       "2  2.50  2.35  3.25  2.65  2.50  3.20  2.50  2.30  3.20  2.75  \n",
       "3  7.50  1.45  3.75  6.50  1.50  3.75  5.50  1.44  3.75  6.50  \n",
       "4  1.73  4.50  3.40  1.65  4.50  3.50  1.65  4.75  3.30  1.67  \n",
       "\n",
       "[5 rows x 115 columns]"
      ]
     },
     "execution_count": 4,
     "metadata": {},
     "output_type": "execute_result"
    }
   ],
   "source": [
    "df.head()"
   ]
  },
  {
   "cell_type": "markdown",
   "metadata": {},
   "source": [
    "# Preprocessing"
   ]
  },
  {
   "cell_type": "code",
   "execution_count": 5,
   "metadata": {},
   "outputs": [
    {
     "data": {
      "text/plain": [
       "(25979, 115)"
      ]
     },
     "execution_count": 5,
     "metadata": {},
     "output_type": "execute_result"
    }
   ],
   "source": [
    "df.shape"
   ]
  },
  {
   "cell_type": "code",
   "execution_count": 6,
   "metadata": {},
   "outputs": [
    {
     "data": {
      "text/plain": [
       "array(['id', 'country_id', 'league_id', 'season', 'stage', 'date',\n",
       "       'match_api_id', 'home_team_api_id', 'away_team_api_id',\n",
       "       'home_team_goal', 'away_team_goal', 'home_player_X1',\n",
       "       'home_player_X2', 'home_player_X3', 'home_player_X4',\n",
       "       'home_player_X5', 'home_player_X6', 'home_player_X7',\n",
       "       'home_player_X8', 'home_player_X9', 'home_player_X10',\n",
       "       'home_player_X11', 'away_player_X1', 'away_player_X2',\n",
       "       'away_player_X3', 'away_player_X4', 'away_player_X5',\n",
       "       'away_player_X6', 'away_player_X7', 'away_player_X8',\n",
       "       'away_player_X9', 'away_player_X10', 'away_player_X11',\n",
       "       'home_player_Y1', 'home_player_Y2', 'home_player_Y3',\n",
       "       'home_player_Y4', 'home_player_Y5', 'home_player_Y6',\n",
       "       'home_player_Y7', 'home_player_Y8', 'home_player_Y9',\n",
       "       'home_player_Y10', 'home_player_Y11', 'away_player_Y1',\n",
       "       'away_player_Y2', 'away_player_Y3', 'away_player_Y4',\n",
       "       'away_player_Y5', 'away_player_Y6', 'away_player_Y7',\n",
       "       'away_player_Y8', 'away_player_Y9', 'away_player_Y10',\n",
       "       'away_player_Y11', 'home_player_1', 'home_player_2',\n",
       "       'home_player_3', 'home_player_4', 'home_player_5', 'home_player_6',\n",
       "       'home_player_7', 'home_player_8', 'home_player_9',\n",
       "       'home_player_10', 'home_player_11', 'away_player_1',\n",
       "       'away_player_2', 'away_player_3', 'away_player_4', 'away_player_5',\n",
       "       'away_player_6', 'away_player_7', 'away_player_8', 'away_player_9',\n",
       "       'away_player_10', 'away_player_11', 'goal', 'shoton', 'shotoff',\n",
       "       'foulcommit', 'card', 'cross', 'corner', 'possession', 'B365H',\n",
       "       'B365D', 'B365A', 'BWH', 'BWD', 'BWA', 'IWH', 'IWD', 'IWA', 'LBH',\n",
       "       'LBD', 'LBA', 'PSH', 'PSD', 'PSA', 'WHH', 'WHD', 'WHA', 'SJH',\n",
       "       'SJD', 'SJA', 'VCH', 'VCD', 'VCA', 'GBH', 'GBD', 'GBA', 'BSH',\n",
       "       'BSD', 'BSA'], dtype=object)"
      ]
     },
     "execution_count": 6,
     "metadata": {},
     "output_type": "execute_result"
    }
   ],
   "source": [
    "df.columns.values"
   ]
  },
  {
   "cell_type": "code",
   "execution_count": 7,
   "metadata": {},
   "outputs": [],
   "source": [
    "col_selection = ['country_id', 'league_id', 'season', 'date', 'match_api_id',\n",
    "       'home_team_api_id', 'away_team_api_id', 'home_team_goal', 'away_team_goal']\n",
    "match = df[col_selection]"
   ]
  },
  {
   "cell_type": "code",
   "execution_count": 8,
   "metadata": {},
   "outputs": [
    {
     "data": {
      "text/html": [
       "<div>\n",
       "<style scoped>\n",
       "    .dataframe tbody tr th:only-of-type {\n",
       "        vertical-align: middle;\n",
       "    }\n",
       "\n",
       "    .dataframe tbody tr th {\n",
       "        vertical-align: top;\n",
       "    }\n",
       "\n",
       "    .dataframe thead th {\n",
       "        text-align: right;\n",
       "    }\n",
       "</style>\n",
       "<table border=\"1\" class=\"dataframe\">\n",
       "  <thead>\n",
       "    <tr style=\"text-align: right;\">\n",
       "      <th></th>\n",
       "      <th>country_id</th>\n",
       "      <th>league_id</th>\n",
       "      <th>season</th>\n",
       "      <th>date</th>\n",
       "      <th>match_api_id</th>\n",
       "      <th>home_team_api_id</th>\n",
       "      <th>away_team_api_id</th>\n",
       "      <th>home_team_goal</th>\n",
       "      <th>away_team_goal</th>\n",
       "    </tr>\n",
       "  </thead>\n",
       "  <tbody>\n",
       "    <tr>\n",
       "      <th>0</th>\n",
       "      <td>1</td>\n",
       "      <td>1</td>\n",
       "      <td>2008/2009</td>\n",
       "      <td>2008-08-17 00:00:00</td>\n",
       "      <td>492473</td>\n",
       "      <td>9987</td>\n",
       "      <td>9993</td>\n",
       "      <td>1</td>\n",
       "      <td>1</td>\n",
       "    </tr>\n",
       "    <tr>\n",
       "      <th>1</th>\n",
       "      <td>1</td>\n",
       "      <td>1</td>\n",
       "      <td>2008/2009</td>\n",
       "      <td>2008-08-16 00:00:00</td>\n",
       "      <td>492474</td>\n",
       "      <td>10000</td>\n",
       "      <td>9994</td>\n",
       "      <td>0</td>\n",
       "      <td>0</td>\n",
       "    </tr>\n",
       "    <tr>\n",
       "      <th>2</th>\n",
       "      <td>1</td>\n",
       "      <td>1</td>\n",
       "      <td>2008/2009</td>\n",
       "      <td>2008-08-16 00:00:00</td>\n",
       "      <td>492475</td>\n",
       "      <td>9984</td>\n",
       "      <td>8635</td>\n",
       "      <td>0</td>\n",
       "      <td>3</td>\n",
       "    </tr>\n",
       "    <tr>\n",
       "      <th>3</th>\n",
       "      <td>1</td>\n",
       "      <td>1</td>\n",
       "      <td>2008/2009</td>\n",
       "      <td>2008-08-17 00:00:00</td>\n",
       "      <td>492476</td>\n",
       "      <td>9991</td>\n",
       "      <td>9998</td>\n",
       "      <td>5</td>\n",
       "      <td>0</td>\n",
       "    </tr>\n",
       "    <tr>\n",
       "      <th>4</th>\n",
       "      <td>1</td>\n",
       "      <td>1</td>\n",
       "      <td>2008/2009</td>\n",
       "      <td>2008-08-16 00:00:00</td>\n",
       "      <td>492477</td>\n",
       "      <td>7947</td>\n",
       "      <td>9985</td>\n",
       "      <td>1</td>\n",
       "      <td>3</td>\n",
       "    </tr>\n",
       "  </tbody>\n",
       "</table>\n",
       "</div>"
      ],
      "text/plain": [
       "   country_id  league_id     season                 date  match_api_id  \\\n",
       "0           1          1  2008/2009  2008-08-17 00:00:00        492473   \n",
       "1           1          1  2008/2009  2008-08-16 00:00:00        492474   \n",
       "2           1          1  2008/2009  2008-08-16 00:00:00        492475   \n",
       "3           1          1  2008/2009  2008-08-17 00:00:00        492476   \n",
       "4           1          1  2008/2009  2008-08-16 00:00:00        492477   \n",
       "\n",
       "   home_team_api_id  away_team_api_id  home_team_goal  away_team_goal  \n",
       "0              9987              9993               1               1  \n",
       "1             10000              9994               0               0  \n",
       "2              9984              8635               0               3  \n",
       "3              9991              9998               5               0  \n",
       "4              7947              9985               1               3  "
      ]
     },
     "execution_count": 8,
     "metadata": {},
     "output_type": "execute_result"
    }
   ],
   "source": [
    "match.head()"
   ]
  },
  {
   "cell_type": "code",
   "execution_count": 9,
   "metadata": {},
   "outputs": [
    {
     "name": "stdout",
     "output_type": "stream",
     "text": [
      "<class 'pandas.core.frame.DataFrame'>\n",
      "RangeIndex: 25979 entries, 0 to 25978\n",
      "Data columns (total 9 columns):\n",
      " #   Column            Non-Null Count  Dtype \n",
      "---  ------            --------------  ----- \n",
      " 0   country_id        25979 non-null  int64 \n",
      " 1   league_id         25979 non-null  int64 \n",
      " 2   season            25979 non-null  object\n",
      " 3   date              25979 non-null  object\n",
      " 4   match_api_id      25979 non-null  int64 \n",
      " 5   home_team_api_id  25979 non-null  int64 \n",
      " 6   away_team_api_id  25979 non-null  int64 \n",
      " 7   home_team_goal    25979 non-null  int64 \n",
      " 8   away_team_goal    25979 non-null  int64 \n",
      "dtypes: int64(7), object(2)\n",
      "memory usage: 1.8+ MB\n"
     ]
    }
   ],
   "source": [
    "match.info()"
   ]
  },
  {
   "cell_type": "markdown",
   "metadata": {},
   "source": [
    "On constate qu'il n'y a pas de NaN. Il est aussi important d'avoir une vue d'ensemble des elements du dataframe: "
   ]
  },
  {
   "cell_type": "code",
   "execution_count": 10,
   "metadata": {},
   "outputs": [
    {
     "name": "stdout",
     "output_type": "stream",
     "text": [
      "Nombre de matchs: 25979\n"
     ]
    }
   ],
   "source": [
    "print(\"Nombre de matchs: \"+str(len(match)))"
   ]
  },
  {
   "cell_type": "code",
   "execution_count": 11,
   "metadata": {},
   "outputs": [
    {
     "name": "stdout",
     "output_type": "stream",
     "text": [
      "Nombre d'équipe: 299\n"
     ]
    }
   ],
   "source": [
    "print(\"Nombre d'équipe: \"+str(match['away_team_api_id'].nunique()))"
   ]
  },
  {
   "cell_type": "code",
   "execution_count": 12,
   "metadata": {},
   "outputs": [
    {
     "name": "stdout",
     "output_type": "stream",
     "text": [
      "Nombre de saisons: 8\n"
     ]
    }
   ],
   "source": [
    "print(\"Nombre de saisons: \"+str(match['season'].nunique()))"
   ]
  },
  {
   "cell_type": "code",
   "execution_count": 13,
   "metadata": {},
   "outputs": [
    {
     "name": "stdout",
     "output_type": "stream",
     "text": [
      "Nombre de league: 11\n"
     ]
    }
   ],
   "source": [
    "print(\"Nombre de league: \"+str(match['league_id'].nunique()))"
   ]
  },
  {
   "cell_type": "markdown",
   "metadata": {},
   "source": [
    "# 1) Une équipe a-t-elle plus de chance de gagner à domicile que à l'exterieur ?"
   ]
  },
  {
   "cell_type": "markdown",
   "metadata": {},
   "source": [
    "Nous voulons étudier la proportion de match gagnés à domicile et a l'exterieur pour l'ensemble des matchs dans un premier temps.\n",
    "Pour cela nous allons ajouter une colonne pour chaque ligne qui correspond à ajouter une information supplémentaire sur la victoire de l'equipe domicile ou exterieur. "
   ]
  },
  {
   "cell_type": "markdown",
   "metadata": {},
   "source": [
    "## En general"
   ]
  },
  {
   "cell_type": "code",
   "execution_count": 14,
   "metadata": {},
   "outputs": [],
   "source": [
    "def compare_match(row):\n",
    "    if row['home_team_goal'] > row['away_team_goal'] :\n",
    "        return \"DOM\"\n",
    "    if row['home_team_goal'] < row['away_team_goal'] :\n",
    "        return \"EXT\"\n",
    "    else:\n",
    "        return \"EQ\""
   ]
  },
  {
   "cell_type": "code",
   "execution_count": 15,
   "metadata": {},
   "outputs": [
    {
     "name": "stderr",
     "output_type": "stream",
     "text": [
      "<ipython-input-15-f2f0c4212a87>:1: SettingWithCopyWarning: \n",
      "A value is trying to be set on a copy of a slice from a DataFrame.\n",
      "Try using .loc[row_indexer,col_indexer] = value instead\n",
      "\n",
      "See the caveats in the documentation: https://pandas.pydata.org/pandas-docs/stable/user_guide/indexing.html#returning-a-view-versus-a-copy\n",
      "  match['winner'] = match.apply(lambda x : compare_match(x) ,axis=1)\n"
     ]
    }
   ],
   "source": [
    "match['winner'] = match.apply(lambda x : compare_match(x) ,axis=1)"
   ]
  },
  {
   "cell_type": "code",
   "execution_count": 16,
   "metadata": {},
   "outputs": [
    {
     "data": {
      "text/html": [
       "<div>\n",
       "<style scoped>\n",
       "    .dataframe tbody tr th:only-of-type {\n",
       "        vertical-align: middle;\n",
       "    }\n",
       "\n",
       "    .dataframe tbody tr th {\n",
       "        vertical-align: top;\n",
       "    }\n",
       "\n",
       "    .dataframe thead th {\n",
       "        text-align: right;\n",
       "    }\n",
       "</style>\n",
       "<table border=\"1\" class=\"dataframe\">\n",
       "  <thead>\n",
       "    <tr style=\"text-align: right;\">\n",
       "      <th></th>\n",
       "      <th>country_id</th>\n",
       "      <th>league_id</th>\n",
       "      <th>season</th>\n",
       "      <th>date</th>\n",
       "      <th>match_api_id</th>\n",
       "      <th>home_team_api_id</th>\n",
       "      <th>away_team_api_id</th>\n",
       "      <th>home_team_goal</th>\n",
       "      <th>away_team_goal</th>\n",
       "      <th>winner</th>\n",
       "    </tr>\n",
       "  </thead>\n",
       "  <tbody>\n",
       "    <tr>\n",
       "      <th>0</th>\n",
       "      <td>1</td>\n",
       "      <td>1</td>\n",
       "      <td>2008/2009</td>\n",
       "      <td>2008-08-17 00:00:00</td>\n",
       "      <td>492473</td>\n",
       "      <td>9987</td>\n",
       "      <td>9993</td>\n",
       "      <td>1</td>\n",
       "      <td>1</td>\n",
       "      <td>EQ</td>\n",
       "    </tr>\n",
       "    <tr>\n",
       "      <th>1</th>\n",
       "      <td>1</td>\n",
       "      <td>1</td>\n",
       "      <td>2008/2009</td>\n",
       "      <td>2008-08-16 00:00:00</td>\n",
       "      <td>492474</td>\n",
       "      <td>10000</td>\n",
       "      <td>9994</td>\n",
       "      <td>0</td>\n",
       "      <td>0</td>\n",
       "      <td>EQ</td>\n",
       "    </tr>\n",
       "    <tr>\n",
       "      <th>2</th>\n",
       "      <td>1</td>\n",
       "      <td>1</td>\n",
       "      <td>2008/2009</td>\n",
       "      <td>2008-08-16 00:00:00</td>\n",
       "      <td>492475</td>\n",
       "      <td>9984</td>\n",
       "      <td>8635</td>\n",
       "      <td>0</td>\n",
       "      <td>3</td>\n",
       "      <td>EXT</td>\n",
       "    </tr>\n",
       "    <tr>\n",
       "      <th>3</th>\n",
       "      <td>1</td>\n",
       "      <td>1</td>\n",
       "      <td>2008/2009</td>\n",
       "      <td>2008-08-17 00:00:00</td>\n",
       "      <td>492476</td>\n",
       "      <td>9991</td>\n",
       "      <td>9998</td>\n",
       "      <td>5</td>\n",
       "      <td>0</td>\n",
       "      <td>DOM</td>\n",
       "    </tr>\n",
       "    <tr>\n",
       "      <th>4</th>\n",
       "      <td>1</td>\n",
       "      <td>1</td>\n",
       "      <td>2008/2009</td>\n",
       "      <td>2008-08-16 00:00:00</td>\n",
       "      <td>492477</td>\n",
       "      <td>7947</td>\n",
       "      <td>9985</td>\n",
       "      <td>1</td>\n",
       "      <td>3</td>\n",
       "      <td>EXT</td>\n",
       "    </tr>\n",
       "  </tbody>\n",
       "</table>\n",
       "</div>"
      ],
      "text/plain": [
       "   country_id  league_id     season                 date  match_api_id  \\\n",
       "0           1          1  2008/2009  2008-08-17 00:00:00        492473   \n",
       "1           1          1  2008/2009  2008-08-16 00:00:00        492474   \n",
       "2           1          1  2008/2009  2008-08-16 00:00:00        492475   \n",
       "3           1          1  2008/2009  2008-08-17 00:00:00        492476   \n",
       "4           1          1  2008/2009  2008-08-16 00:00:00        492477   \n",
       "\n",
       "   home_team_api_id  away_team_api_id  home_team_goal  away_team_goal winner  \n",
       "0              9987              9993               1               1     EQ  \n",
       "1             10000              9994               0               0     EQ  \n",
       "2              9984              8635               0               3    EXT  \n",
       "3              9991              9998               5               0    DOM  \n",
       "4              7947              9985               1               3    EXT  "
      ]
     },
     "execution_count": 16,
     "metadata": {},
     "output_type": "execute_result"
    }
   ],
   "source": [
    "match.head()"
   ]
  },
  {
   "cell_type": "code",
   "execution_count": 17,
   "metadata": {
    "scrolled": true
   },
   "outputs": [
    {
     "data": {
      "text/plain": [
       "<AxesSubplot:ylabel='winner'>"
      ]
     },
     "execution_count": 17,
     "metadata": {},
     "output_type": "execute_result"
    },
    {
     "data": {
      "image/png": "[encoded data removed]",
      "text/plain": [
       "<Figure size 432x288 with 1 Axes>"
      ]
     },
     "metadata": {},
     "output_type": "display_data"
    }
   ],
   "source": [
    "match['winner'].value_counts().plot(kind='pie',autopct='%1.1f%%')"
   ]
  },
  {
   "cell_type": "markdown",
   "metadata": {},
   "source": [
    "On constate que presque 50% des matchs joués a domicile sont gagnés tandis que les défaites et les égalités sont répartis presque équitablement. On pourrait naivement emettre l'hypothese que une equipe en moyenne jouant a domicile a 46% de chance de gagner et une equipe jouant a l'exterieur a 1 chance sur 4 de remporter le match"
   ]
  },
  {
   "cell_type": "code",
   "execution_count": 18,
   "metadata": {},
   "outputs": [
    {
     "data": {
      "text/html": [
       "<div>\n",
       "<style scoped>\n",
       "    .dataframe tbody tr th:only-of-type {\n",
       "        vertical-align: middle;\n",
       "    }\n",
       "\n",
       "    .dataframe tbody tr th {\n",
       "        vertical-align: top;\n",
       "    }\n",
       "\n",
       "    .dataframe thead th {\n",
       "        text-align: right;\n",
       "    }\n",
       "</style>\n",
       "<table border=\"1\" class=\"dataframe\">\n",
       "  <thead>\n",
       "    <tr style=\"text-align: right;\">\n",
       "      <th></th>\n",
       "      <th>country_id</th>\n",
       "      <th>league_id</th>\n",
       "      <th>season</th>\n",
       "      <th>date</th>\n",
       "      <th>match_api_id</th>\n",
       "      <th>home_team_api_id</th>\n",
       "      <th>away_team_api_id</th>\n",
       "      <th>home_team_goal</th>\n",
       "      <th>away_team_goal</th>\n",
       "      <th>winner</th>\n",
       "    </tr>\n",
       "  </thead>\n",
       "  <tbody>\n",
       "    <tr>\n",
       "      <th>0</th>\n",
       "      <td>1</td>\n",
       "      <td>1</td>\n",
       "      <td>2008/2009</td>\n",
       "      <td>2008-08-17 00:00:00</td>\n",
       "      <td>492473</td>\n",
       "      <td>9987</td>\n",
       "      <td>9993</td>\n",
       "      <td>1</td>\n",
       "      <td>1</td>\n",
       "      <td>EQ</td>\n",
       "    </tr>\n",
       "    <tr>\n",
       "      <th>1</th>\n",
       "      <td>1</td>\n",
       "      <td>1</td>\n",
       "      <td>2008/2009</td>\n",
       "      <td>2008-08-16 00:00:00</td>\n",
       "      <td>492474</td>\n",
       "      <td>10000</td>\n",
       "      <td>9994</td>\n",
       "      <td>0</td>\n",
       "      <td>0</td>\n",
       "      <td>EQ</td>\n",
       "    </tr>\n",
       "    <tr>\n",
       "      <th>2</th>\n",
       "      <td>1</td>\n",
       "      <td>1</td>\n",
       "      <td>2008/2009</td>\n",
       "      <td>2008-08-16 00:00:00</td>\n",
       "      <td>492475</td>\n",
       "      <td>9984</td>\n",
       "      <td>8635</td>\n",
       "      <td>0</td>\n",
       "      <td>3</td>\n",
       "      <td>EXT</td>\n",
       "    </tr>\n",
       "    <tr>\n",
       "      <th>3</th>\n",
       "      <td>1</td>\n",
       "      <td>1</td>\n",
       "      <td>2008/2009</td>\n",
       "      <td>2008-08-17 00:00:00</td>\n",
       "      <td>492476</td>\n",
       "      <td>9991</td>\n",
       "      <td>9998</td>\n",
       "      <td>5</td>\n",
       "      <td>0</td>\n",
       "      <td>DOM</td>\n",
       "    </tr>\n",
       "    <tr>\n",
       "      <th>4</th>\n",
       "      <td>1</td>\n",
       "      <td>1</td>\n",
       "      <td>2008/2009</td>\n",
       "      <td>2008-08-16 00:00:00</td>\n",
       "      <td>492477</td>\n",
       "      <td>7947</td>\n",
       "      <td>9985</td>\n",
       "      <td>1</td>\n",
       "      <td>3</td>\n",
       "      <td>EXT</td>\n",
       "    </tr>\n",
       "  </tbody>\n",
       "</table>\n",
       "</div>"
      ],
      "text/plain": [
       "   country_id  league_id     season                 date  match_api_id  \\\n",
       "0           1          1  2008/2009  2008-08-17 00:00:00        492473   \n",
       "1           1          1  2008/2009  2008-08-16 00:00:00        492474   \n",
       "2           1          1  2008/2009  2008-08-16 00:00:00        492475   \n",
       "3           1          1  2008/2009  2008-08-17 00:00:00        492476   \n",
       "4           1          1  2008/2009  2008-08-16 00:00:00        492477   \n",
       "\n",
       "   home_team_api_id  away_team_api_id  home_team_goal  away_team_goal winner  \n",
       "0              9987              9993               1               1     EQ  \n",
       "1             10000              9994               0               0     EQ  \n",
       "2              9984              8635               0               3    EXT  \n",
       "3              9991              9998               5               0    DOM  \n",
       "4              7947              9985               1               3    EXT  "
      ]
     },
     "execution_count": 18,
     "metadata": {},
     "output_type": "execute_result"
    }
   ],
   "source": [
    "match.head()"
   ]
  },
  {
   "cell_type": "markdown",
   "metadata": {},
   "source": [
    "## Par equipe"
   ]
  },
  {
   "cell_type": "code",
   "execution_count": 19,
   "metadata": {},
   "outputs": [],
   "source": [
    "team_home = match.groupby(['home_team_api_id','winner']).size().unstack(fill_value=0)\n",
    "team_home = team_home.reset_index()"
   ]
  },
  {
   "cell_type": "code",
   "execution_count": 20,
   "metadata": {},
   "outputs": [],
   "source": [
    "team_home.columns = ['home_team_api_id','victoire_domicile','egalite_domicile','defaite_domicile']"
   ]
  },
  {
   "cell_type": "code",
   "execution_count": 21,
   "metadata": {},
   "outputs": [
    {
     "data": {
      "text/html": [
       "<div>\n",
       "<style scoped>\n",
       "    .dataframe tbody tr th:only-of-type {\n",
       "        vertical-align: middle;\n",
       "    }\n",
       "\n",
       "    .dataframe tbody tr th {\n",
       "        vertical-align: top;\n",
       "    }\n",
       "\n",
       "    .dataframe thead th {\n",
       "        text-align: right;\n",
       "    }\n",
       "</style>\n",
       "<table border=\"1\" class=\"dataframe\">\n",
       "  <thead>\n",
       "    <tr style=\"text-align: right;\">\n",
       "      <th></th>\n",
       "      <th>home_team_api_id</th>\n",
       "      <th>victoire_domicile</th>\n",
       "      <th>egalite_domicile</th>\n",
       "      <th>defaite_domicile</th>\n",
       "    </tr>\n",
       "  </thead>\n",
       "  <tbody>\n",
       "    <tr>\n",
       "      <th>0</th>\n",
       "      <td>1601</td>\n",
       "      <td>54</td>\n",
       "      <td>28</td>\n",
       "      <td>38</td>\n",
       "    </tr>\n",
       "    <tr>\n",
       "      <th>1</th>\n",
       "      <td>1773</td>\n",
       "      <td>16</td>\n",
       "      <td>13</td>\n",
       "      <td>16</td>\n",
       "    </tr>\n",
       "    <tr>\n",
       "      <th>2</th>\n",
       "      <td>1957</td>\n",
       "      <td>63</td>\n",
       "      <td>27</td>\n",
       "      <td>30</td>\n",
       "    </tr>\n",
       "    <tr>\n",
       "      <th>3</th>\n",
       "      <td>2033</td>\n",
       "      <td>19</td>\n",
       "      <td>27</td>\n",
       "      <td>29</td>\n",
       "    </tr>\n",
       "    <tr>\n",
       "      <th>4</th>\n",
       "      <td>2182</td>\n",
       "      <td>74</td>\n",
       "      <td>27</td>\n",
       "      <td>19</td>\n",
       "    </tr>\n",
       "    <tr>\n",
       "      <th>...</th>\n",
       "      <td>...</td>\n",
       "      <td>...</td>\n",
       "      <td>...</td>\n",
       "      <td>...</td>\n",
       "    </tr>\n",
       "    <tr>\n",
       "      <th>294</th>\n",
       "      <td>158085</td>\n",
       "      <td>18</td>\n",
       "      <td>11</td>\n",
       "      <td>20</td>\n",
       "    </tr>\n",
       "    <tr>\n",
       "      <th>295</th>\n",
       "      <td>177361</td>\n",
       "      <td>5</td>\n",
       "      <td>4</td>\n",
       "      <td>6</td>\n",
       "    </tr>\n",
       "    <tr>\n",
       "      <th>296</th>\n",
       "      <td>188163</td>\n",
       "      <td>3</td>\n",
       "      <td>4</td>\n",
       "      <td>10</td>\n",
       "    </tr>\n",
       "    <tr>\n",
       "      <th>297</th>\n",
       "      <td>208931</td>\n",
       "      <td>6</td>\n",
       "      <td>5</td>\n",
       "      <td>8</td>\n",
       "    </tr>\n",
       "    <tr>\n",
       "      <th>298</th>\n",
       "      <td>274581</td>\n",
       "      <td>9</td>\n",
       "      <td>7</td>\n",
       "      <td>14</td>\n",
       "    </tr>\n",
       "  </tbody>\n",
       "</table>\n",
       "<p>299 rows × 4 columns</p>\n",
       "</div>"
      ],
      "text/plain": [
       "     home_team_api_id  victoire_domicile  egalite_domicile  defaite_domicile\n",
       "0                1601                 54                28                38\n",
       "1                1773                 16                13                16\n",
       "2                1957                 63                27                30\n",
       "3                2033                 19                27                29\n",
       "4                2182                 74                27                19\n",
       "..                ...                ...               ...               ...\n",
       "294            158085                 18                11                20\n",
       "295            177361                  5                 4                 6\n",
       "296            188163                  3                 4                10\n",
       "297            208931                  6                 5                 8\n",
       "298            274581                  9                 7                14\n",
       "\n",
       "[299 rows x 4 columns]"
      ]
     },
     "execution_count": 21,
     "metadata": {},
     "output_type": "execute_result"
    }
   ],
   "source": [
    "team_home"
   ]
  },
  {
   "cell_type": "code",
   "execution_count": 22,
   "metadata": {},
   "outputs": [],
   "source": [
    "team_away = match.groupby(['away_team_api_id','winner']).size().unstack(fill_value=0)\n",
    "team_away = team_away.reset_index()"
   ]
  },
  {
   "cell_type": "code",
   "execution_count": 23,
   "metadata": {},
   "outputs": [],
   "source": [
    "team_away.columns = ['away_team_api_id','defaite_exterieur','egalite_exterieur','victoire_exterieur']"
   ]
  },
  {
   "cell_type": "code",
   "execution_count": 24,
   "metadata": {},
   "outputs": [],
   "source": [
    "team_win = pd.merge(team_home, team_away, left_on='home_team_api_id', right_on='away_team_api_id', how='left')"
   ]
  },
  {
   "cell_type": "code",
   "execution_count": 25,
   "metadata": {},
   "outputs": [],
   "source": [
    "def team_compare_better(row):\n",
    "    if (row['victoire_domicile'] > row['victoire_exterieur']) :\n",
    "        return 'DOM'\n",
    "    if (row['victoire_domicile'] < row['victoire_exterieur']) :\n",
    "        return 'EXT'\n",
    "    else :\n",
    "        return 'EQ'"
   ]
  },
  {
   "cell_type": "code",
   "execution_count": 26,
   "metadata": {},
   "outputs": [],
   "source": [
    "def team_compare_worst(row):\n",
    "    if (row['defaite_domicile'] > row['defaite_exterieur']) :\n",
    "        return 'DOM'\n",
    "    if (row['defaite_domicile'] < row['defaite_exterieur']) :\n",
    "        return 'EXT'\n",
    "    else :\n",
    "        return 'EQ'"
   ]
  },
  {
   "cell_type": "code",
   "execution_count": 27,
   "metadata": {},
   "outputs": [],
   "source": [
    "team_win['most_victory_at'] = team_win.apply(lambda x : team_compare_better(x), axis=1)\n",
    "team_win['most_defeat_at'] = team_win.apply(lambda x : team_compare_worst(x), axis=1)"
   ]
  },
  {
   "cell_type": "code",
   "execution_count": 28,
   "metadata": {},
   "outputs": [
    {
     "data": {
      "image/png": "[encoded data removed]",
      "text/plain": [
       "<Figure size 432x288 with 1 Axes>"
      ]
     },
     "metadata": {},
     "output_type": "display_data"
    }
   ],
   "source": [
    "team_win['most_victory_at'].value_counts(normalize=True).plot(kind='pie',autopct='%1.1f%%');"
   ]
  },
  {
   "cell_type": "markdown",
   "metadata": {},
   "source": [
    "On observe que 93.3 % des équipes gagnent d'avantage de match à domicile que à l\\'exterieur'\n"
   ]
  },
  {
   "cell_type": "code",
   "execution_count": 29,
   "metadata": {},
   "outputs": [
    {
     "data": {
      "image/png": "[encoded data removed]",
      "text/plain": [
       "<Figure size 432x288 with 1 Axes>"
      ]
     },
     "metadata": {},
     "output_type": "display_data"
    }
   ],
   "source": [
    "team_win['most_defeat_at'].value_counts(normalize=True).plot(kind='pie',autopct='%1.1f%%');"
   ]
  },
  {
   "cell_type": "markdown",
   "metadata": {},
   "source": [
    "On observe que 93.6 % des équipes perdent d'avantage de match a l'exterieur que à domicile"
   ]
  },
  {
   "cell_type": "markdown",
   "metadata": {},
   "source": [
    "### Réponse à la sous-question"
   ]
  },
  {
   "cell_type": "markdown",
   "metadata": {},
   "source": [
    "A la question : Une équipe a-t-elle plus de chance de gagner à domicile que à l'exterieur, on peut clairement dire que à domicile les équipes ont d'avantage de chance de gagner le match que à l'exterieur.\n",
    "Tandis que à l'exterieur les équipes ont d'avantage de chance de perdre que à domicile"
   ]
  },
  {
   "cell_type": "markdown",
   "metadata": {},
   "source": [
    "# 2) Est ce que les équipes marquent/prennent d'avantage de buts à domicile ou à l'exterieur"
   ]
  },
  {
   "cell_type": "markdown",
   "metadata": {},
   "source": [
    "On s'intereresse aux distributions des buts marqués/pris ainsi que le goalaverage en general, puis ensuite au niveau des equipes elles meme. Cette granularité sera interessante puisqu'elle permettra de voir si les performances de certaines equipes sont correles avec le fait de jouer a domicile, et donc par extension correles au public."
   ]
  },
  {
   "cell_type": "markdown",
   "metadata": {},
   "source": [
    "## A) Buts marqués domicile vs exterieur"
   ]
  },
  {
   "cell_type": "markdown",
   "metadata": {},
   "source": [
    "### En general"
   ]
  },
  {
   "cell_type": "code",
   "execution_count": 30,
   "metadata": {
    "scrolled": true
   },
   "outputs": [
    {
     "data": {
      "text/html": [
       "<div>\n",
       "<style scoped>\n",
       "    .dataframe tbody tr th:only-of-type {\n",
       "        vertical-align: middle;\n",
       "    }\n",
       "\n",
       "    .dataframe tbody tr th {\n",
       "        vertical-align: top;\n",
       "    }\n",
       "\n",
       "    .dataframe thead th {\n",
       "        text-align: right;\n",
       "    }\n",
       "</style>\n",
       "<table border=\"1\" class=\"dataframe\">\n",
       "  <thead>\n",
       "    <tr style=\"text-align: right;\">\n",
       "      <th></th>\n",
       "      <th>home_team_goal</th>\n",
       "      <th>away_team_goal</th>\n",
       "    </tr>\n",
       "  </thead>\n",
       "  <tbody>\n",
       "    <tr>\n",
       "      <th>count</th>\n",
       "      <td>25979.000000</td>\n",
       "      <td>25979.000000</td>\n",
       "    </tr>\n",
       "    <tr>\n",
       "      <th>mean</th>\n",
       "      <td>1.544594</td>\n",
       "      <td>1.160938</td>\n",
       "    </tr>\n",
       "    <tr>\n",
       "      <th>std</th>\n",
       "      <td>1.297158</td>\n",
       "      <td>1.142110</td>\n",
       "    </tr>\n",
       "    <tr>\n",
       "      <th>min</th>\n",
       "      <td>0.000000</td>\n",
       "      <td>0.000000</td>\n",
       "    </tr>\n",
       "    <tr>\n",
       "      <th>25%</th>\n",
       "      <td>1.000000</td>\n",
       "      <td>0.000000</td>\n",
       "    </tr>\n",
       "    <tr>\n",
       "      <th>50%</th>\n",
       "      <td>1.000000</td>\n",
       "      <td>1.000000</td>\n",
       "    </tr>\n",
       "    <tr>\n",
       "      <th>75%</th>\n",
       "      <td>2.000000</td>\n",
       "      <td>2.000000</td>\n",
       "    </tr>\n",
       "    <tr>\n",
       "      <th>max</th>\n",
       "      <td>10.000000</td>\n",
       "      <td>9.000000</td>\n",
       "    </tr>\n",
       "  </tbody>\n",
       "</table>\n",
       "</div>"
      ],
      "text/plain": [
       "       home_team_goal  away_team_goal\n",
       "count    25979.000000    25979.000000\n",
       "mean         1.544594        1.160938\n",
       "std          1.297158        1.142110\n",
       "min          0.000000        0.000000\n",
       "25%          1.000000        0.000000\n",
       "50%          1.000000        1.000000\n",
       "75%          2.000000        2.000000\n",
       "max         10.000000        9.000000"
      ]
     },
     "execution_count": 30,
     "metadata": {},
     "output_type": "execute_result"
    }
   ],
   "source": [
    "match[['home_team_goal','away_team_goal']].describe()"
   ]
  },
  {
   "cell_type": "markdown",
   "metadata": {},
   "source": [
    "On voit que les les buts marqués sont gloabelemnt plus haut a domicile qu'a l'exterieur. La boite a moustache \"domicilE\" est plus concentre autour des deux buts par matchs. "
   ]
  },
  {
   "cell_type": "markdown",
   "metadata": {},
   "source": [
    "### Par equipe"
   ]
  },
  {
   "cell_type": "markdown",
   "metadata": {},
   "source": [
    "Nous allons maintenant nous interesser aux différentes statistiques qui fait qu'une équipe est efficace ou non comme les buts pris et les buts marqués. Nous allons pour chaque équipe faire une moyenne des buts pris et marqués à domile et à l'exterieur pour pouvoir comparer ces données entre eux et aussi pour pouvoir ajouter une colonne goal average. Elle nous permettra de voir le ratio de chaque équipe a domicile et à l'exterieur"
   ]
  },
  {
   "cell_type": "code",
   "execution_count": 31,
   "metadata": {},
   "outputs": [],
   "source": [
    "team_mean_home_goaled = match.groupby(['home_team_api_id'])['home_team_goal'].mean()\n"
   ]
  },
  {
   "cell_type": "code",
   "execution_count": 32,
   "metadata": {},
   "outputs": [],
   "source": [
    "team_mean_away_goaled = match.groupby(['away_team_api_id'])['away_team_goal'].mean()"
   ]
  },
  {
   "cell_type": "code",
   "execution_count": 33,
   "metadata": {},
   "outputs": [],
   "source": [
    "team_mean_goaled = pd.concat([team_mean_home_goaled, team_mean_away_goaled],axis=1, join='inner')"
   ]
  },
  {
   "cell_type": "code",
   "execution_count": 34,
   "metadata": {},
   "outputs": [
    {
     "data": {
      "text/html": [
       "<div>\n",
       "<style scoped>\n",
       "    .dataframe tbody tr th:only-of-type {\n",
       "        vertical-align: middle;\n",
       "    }\n",
       "\n",
       "    .dataframe tbody tr th {\n",
       "        vertical-align: top;\n",
       "    }\n",
       "\n",
       "    .dataframe thead th {\n",
       "        text-align: right;\n",
       "    }\n",
       "</style>\n",
       "<table border=\"1\" class=\"dataframe\">\n",
       "  <thead>\n",
       "    <tr style=\"text-align: right;\">\n",
       "      <th></th>\n",
       "      <th>home_team_goal</th>\n",
       "      <th>away_team_goal</th>\n",
       "    </tr>\n",
       "  </thead>\n",
       "  <tbody>\n",
       "    <tr>\n",
       "      <th>1601</th>\n",
       "      <td>1.233333</td>\n",
       "      <td>1.100000</td>\n",
       "    </tr>\n",
       "    <tr>\n",
       "      <th>1773</th>\n",
       "      <td>1.644444</td>\n",
       "      <td>1.155556</td>\n",
       "    </tr>\n",
       "    <tr>\n",
       "      <th>1957</th>\n",
       "      <td>1.466667</td>\n",
       "      <td>0.925000</td>\n",
       "    </tr>\n",
       "    <tr>\n",
       "      <th>2033</th>\n",
       "      <td>0.933333</td>\n",
       "      <td>0.906667</td>\n",
       "    </tr>\n",
       "    <tr>\n",
       "      <th>2182</th>\n",
       "      <td>1.791667</td>\n",
       "      <td>1.308333</td>\n",
       "    </tr>\n",
       "    <tr>\n",
       "      <th>...</th>\n",
       "      <td>...</td>\n",
       "      <td>...</td>\n",
       "    </tr>\n",
       "    <tr>\n",
       "      <th>158085</th>\n",
       "      <td>1.142857</td>\n",
       "      <td>0.918367</td>\n",
       "    </tr>\n",
       "    <tr>\n",
       "      <th>177361</th>\n",
       "      <td>1.400000</td>\n",
       "      <td>0.800000</td>\n",
       "    </tr>\n",
       "    <tr>\n",
       "      <th>188163</th>\n",
       "      <td>0.882353</td>\n",
       "      <td>1.117647</td>\n",
       "    </tr>\n",
       "    <tr>\n",
       "      <th>208931</th>\n",
       "      <td>1.210526</td>\n",
       "      <td>0.736842</td>\n",
       "    </tr>\n",
       "    <tr>\n",
       "      <th>274581</th>\n",
       "      <td>1.366667</td>\n",
       "      <td>1.000000</td>\n",
       "    </tr>\n",
       "  </tbody>\n",
       "</table>\n",
       "<p>299 rows × 2 columns</p>\n",
       "</div>"
      ],
      "text/plain": [
       "        home_team_goal  away_team_goal\n",
       "1601          1.233333        1.100000\n",
       "1773          1.644444        1.155556\n",
       "1957          1.466667        0.925000\n",
       "2033          0.933333        0.906667\n",
       "2182          1.791667        1.308333\n",
       "...                ...             ...\n",
       "158085        1.142857        0.918367\n",
       "177361        1.400000        0.800000\n",
       "188163        0.882353        1.117647\n",
       "208931        1.210526        0.736842\n",
       "274581        1.366667        1.000000\n",
       "\n",
       "[299 rows x 2 columns]"
      ]
     },
     "execution_count": 34,
     "metadata": {},
     "output_type": "execute_result"
    }
   ],
   "source": [
    "team_mean_goaled"
   ]
  },
  {
   "cell_type": "code",
   "execution_count": 119,
   "metadata": {},
   "outputs": [
    {
     "data": {
      "text/plain": [
       "<AxesSubplot:ylabel='away_team_goal'>"
      ]
     },
     "execution_count": 119,
     "metadata": {},
     "output_type": "execute_result"
    },
    {
     "data": {
      "image/png": "[encoded data removed]",
      "text/plain": [
       "<Figure size 432x288 with 2 Axes>"
      ]
     },
     "metadata": {
      "needs_background": "light"
     },
     "output_type": "display_data"
    }
   ],
   "source": [
    "f, axes = plt.subplots(1, 2)\n",
    "sns.boxplot(y='home_team_goal',data=team_mean_goaled,ax=axes[0]).set_title('Boite a moustache des buts marqués a domiciles et à l\\'exterieur par équipe')\n",
    "sns.boxplot(y='away_team_goal',data=team_mean_goaled,ax=axes[1])"
   ]
  },
  {
   "cell_type": "code",
   "execution_count": 36,
   "metadata": {},
   "outputs": [
    {
     "data": {
      "image/png": "[encoded data removed]",
      "text/plain": [
       "<Figure size 432x288 with 1 Axes>"
      ]
     },
     "metadata": {
      "needs_background": "light"
     },
     "output_type": "display_data"
    }
   ],
   "source": [
    "plt.figure(\"Buts marqués\")\n",
    "sns.histplot(team_mean_home_goaled, label=\"Buts marqués à domicile\").set_title('Distribution de la moyenne de buts marqués à domicile et à l\\'exterieur')\n",
    "sns.histplot(team_mean_away_goaled, label= \"Buts marqués à l'exterieur\",color='red')\n",
    "plt.xlabel('Buts marqués', fontsize=18)\n",
    "plt.ylabel('Nombre d\\'equipe', fontsize=18)\n",
    "plt.legend()\n",
    "plt.show()"
   ]
  },
  {
   "cell_type": "markdown",
   "metadata": {},
   "source": [
    "Les deux distributions ont des tendances \"normales\". Ceci donne un autre point de vue que les boites a moustaches, mais donne les meme informations. "
   ]
  },
  {
   "cell_type": "code",
   "execution_count": 37,
   "metadata": {},
   "outputs": [],
   "source": [
    "def compare_goaled(row):\n",
    "    if row['home_team_goal'] > row['away_team_goal'] :\n",
    "        return \"DOM\"\n",
    "    if row['home_team_goal'] < row['away_team_goal'] :\n",
    "        return \"EXT\"\n",
    "    else:\n",
    "        return \"EQ\""
   ]
  },
  {
   "cell_type": "code",
   "execution_count": 101,
   "metadata": {},
   "outputs": [
    {
     "data": {
      "image/png": "[encoded data removed]",
      "text/plain": [
       "<Figure size 432x288 with 1 Axes>"
      ]
     },
     "metadata": {},
     "output_type": "display_data"
    }
   ],
   "source": [
    "team_mean_goaled['better_at'] = team_mean_goaled.apply(compare_goaled, axis=1)\n",
    "team_mean_goaled['better_at'].value_counts(normalize=True).plot(kind='pie',autopct='%1.1f%%');"
   ]
  },
  {
   "cell_type": "markdown",
   "metadata": {},
   "source": [
    "On remarque que près de 96% des équipes marquent plus de buts à domicile que à l'exterieur"
   ]
  },
  {
   "cell_type": "code",
   "execution_count": 39,
   "metadata": {},
   "outputs": [
    {
     "data": {
      "text/plain": [
       "(0.0, 4.0)"
      ]
     },
     "execution_count": 39,
     "metadata": {},
     "output_type": "execute_result"
    },
    {
     "data": {
      "image/png": "[encoded data removed]",
      "text/plain": [
       "<Figure size 432x288 with 1 Axes>"
      ]
     },
     "metadata": {
      "needs_background": "light"
     },
     "output_type": "display_data"
    }
   ],
   "source": [
    "fig = plt.figure()\n",
    "ax = plt.subplot()\n",
    "team_mean_goaled.plot.scatter(x='home_team_goal',y='away_team_goal', ax = ax, alpha=0.2,title='Corrélation entre buts marqués à domicile et à l\\'exterieur')\n",
    "ax.set_xlim(0,4)\n",
    "ax.set_ylim(0,4)"
   ]
  },
  {
   "cell_type": "markdown",
   "metadata": {},
   "source": [
    "On voit que les buts marqués à domicile et à l'extérieur sont corrélés. Le graphique confirme le précédent avec home_team_goal > away_team_goal pour la plus part des points (équipe)\n",
    "Les équipes qui marquent d'avantage à l'exterieur sont des équipes qui semblent ne pas marquer beaucoup de buts en général"
   ]
  },
  {
   "cell_type": "markdown",
   "metadata": {},
   "source": [
    "## B) Buts pris a domicile vs exterieur"
   ]
  },
  {
   "cell_type": "markdown",
   "metadata": {},
   "source": [
    "### Par equipe"
   ]
  },
  {
   "cell_type": "code",
   "execution_count": 40,
   "metadata": {},
   "outputs": [],
   "source": [
    "def compare_taken(row):\n",
    "    if row['home_team_taken'] > row['away_team_taken'] :\n",
    "        return \"DOM\"\n",
    "    if row['home_team_taken'] < row['away_team_taken'] :\n",
    "        return \"EXT\"\n",
    "    else:\n",
    "        return \"EQ\""
   ]
  },
  {
   "cell_type": "code",
   "execution_count": 41,
   "metadata": {},
   "outputs": [],
   "source": [
    "team_mean_home_taken = match.groupby(['home_team_api_id'])['away_team_goal'].mean()"
   ]
  },
  {
   "cell_type": "code",
   "execution_count": 42,
   "metadata": {},
   "outputs": [],
   "source": [
    "team_mean_away_taken = match.groupby(['away_team_api_id'])['home_team_goal'].mean()"
   ]
  },
  {
   "cell_type": "code",
   "execution_count": 43,
   "metadata": {
    "scrolled": true
   },
   "outputs": [
    {
     "data": {
      "text/html": [
       "<div>\n",
       "<style scoped>\n",
       "    .dataframe tbody tr th:only-of-type {\n",
       "        vertical-align: middle;\n",
       "    }\n",
       "\n",
       "    .dataframe tbody tr th {\n",
       "        vertical-align: top;\n",
       "    }\n",
       "\n",
       "    .dataframe thead th {\n",
       "        text-align: right;\n",
       "    }\n",
       "</style>\n",
       "<table border=\"1\" class=\"dataframe\">\n",
       "  <thead>\n",
       "    <tr style=\"text-align: right;\">\n",
       "      <th></th>\n",
       "      <th>home_team_taken</th>\n",
       "      <th>away_team_taken</th>\n",
       "    </tr>\n",
       "  </thead>\n",
       "  <tbody>\n",
       "    <tr>\n",
       "      <th>1601</th>\n",
       "      <td>1.025000</td>\n",
       "      <td>1.408333</td>\n",
       "    </tr>\n",
       "    <tr>\n",
       "      <th>1773</th>\n",
       "      <td>1.622222</td>\n",
       "      <td>1.977778</td>\n",
       "    </tr>\n",
       "    <tr>\n",
       "      <th>1957</th>\n",
       "      <td>1.025000</td>\n",
       "      <td>1.600000</td>\n",
       "    </tr>\n",
       "    <tr>\n",
       "      <th>2033</th>\n",
       "      <td>1.226667</td>\n",
       "      <td>1.560000</td>\n",
       "    </tr>\n",
       "    <tr>\n",
       "      <th>2182</th>\n",
       "      <td>0.758333</td>\n",
       "      <td>0.991667</td>\n",
       "    </tr>\n",
       "    <tr>\n",
       "      <th>...</th>\n",
       "      <td>...</td>\n",
       "      <td>...</td>\n",
       "    </tr>\n",
       "    <tr>\n",
       "      <th>158085</th>\n",
       "      <td>1.265306</td>\n",
       "      <td>1.387755</td>\n",
       "    </tr>\n",
       "    <tr>\n",
       "      <th>177361</th>\n",
       "      <td>1.266667</td>\n",
       "      <td>1.600000</td>\n",
       "    </tr>\n",
       "    <tr>\n",
       "      <th>188163</th>\n",
       "      <td>1.529412</td>\n",
       "      <td>1.647059</td>\n",
       "    </tr>\n",
       "    <tr>\n",
       "      <th>208931</th>\n",
       "      <td>1.368421</td>\n",
       "      <td>1.631579</td>\n",
       "    </tr>\n",
       "    <tr>\n",
       "      <th>274581</th>\n",
       "      <td>1.533333</td>\n",
       "      <td>1.866667</td>\n",
       "    </tr>\n",
       "  </tbody>\n",
       "</table>\n",
       "<p>299 rows × 2 columns</p>\n",
       "</div>"
      ],
      "text/plain": [
       "        home_team_taken  away_team_taken\n",
       "1601           1.025000         1.408333\n",
       "1773           1.622222         1.977778\n",
       "1957           1.025000         1.600000\n",
       "2033           1.226667         1.560000\n",
       "2182           0.758333         0.991667\n",
       "...                 ...              ...\n",
       "158085         1.265306         1.387755\n",
       "177361         1.266667         1.600000\n",
       "188163         1.529412         1.647059\n",
       "208931         1.368421         1.631579\n",
       "274581         1.533333         1.866667\n",
       "\n",
       "[299 rows x 2 columns]"
      ]
     },
     "execution_count": 43,
     "metadata": {},
     "output_type": "execute_result"
    }
   ],
   "source": [
    "team_mean_taken = pd.concat([team_mean_home_taken, team_mean_away_taken],axis=1, join='inner')\n",
    "team_mean_taken.columns = ['home_team_taken','away_team_taken']\n",
    "team_mean_taken"
   ]
  },
  {
   "cell_type": "code",
   "execution_count": 44,
   "metadata": {},
   "outputs": [
    {
     "data": {
      "text/html": [
       "<div>\n",
       "<style scoped>\n",
       "    .dataframe tbody tr th:only-of-type {\n",
       "        vertical-align: middle;\n",
       "    }\n",
       "\n",
       "    .dataframe tbody tr th {\n",
       "        vertical-align: top;\n",
       "    }\n",
       "\n",
       "    .dataframe thead th {\n",
       "        text-align: right;\n",
       "    }\n",
       "</style>\n",
       "<table border=\"1\" class=\"dataframe\">\n",
       "  <thead>\n",
       "    <tr style=\"text-align: right;\">\n",
       "      <th></th>\n",
       "      <th>home_team_taken</th>\n",
       "      <th>away_team_taken</th>\n",
       "    </tr>\n",
       "  </thead>\n",
       "  <tbody>\n",
       "    <tr>\n",
       "      <th>count</th>\n",
       "      <td>299.000000</td>\n",
       "      <td>299.000000</td>\n",
       "    </tr>\n",
       "    <tr>\n",
       "      <th>mean</th>\n",
       "      <td>1.254830</td>\n",
       "      <td>1.635019</td>\n",
       "    </tr>\n",
       "    <tr>\n",
       "      <th>std</th>\n",
       "      <td>0.300165</td>\n",
       "      <td>0.335382</td>\n",
       "    </tr>\n",
       "    <tr>\n",
       "      <th>min</th>\n",
       "      <td>0.524194</td>\n",
       "      <td>0.750000</td>\n",
       "    </tr>\n",
       "    <tr>\n",
       "      <th>25%</th>\n",
       "      <td>1.052632</td>\n",
       "      <td>1.422121</td>\n",
       "    </tr>\n",
       "    <tr>\n",
       "      <th>50%</th>\n",
       "      <td>1.244444</td>\n",
       "      <td>1.631579</td>\n",
       "    </tr>\n",
       "    <tr>\n",
       "      <th>75%</th>\n",
       "      <td>1.421053</td>\n",
       "      <td>1.842105</td>\n",
       "    </tr>\n",
       "    <tr>\n",
       "      <th>max</th>\n",
       "      <td>2.315789</td>\n",
       "      <td>2.631579</td>\n",
       "    </tr>\n",
       "  </tbody>\n",
       "</table>\n",
       "</div>"
      ],
      "text/plain": [
       "       home_team_taken  away_team_taken\n",
       "count       299.000000       299.000000\n",
       "mean          1.254830         1.635019\n",
       "std           0.300165         0.335382\n",
       "min           0.524194         0.750000\n",
       "25%           1.052632         1.422121\n",
       "50%           1.244444         1.631579\n",
       "75%           1.421053         1.842105\n",
       "max           2.315789         2.631579"
      ]
     },
     "execution_count": 44,
     "metadata": {},
     "output_type": "execute_result"
    }
   ],
   "source": [
    "team_mean_taken.describe()"
   ]
  },
  {
   "cell_type": "code",
   "execution_count": 45,
   "metadata": {},
   "outputs": [
    {
     "data": {
      "text/plain": [
       "<AxesSubplot:ylabel='away_team_taken'>"
      ]
     },
     "execution_count": 45,
     "metadata": {},
     "output_type": "execute_result"
    },
    {
     "data": {
      "image/png": "[encoded data removed]",
      "text/plain": [
       "<Figure size 432x288 with 2 Axes>"
      ]
     },
     "metadata": {
      "needs_background": "light"
     },
     "output_type": "display_data"
    }
   ],
   "source": [
    "f, axes = plt.subplots(1, 2)\n",
    "sns.boxplot(y='home_team_taken',data=team_mean_taken,ax=axes[0]).set_title('Boite a moustache des buts pris a domiciles et à l\\'exterieur')\n",
    "sns.boxplot(y='away_team_taken',data=team_mean_taken,ax=axes[1])"
   ]
  },
  {
   "cell_type": "code",
   "execution_count": 46,
   "metadata": {},
   "outputs": [
    {
     "data": {
      "image/png": "[encoded data removed]",
      "text/plain": [
       "<Figure size 432x288 with 1 Axes>"
      ]
     },
     "metadata": {
      "needs_background": "light"
     },
     "output_type": "display_data"
    }
   ],
   "source": [
    "plt.figure(\"Buts pris\")\n",
    "sns.histplot(team_mean_home_taken, label=\"Buts pris à domicile\").set_title(\"Distribution des equipe par buts pris à domicile et à l'exterieur\")\n",
    "sns.histplot(team_mean_away_taken, label=\"Buts pris à l'exterieur\",color=\"red\")\n",
    "plt.xlabel('Buts pris', fontsize=18)\n",
    "plt.ylabel('Nombre d\\'equipe', fontsize=18)\n",
    "plt.legend()\n",
    "plt.show()"
   ]
  },
  {
   "cell_type": "markdown",
   "metadata": {},
   "source": [
    "Les deux distributions ont des tendances \"normales\". Ceci donne un autre point de vue que les boites a moustaches, mais donne les meme informations. "
   ]
  },
  {
   "cell_type": "code",
   "execution_count": 102,
   "metadata": {},
   "outputs": [
    {
     "name": "stderr",
     "output_type": "stream",
     "text": [
      "C:\\Users\\laou6\\anaconda3\\lib\\site-packages\\pandas\\plotting\\_matplotlib\\core.py:1547: MatplotlibDeprecationWarning: normalize=None does not normalize if the sum is less than 1 but this behavior is deprecated since 3.3 until two minor releases later. After the deprecation period the default value will be normalize=True. To prevent normalization pass normalize=False \n",
      "  results = ax.pie(y, labels=blabels, **kwds)\n"
     ]
    },
    {
     "data": {
      "text/plain": [
       "<AxesSubplot:ylabel='worst_at'>"
      ]
     },
     "execution_count": 102,
     "metadata": {},
     "output_type": "execute_result"
    },
    {
     "data": {
      "image/png": "[encoded data removed]",
      "text/plain": [
       "<Figure size 432x288 with 1 Axes>"
      ]
     },
     "metadata": {},
     "output_type": "display_data"
    }
   ],
   "source": [
    "team_mean_taken['worst_at'] = team_mean_taken.apply(compare_taken, axis=1)\n",
    "team_mean_taken['worst_at'].value_counts(normalize=True).plot(kind='pie',autopct='%1.1f%%')"
   ]
  },
  {
   "cell_type": "markdown",
   "metadata": {},
   "source": [
    "On voit que près de 94% des équipes prennent plus de buts à l'exterieur que à domicile."
   ]
  },
  {
   "cell_type": "code",
   "execution_count": 48,
   "metadata": {},
   "outputs": [
    {
     "data": {
      "text/plain": [
       "(0.0, 3.0)"
      ]
     },
     "execution_count": 48,
     "metadata": {},
     "output_type": "execute_result"
    },
    {
     "data": {
      "image/png": "[encoded data removed]",
      "text/plain": [
       "<Figure size 432x288 with 1 Axes>"
      ]
     },
     "metadata": {
      "needs_background": "light"
     },
     "output_type": "display_data"
    }
   ],
   "source": [
    "fig = plt.figure()\n",
    "ax = plt.subplot()\n",
    "team_mean_taken.plot.scatter(x='home_team_taken',y='away_team_taken', ax = ax, alpha=0.2,title='Corrélation entre buts pris à domicile et à l\\'exterieur')\n",
    "ax.set_xlim(0,3)\n",
    "ax.set_ylim(0,3)"
   ]
  },
  {
   "cell_type": "markdown",
   "metadata": {},
   "source": [
    "On voit que les buts pris à domicile et à l'extérieur sont corrélés. Le graphique confirme le précédent avec home_team_taken < away_team_taken pour la plus part des points (équipe).\n",
    "Les équipes qui prennent d'avantage à domicile que à l'exterieur sont des équipes qui semblent de toute manière encaisser beaucoup de buts en général"
   ]
  },
  {
   "cell_type": "markdown",
   "metadata": {},
   "source": [
    "## C) Goal average domicile vs exterieur"
   ]
  },
  {
   "cell_type": "markdown",
   "metadata": {},
   "source": [
    "### Par equipe"
   ]
  },
  {
   "cell_type": "code",
   "execution_count": 49,
   "metadata": {},
   "outputs": [],
   "source": [
    "team_diff = pd.concat([team_mean_goaled.iloc[:,:2],team_mean_taken.iloc[:,:2]],axis=1)"
   ]
  },
  {
   "cell_type": "code",
   "execution_count": 50,
   "metadata": {},
   "outputs": [
    {
     "data": {
      "text/html": [
       "<div>\n",
       "<style scoped>\n",
       "    .dataframe tbody tr th:only-of-type {\n",
       "        vertical-align: middle;\n",
       "    }\n",
       "\n",
       "    .dataframe tbody tr th {\n",
       "        vertical-align: top;\n",
       "    }\n",
       "\n",
       "    .dataframe thead th {\n",
       "        text-align: right;\n",
       "    }\n",
       "</style>\n",
       "<table border=\"1\" class=\"dataframe\">\n",
       "  <thead>\n",
       "    <tr style=\"text-align: right;\">\n",
       "      <th></th>\n",
       "      <th>home_team_goal</th>\n",
       "      <th>away_team_goal</th>\n",
       "      <th>home_team_taken</th>\n",
       "      <th>away_team_taken</th>\n",
       "      <th>diff_dom</th>\n",
       "      <th>diff_ext</th>\n",
       "    </tr>\n",
       "  </thead>\n",
       "  <tbody>\n",
       "    <tr>\n",
       "      <th>1601</th>\n",
       "      <td>1.233333</td>\n",
       "      <td>1.100000</td>\n",
       "      <td>1.025000</td>\n",
       "      <td>1.408333</td>\n",
       "      <td>0.208333</td>\n",
       "      <td>-0.308333</td>\n",
       "    </tr>\n",
       "    <tr>\n",
       "      <th>1773</th>\n",
       "      <td>1.644444</td>\n",
       "      <td>1.155556</td>\n",
       "      <td>1.622222</td>\n",
       "      <td>1.977778</td>\n",
       "      <td>0.022222</td>\n",
       "      <td>-0.822222</td>\n",
       "    </tr>\n",
       "    <tr>\n",
       "      <th>1957</th>\n",
       "      <td>1.466667</td>\n",
       "      <td>0.925000</td>\n",
       "      <td>1.025000</td>\n",
       "      <td>1.600000</td>\n",
       "      <td>0.441667</td>\n",
       "      <td>-0.675000</td>\n",
       "    </tr>\n",
       "    <tr>\n",
       "      <th>2033</th>\n",
       "      <td>0.933333</td>\n",
       "      <td>0.906667</td>\n",
       "      <td>1.226667</td>\n",
       "      <td>1.560000</td>\n",
       "      <td>-0.293333</td>\n",
       "      <td>-0.653333</td>\n",
       "    </tr>\n",
       "    <tr>\n",
       "      <th>2182</th>\n",
       "      <td>1.791667</td>\n",
       "      <td>1.308333</td>\n",
       "      <td>0.758333</td>\n",
       "      <td>0.991667</td>\n",
       "      <td>1.033333</td>\n",
       "      <td>0.316667</td>\n",
       "    </tr>\n",
       "  </tbody>\n",
       "</table>\n",
       "</div>"
      ],
      "text/plain": [
       "      home_team_goal  away_team_goal  home_team_taken  away_team_taken  \\\n",
       "1601        1.233333        1.100000         1.025000         1.408333   \n",
       "1773        1.644444        1.155556         1.622222         1.977778   \n",
       "1957        1.466667        0.925000         1.025000         1.600000   \n",
       "2033        0.933333        0.906667         1.226667         1.560000   \n",
       "2182        1.791667        1.308333         0.758333         0.991667   \n",
       "\n",
       "      diff_dom  diff_ext  \n",
       "1601  0.208333 -0.308333  \n",
       "1773  0.022222 -0.822222  \n",
       "1957  0.441667 -0.675000  \n",
       "2033 -0.293333 -0.653333  \n",
       "2182  1.033333  0.316667  "
      ]
     },
     "execution_count": 50,
     "metadata": {},
     "output_type": "execute_result"
    }
   ],
   "source": [
    "team_diff['diff_dom'] = team_diff['home_team_goal'] - team_diff['home_team_taken']\n",
    "team_diff['diff_ext'] = team_diff['away_team_goal'] - team_diff['away_team_taken']\n",
    "team_diff.head()"
   ]
  },
  {
   "cell_type": "code",
   "execution_count": 51,
   "metadata": {},
   "outputs": [
    {
     "data": {
      "text/html": [
       "<div>\n",
       "<style scoped>\n",
       "    .dataframe tbody tr th:only-of-type {\n",
       "        vertical-align: middle;\n",
       "    }\n",
       "\n",
       "    .dataframe tbody tr th {\n",
       "        vertical-align: top;\n",
       "    }\n",
       "\n",
       "    .dataframe thead th {\n",
       "        text-align: right;\n",
       "    }\n",
       "</style>\n",
       "<table border=\"1\" class=\"dataframe\">\n",
       "  <thead>\n",
       "    <tr style=\"text-align: right;\">\n",
       "      <th></th>\n",
       "      <th>home_team_goal</th>\n",
       "      <th>away_team_goal</th>\n",
       "      <th>home_team_taken</th>\n",
       "      <th>away_team_taken</th>\n",
       "      <th>diff_dom</th>\n",
       "      <th>diff_ext</th>\n",
       "    </tr>\n",
       "  </thead>\n",
       "  <tbody>\n",
       "    <tr>\n",
       "      <th>count</th>\n",
       "      <td>299.000000</td>\n",
       "      <td>299.000000</td>\n",
       "      <td>299.000000</td>\n",
       "      <td>299.000000</td>\n",
       "      <td>299.000000</td>\n",
       "      <td>299.000000</td>\n",
       "    </tr>\n",
       "    <tr>\n",
       "      <th>mean</th>\n",
       "      <td>1.411247</td>\n",
       "      <td>1.055441</td>\n",
       "      <td>1.254830</td>\n",
       "      <td>1.635019</td>\n",
       "      <td>0.156417</td>\n",
       "      <td>-0.579578</td>\n",
       "    </tr>\n",
       "    <tr>\n",
       "      <th>std</th>\n",
       "      <td>0.409244</td>\n",
       "      <td>0.323370</td>\n",
       "      <td>0.300165</td>\n",
       "      <td>0.335382</td>\n",
       "      <td>0.621685</td>\n",
       "      <td>0.577644</td>\n",
       "    </tr>\n",
       "    <tr>\n",
       "      <th>min</th>\n",
       "      <td>0.588235</td>\n",
       "      <td>0.263158</td>\n",
       "      <td>0.524194</td>\n",
       "      <td>0.750000</td>\n",
       "      <td>-1.529412</td>\n",
       "      <td>-1.941176</td>\n",
       "    </tr>\n",
       "    <tr>\n",
       "      <th>25%</th>\n",
       "      <td>1.151462</td>\n",
       "      <td>0.847661</td>\n",
       "      <td>1.052632</td>\n",
       "      <td>1.422121</td>\n",
       "      <td>-0.231933</td>\n",
       "      <td>-0.931299</td>\n",
       "    </tr>\n",
       "    <tr>\n",
       "      <th>50%</th>\n",
       "      <td>1.315789</td>\n",
       "      <td>1.000000</td>\n",
       "      <td>1.244444</td>\n",
       "      <td>1.631579</td>\n",
       "      <td>0.078947</td>\n",
       "      <td>-0.649123</td>\n",
       "    </tr>\n",
       "    <tr>\n",
       "      <th>75%</th>\n",
       "      <td>1.606618</td>\n",
       "      <td>1.186049</td>\n",
       "      <td>1.421053</td>\n",
       "      <td>1.842105</td>\n",
       "      <td>0.408640</td>\n",
       "      <td>-0.312500</td>\n",
       "    </tr>\n",
       "    <tr>\n",
       "      <th>max</th>\n",
       "      <td>3.322368</td>\n",
       "      <td>2.328947</td>\n",
       "      <td>2.315789</td>\n",
       "      <td>2.631579</td>\n",
       "      <td>2.592105</td>\n",
       "      <td>1.467105</td>\n",
       "    </tr>\n",
       "  </tbody>\n",
       "</table>\n",
       "</div>"
      ],
      "text/plain": [
       "       home_team_goal  away_team_goal  home_team_taken  away_team_taken  \\\n",
       "count      299.000000      299.000000       299.000000       299.000000   \n",
       "mean         1.411247        1.055441         1.254830         1.635019   \n",
       "std          0.409244        0.323370         0.300165         0.335382   \n",
       "min          0.588235        0.263158         0.524194         0.750000   \n",
       "25%          1.151462        0.847661         1.052632         1.422121   \n",
       "50%          1.315789        1.000000         1.244444         1.631579   \n",
       "75%          1.606618        1.186049         1.421053         1.842105   \n",
       "max          3.322368        2.328947         2.315789         2.631579   \n",
       "\n",
       "         diff_dom    diff_ext  \n",
       "count  299.000000  299.000000  \n",
       "mean     0.156417   -0.579578  \n",
       "std      0.621685    0.577644  \n",
       "min     -1.529412   -1.941176  \n",
       "25%     -0.231933   -0.931299  \n",
       "50%      0.078947   -0.649123  \n",
       "75%      0.408640   -0.312500  \n",
       "max      2.592105    1.467105  "
      ]
     },
     "execution_count": 51,
     "metadata": {},
     "output_type": "execute_result"
    }
   ],
   "source": [
    "team_diff.describe()"
   ]
  },
  {
   "cell_type": "code",
   "execution_count": 118,
   "metadata": {},
   "outputs": [
    {
     "data": {
      "text/plain": [
       "<AxesSubplot:ylabel='diff_ext'>"
      ]
     },
     "execution_count": 118,
     "metadata": {},
     "output_type": "execute_result"
    },
    {
     "data": {
      "image/png": "[encoded data removed]",
      "text/plain": [
       "<Figure size 432x288 with 2 Axes>"
      ]
     },
     "metadata": {
      "needs_background": "light"
     },
     "output_type": "display_data"
    }
   ],
   "source": [
    "f, axes = plt.subplots(1, 2)\n",
    "sns.boxplot(y='diff_dom',data=team_diff,ax=axes[0]).set_title('Boite a moustache du goal average à domiciles et à l\\'exterieur par équipe')\n",
    "sns.boxplot(y='diff_ext',data=team_diff,ax=axes[1])"
   ]
  },
  {
   "cell_type": "code",
   "execution_count": 53,
   "metadata": {},
   "outputs": [
    {
     "data": {
      "image/png": "[encoded data removed]",
      "text/plain": [
       "<Figure size 432x288 with 1 Axes>"
      ]
     },
     "metadata": {
      "needs_background": "light"
     },
     "output_type": "display_data"
    }
   ],
   "source": [
    "plt.figure(\"Buts pris\")\n",
    "sns.histplot(x=team_diff['diff_dom'], label=\"Buts pris à domicile\").set_title(\"Distribution du average à domicile et à l'exterieur par equipe\")\n",
    "sns.histplot(x=team_diff['diff_ext'], label=\"Buts pris à l'exterieur\",color='red')\n",
    "plt.xlabel('Goal Average', fontsize=18)\n",
    "plt.ylabel('Nombre d\\'equipe', fontsize=18)\n",
    "plt.legend()\n",
    "plt.show()"
   ]
  },
  {
   "cell_type": "code",
   "execution_count": 54,
   "metadata": {},
   "outputs": [],
   "source": [
    "def compare_goal_average(row) :\n",
    "    if row['diff_dom'] > row['diff_ext'] :\n",
    "        return \"DOM\"\n",
    "    if row['diff_dom'] < row['diff_ext'] :\n",
    "        return \"EXT\"\n",
    "    else :\n",
    "        return \"EQ\"\n",
    "    "
   ]
  },
  {
   "cell_type": "code",
   "execution_count": 55,
   "metadata": {},
   "outputs": [
    {
     "data": {
      "text/html": [
       "<div>\n",
       "<style scoped>\n",
       "    .dataframe tbody tr th:only-of-type {\n",
       "        vertical-align: middle;\n",
       "    }\n",
       "\n",
       "    .dataframe tbody tr th {\n",
       "        vertical-align: top;\n",
       "    }\n",
       "\n",
       "    .dataframe thead th {\n",
       "        text-align: right;\n",
       "    }\n",
       "</style>\n",
       "<table border=\"1\" class=\"dataframe\">\n",
       "  <thead>\n",
       "    <tr style=\"text-align: right;\">\n",
       "      <th></th>\n",
       "      <th>home_team_goal</th>\n",
       "      <th>away_team_goal</th>\n",
       "      <th>home_team_taken</th>\n",
       "      <th>away_team_taken</th>\n",
       "      <th>diff_dom</th>\n",
       "      <th>diff_ext</th>\n",
       "      <th>better_average_at</th>\n",
       "    </tr>\n",
       "  </thead>\n",
       "  <tbody>\n",
       "    <tr>\n",
       "      <th>1601</th>\n",
       "      <td>1.233333</td>\n",
       "      <td>1.100000</td>\n",
       "      <td>1.025000</td>\n",
       "      <td>1.408333</td>\n",
       "      <td>0.208333</td>\n",
       "      <td>-0.308333</td>\n",
       "      <td>DOM</td>\n",
       "    </tr>\n",
       "    <tr>\n",
       "      <th>1773</th>\n",
       "      <td>1.644444</td>\n",
       "      <td>1.155556</td>\n",
       "      <td>1.622222</td>\n",
       "      <td>1.977778</td>\n",
       "      <td>0.022222</td>\n",
       "      <td>-0.822222</td>\n",
       "      <td>DOM</td>\n",
       "    </tr>\n",
       "    <tr>\n",
       "      <th>1957</th>\n",
       "      <td>1.466667</td>\n",
       "      <td>0.925000</td>\n",
       "      <td>1.025000</td>\n",
       "      <td>1.600000</td>\n",
       "      <td>0.441667</td>\n",
       "      <td>-0.675000</td>\n",
       "      <td>DOM</td>\n",
       "    </tr>\n",
       "    <tr>\n",
       "      <th>2033</th>\n",
       "      <td>0.933333</td>\n",
       "      <td>0.906667</td>\n",
       "      <td>1.226667</td>\n",
       "      <td>1.560000</td>\n",
       "      <td>-0.293333</td>\n",
       "      <td>-0.653333</td>\n",
       "      <td>DOM</td>\n",
       "    </tr>\n",
       "    <tr>\n",
       "      <th>2182</th>\n",
       "      <td>1.791667</td>\n",
       "      <td>1.308333</td>\n",
       "      <td>0.758333</td>\n",
       "      <td>0.991667</td>\n",
       "      <td>1.033333</td>\n",
       "      <td>0.316667</td>\n",
       "      <td>DOM</td>\n",
       "    </tr>\n",
       "    <tr>\n",
       "      <th>...</th>\n",
       "      <td>...</td>\n",
       "      <td>...</td>\n",
       "      <td>...</td>\n",
       "      <td>...</td>\n",
       "      <td>...</td>\n",
       "      <td>...</td>\n",
       "      <td>...</td>\n",
       "    </tr>\n",
       "    <tr>\n",
       "      <th>158085</th>\n",
       "      <td>1.142857</td>\n",
       "      <td>0.918367</td>\n",
       "      <td>1.265306</td>\n",
       "      <td>1.387755</td>\n",
       "      <td>-0.122449</td>\n",
       "      <td>-0.469388</td>\n",
       "      <td>DOM</td>\n",
       "    </tr>\n",
       "    <tr>\n",
       "      <th>177361</th>\n",
       "      <td>1.400000</td>\n",
       "      <td>0.800000</td>\n",
       "      <td>1.266667</td>\n",
       "      <td>1.600000</td>\n",
       "      <td>0.133333</td>\n",
       "      <td>-0.800000</td>\n",
       "      <td>DOM</td>\n",
       "    </tr>\n",
       "    <tr>\n",
       "      <th>188163</th>\n",
       "      <td>0.882353</td>\n",
       "      <td>1.117647</td>\n",
       "      <td>1.529412</td>\n",
       "      <td>1.647059</td>\n",
       "      <td>-0.647059</td>\n",
       "      <td>-0.529412</td>\n",
       "      <td>EXT</td>\n",
       "    </tr>\n",
       "    <tr>\n",
       "      <th>208931</th>\n",
       "      <td>1.210526</td>\n",
       "      <td>0.736842</td>\n",
       "      <td>1.368421</td>\n",
       "      <td>1.631579</td>\n",
       "      <td>-0.157895</td>\n",
       "      <td>-0.894737</td>\n",
       "      <td>DOM</td>\n",
       "    </tr>\n",
       "    <tr>\n",
       "      <th>274581</th>\n",
       "      <td>1.366667</td>\n",
       "      <td>1.000000</td>\n",
       "      <td>1.533333</td>\n",
       "      <td>1.866667</td>\n",
       "      <td>-0.166667</td>\n",
       "      <td>-0.866667</td>\n",
       "      <td>DOM</td>\n",
       "    </tr>\n",
       "  </tbody>\n",
       "</table>\n",
       "<p>299 rows × 7 columns</p>\n",
       "</div>"
      ],
      "text/plain": [
       "        home_team_goal  away_team_goal  home_team_taken  away_team_taken  \\\n",
       "1601          1.233333        1.100000         1.025000         1.408333   \n",
       "1773          1.644444        1.155556         1.622222         1.977778   \n",
       "1957          1.466667        0.925000         1.025000         1.600000   \n",
       "2033          0.933333        0.906667         1.226667         1.560000   \n",
       "2182          1.791667        1.308333         0.758333         0.991667   \n",
       "...                ...             ...              ...              ...   \n",
       "158085        1.142857        0.918367         1.265306         1.387755   \n",
       "177361        1.400000        0.800000         1.266667         1.600000   \n",
       "188163        0.882353        1.117647         1.529412         1.647059   \n",
       "208931        1.210526        0.736842         1.368421         1.631579   \n",
       "274581        1.366667        1.000000         1.533333         1.866667   \n",
       "\n",
       "        diff_dom  diff_ext better_average_at  \n",
       "1601    0.208333 -0.308333               DOM  \n",
       "1773    0.022222 -0.822222               DOM  \n",
       "1957    0.441667 -0.675000               DOM  \n",
       "2033   -0.293333 -0.653333               DOM  \n",
       "2182    1.033333  0.316667               DOM  \n",
       "...          ...       ...               ...  \n",
       "158085 -0.122449 -0.469388               DOM  \n",
       "177361  0.133333 -0.800000               DOM  \n",
       "188163 -0.647059 -0.529412               EXT  \n",
       "208931 -0.157895 -0.894737               DOM  \n",
       "274581 -0.166667 -0.866667               DOM  \n",
       "\n",
       "[299 rows x 7 columns]"
      ]
     },
     "execution_count": 55,
     "metadata": {},
     "output_type": "execute_result"
    }
   ],
   "source": [
    "team_diff['better_average_at'] = team_diff.apply(lambda x :compare_goal_average(x), axis=1)\n",
    "team_diff"
   ]
  },
  {
   "cell_type": "code",
   "execution_count": 103,
   "metadata": {},
   "outputs": [
    {
     "data": {
      "text/plain": [
       "<AxesSubplot:ylabel='better_average_at'>"
      ]
     },
     "execution_count": 103,
     "metadata": {},
     "output_type": "execute_result"
    },
    {
     "data": {
      "image/png": "[encoded data removed]",
      "text/plain": [
       "<Figure size 432x288 with 1 Axes>"
      ]
     },
     "metadata": {},
     "output_type": "display_data"
    }
   ],
   "source": [
    "team_diff['better_average_at'].value_counts(normalize=True).plot(kind='pie',autopct='%1.1f%%')"
   ]
  },
  {
   "cell_type": "markdown",
   "metadata": {},
   "source": [
    "97.3 % des equipe ont un meilleur goal average à domicile que à l'exterieur"
   ]
  },
  {
   "cell_type": "code",
   "execution_count": 57,
   "metadata": {},
   "outputs": [
    {
     "data": {
      "text/plain": [
       "(-2.0, 3.0)"
      ]
     },
     "execution_count": 57,
     "metadata": {},
     "output_type": "execute_result"
    },
    {
     "data": {
      "image/png": "[encoded data removed]",
      "text/plain": [
       "<Figure size 432x288 with 1 Axes>"
      ]
     },
     "metadata": {
      "needs_background": "light"
     },
     "output_type": "display_data"
    }
   ],
   "source": [
    "fig = plt.figure()\n",
    "ax = plt.subplot()\n",
    "team_diff.plot.scatter(x='diff_dom',y='diff_ext', ax = ax, alpha=0.2,title='Corrélation entre goal average à domicile et à l\\'exterieur')\n",
    "ax.set_xlim(-2,3)\n",
    "ax.set_ylim(-2,3)"
   ]
  },
  {
   "cell_type": "markdown",
   "metadata": {},
   "source": [
    "On observe une corrélation forte entre les deux variables. On a quelques points hors champs de la droite linéaire, qui désignent des equipes avec de meilleur goal average à l'exterieur que à domicile"
   ]
  },
  {
   "cell_type": "markdown",
   "metadata": {},
   "source": [
    "### D) Etude de corrélation entre variable domicile/extérieur"
   ]
  },
  {
   "cell_type": "code",
   "execution_count": 58,
   "metadata": {},
   "outputs": [
    {
     "data": {
      "text/html": [
       "<div>\n",
       "<style scoped>\n",
       "    .dataframe tbody tr th:only-of-type {\n",
       "        vertical-align: middle;\n",
       "    }\n",
       "\n",
       "    .dataframe tbody tr th {\n",
       "        vertical-align: top;\n",
       "    }\n",
       "\n",
       "    .dataframe thead th {\n",
       "        text-align: right;\n",
       "    }\n",
       "</style>\n",
       "<table border=\"1\" class=\"dataframe\">\n",
       "  <thead>\n",
       "    <tr style=\"text-align: right;\">\n",
       "      <th></th>\n",
       "      <th>home_team_goal</th>\n",
       "      <th>away_team_goal</th>\n",
       "      <th>home_team_taken</th>\n",
       "      <th>away_team_taken</th>\n",
       "      <th>diff_dom</th>\n",
       "      <th>diff_ext</th>\n",
       "      <th>better_average_at</th>\n",
       "    </tr>\n",
       "  </thead>\n",
       "  <tbody>\n",
       "    <tr>\n",
       "      <th>1601</th>\n",
       "      <td>1.233333</td>\n",
       "      <td>1.100000</td>\n",
       "      <td>1.025000</td>\n",
       "      <td>1.408333</td>\n",
       "      <td>0.208333</td>\n",
       "      <td>-0.308333</td>\n",
       "      <td>DOM</td>\n",
       "    </tr>\n",
       "    <tr>\n",
       "      <th>1773</th>\n",
       "      <td>1.644444</td>\n",
       "      <td>1.155556</td>\n",
       "      <td>1.622222</td>\n",
       "      <td>1.977778</td>\n",
       "      <td>0.022222</td>\n",
       "      <td>-0.822222</td>\n",
       "      <td>DOM</td>\n",
       "    </tr>\n",
       "    <tr>\n",
       "      <th>1957</th>\n",
       "      <td>1.466667</td>\n",
       "      <td>0.925000</td>\n",
       "      <td>1.025000</td>\n",
       "      <td>1.600000</td>\n",
       "      <td>0.441667</td>\n",
       "      <td>-0.675000</td>\n",
       "      <td>DOM</td>\n",
       "    </tr>\n",
       "    <tr>\n",
       "      <th>2033</th>\n",
       "      <td>0.933333</td>\n",
       "      <td>0.906667</td>\n",
       "      <td>1.226667</td>\n",
       "      <td>1.560000</td>\n",
       "      <td>-0.293333</td>\n",
       "      <td>-0.653333</td>\n",
       "      <td>DOM</td>\n",
       "    </tr>\n",
       "    <tr>\n",
       "      <th>2182</th>\n",
       "      <td>1.791667</td>\n",
       "      <td>1.308333</td>\n",
       "      <td>0.758333</td>\n",
       "      <td>0.991667</td>\n",
       "      <td>1.033333</td>\n",
       "      <td>0.316667</td>\n",
       "      <td>DOM</td>\n",
       "    </tr>\n",
       "    <tr>\n",
       "      <th>...</th>\n",
       "      <td>...</td>\n",
       "      <td>...</td>\n",
       "      <td>...</td>\n",
       "      <td>...</td>\n",
       "      <td>...</td>\n",
       "      <td>...</td>\n",
       "      <td>...</td>\n",
       "    </tr>\n",
       "    <tr>\n",
       "      <th>158085</th>\n",
       "      <td>1.142857</td>\n",
       "      <td>0.918367</td>\n",
       "      <td>1.265306</td>\n",
       "      <td>1.387755</td>\n",
       "      <td>-0.122449</td>\n",
       "      <td>-0.469388</td>\n",
       "      <td>DOM</td>\n",
       "    </tr>\n",
       "    <tr>\n",
       "      <th>177361</th>\n",
       "      <td>1.400000</td>\n",
       "      <td>0.800000</td>\n",
       "      <td>1.266667</td>\n",
       "      <td>1.600000</td>\n",
       "      <td>0.133333</td>\n",
       "      <td>-0.800000</td>\n",
       "      <td>DOM</td>\n",
       "    </tr>\n",
       "    <tr>\n",
       "      <th>188163</th>\n",
       "      <td>0.882353</td>\n",
       "      <td>1.117647</td>\n",
       "      <td>1.529412</td>\n",
       "      <td>1.647059</td>\n",
       "      <td>-0.647059</td>\n",
       "      <td>-0.529412</td>\n",
       "      <td>EXT</td>\n",
       "    </tr>\n",
       "    <tr>\n",
       "      <th>208931</th>\n",
       "      <td>1.210526</td>\n",
       "      <td>0.736842</td>\n",
       "      <td>1.368421</td>\n",
       "      <td>1.631579</td>\n",
       "      <td>-0.157895</td>\n",
       "      <td>-0.894737</td>\n",
       "      <td>DOM</td>\n",
       "    </tr>\n",
       "    <tr>\n",
       "      <th>274581</th>\n",
       "      <td>1.366667</td>\n",
       "      <td>1.000000</td>\n",
       "      <td>1.533333</td>\n",
       "      <td>1.866667</td>\n",
       "      <td>-0.166667</td>\n",
       "      <td>-0.866667</td>\n",
       "      <td>DOM</td>\n",
       "    </tr>\n",
       "  </tbody>\n",
       "</table>\n",
       "<p>299 rows × 7 columns</p>\n",
       "</div>"
      ],
      "text/plain": [
       "        home_team_goal  away_team_goal  home_team_taken  away_team_taken  \\\n",
       "1601          1.233333        1.100000         1.025000         1.408333   \n",
       "1773          1.644444        1.155556         1.622222         1.977778   \n",
       "1957          1.466667        0.925000         1.025000         1.600000   \n",
       "2033          0.933333        0.906667         1.226667         1.560000   \n",
       "2182          1.791667        1.308333         0.758333         0.991667   \n",
       "...                ...             ...              ...              ...   \n",
       "158085        1.142857        0.918367         1.265306         1.387755   \n",
       "177361        1.400000        0.800000         1.266667         1.600000   \n",
       "188163        0.882353        1.117647         1.529412         1.647059   \n",
       "208931        1.210526        0.736842         1.368421         1.631579   \n",
       "274581        1.366667        1.000000         1.533333         1.866667   \n",
       "\n",
       "        diff_dom  diff_ext better_average_at  \n",
       "1601    0.208333 -0.308333               DOM  \n",
       "1773    0.022222 -0.822222               DOM  \n",
       "1957    0.441667 -0.675000               DOM  \n",
       "2033   -0.293333 -0.653333               DOM  \n",
       "2182    1.033333  0.316667               DOM  \n",
       "...          ...       ...               ...  \n",
       "158085 -0.122449 -0.469388               DOM  \n",
       "177361  0.133333 -0.800000               DOM  \n",
       "188163 -0.647059 -0.529412               EXT  \n",
       "208931 -0.157895 -0.894737               DOM  \n",
       "274581 -0.166667 -0.866667               DOM  \n",
       "\n",
       "[299 rows x 7 columns]"
      ]
     },
     "execution_count": 58,
     "metadata": {},
     "output_type": "execute_result"
    }
   ],
   "source": [
    "team_diff"
   ]
  },
  {
   "cell_type": "code",
   "execution_count": 59,
   "metadata": {},
   "outputs": [
    {
     "data": {
      "text/html": [
       "<div>\n",
       "<style scoped>\n",
       "    .dataframe tbody tr th:only-of-type {\n",
       "        vertical-align: middle;\n",
       "    }\n",
       "\n",
       "    .dataframe tbody tr th {\n",
       "        vertical-align: top;\n",
       "    }\n",
       "\n",
       "    .dataframe thead th {\n",
       "        text-align: right;\n",
       "    }\n",
       "</style>\n",
       "<table border=\"1\" class=\"dataframe\">\n",
       "  <thead>\n",
       "    <tr style=\"text-align: right;\">\n",
       "      <th></th>\n",
       "      <th>home_team_goal</th>\n",
       "      <th>away_team_goal</th>\n",
       "      <th>better_at</th>\n",
       "      <th>home_team_taken</th>\n",
       "      <th>away_team_taken</th>\n",
       "      <th>worst_at</th>\n",
       "      <th>diff_dom</th>\n",
       "      <th>diff_ext</th>\n",
       "    </tr>\n",
       "  </thead>\n",
       "  <tbody>\n",
       "    <tr>\n",
       "      <th>1601</th>\n",
       "      <td>1.233333</td>\n",
       "      <td>1.100000</td>\n",
       "      <td>DOM</td>\n",
       "      <td>1.025000</td>\n",
       "      <td>1.408333</td>\n",
       "      <td>EXT</td>\n",
       "      <td>0.208333</td>\n",
       "      <td>-0.308333</td>\n",
       "    </tr>\n",
       "    <tr>\n",
       "      <th>1773</th>\n",
       "      <td>1.644444</td>\n",
       "      <td>1.155556</td>\n",
       "      <td>DOM</td>\n",
       "      <td>1.622222</td>\n",
       "      <td>1.977778</td>\n",
       "      <td>EXT</td>\n",
       "      <td>0.022222</td>\n",
       "      <td>-0.822222</td>\n",
       "    </tr>\n",
       "    <tr>\n",
       "      <th>1957</th>\n",
       "      <td>1.466667</td>\n",
       "      <td>0.925000</td>\n",
       "      <td>DOM</td>\n",
       "      <td>1.025000</td>\n",
       "      <td>1.600000</td>\n",
       "      <td>EXT</td>\n",
       "      <td>0.441667</td>\n",
       "      <td>-0.675000</td>\n",
       "    </tr>\n",
       "    <tr>\n",
       "      <th>2033</th>\n",
       "      <td>0.933333</td>\n",
       "      <td>0.906667</td>\n",
       "      <td>DOM</td>\n",
       "      <td>1.226667</td>\n",
       "      <td>1.560000</td>\n",
       "      <td>EXT</td>\n",
       "      <td>-0.293333</td>\n",
       "      <td>-0.653333</td>\n",
       "    </tr>\n",
       "    <tr>\n",
       "      <th>2182</th>\n",
       "      <td>1.791667</td>\n",
       "      <td>1.308333</td>\n",
       "      <td>DOM</td>\n",
       "      <td>0.758333</td>\n",
       "      <td>0.991667</td>\n",
       "      <td>EXT</td>\n",
       "      <td>1.033333</td>\n",
       "      <td>0.316667</td>\n",
       "    </tr>\n",
       "    <tr>\n",
       "      <th>...</th>\n",
       "      <td>...</td>\n",
       "      <td>...</td>\n",
       "      <td>...</td>\n",
       "      <td>...</td>\n",
       "      <td>...</td>\n",
       "      <td>...</td>\n",
       "      <td>...</td>\n",
       "      <td>...</td>\n",
       "    </tr>\n",
       "    <tr>\n",
       "      <th>158085</th>\n",
       "      <td>1.142857</td>\n",
       "      <td>0.918367</td>\n",
       "      <td>DOM</td>\n",
       "      <td>1.265306</td>\n",
       "      <td>1.387755</td>\n",
       "      <td>EXT</td>\n",
       "      <td>-0.122449</td>\n",
       "      <td>-0.469388</td>\n",
       "    </tr>\n",
       "    <tr>\n",
       "      <th>177361</th>\n",
       "      <td>1.400000</td>\n",
       "      <td>0.800000</td>\n",
       "      <td>DOM</td>\n",
       "      <td>1.266667</td>\n",
       "      <td>1.600000</td>\n",
       "      <td>EXT</td>\n",
       "      <td>0.133333</td>\n",
       "      <td>-0.800000</td>\n",
       "    </tr>\n",
       "    <tr>\n",
       "      <th>188163</th>\n",
       "      <td>0.882353</td>\n",
       "      <td>1.117647</td>\n",
       "      <td>EXT</td>\n",
       "      <td>1.529412</td>\n",
       "      <td>1.647059</td>\n",
       "      <td>EXT</td>\n",
       "      <td>-0.647059</td>\n",
       "      <td>-0.529412</td>\n",
       "    </tr>\n",
       "    <tr>\n",
       "      <th>208931</th>\n",
       "      <td>1.210526</td>\n",
       "      <td>0.736842</td>\n",
       "      <td>DOM</td>\n",
       "      <td>1.368421</td>\n",
       "      <td>1.631579</td>\n",
       "      <td>EXT</td>\n",
       "      <td>-0.157895</td>\n",
       "      <td>-0.894737</td>\n",
       "    </tr>\n",
       "    <tr>\n",
       "      <th>274581</th>\n",
       "      <td>1.366667</td>\n",
       "      <td>1.000000</td>\n",
       "      <td>DOM</td>\n",
       "      <td>1.533333</td>\n",
       "      <td>1.866667</td>\n",
       "      <td>EXT</td>\n",
       "      <td>-0.166667</td>\n",
       "      <td>-0.866667</td>\n",
       "    </tr>\n",
       "  </tbody>\n",
       "</table>\n",
       "<p>299 rows × 8 columns</p>\n",
       "</div>"
      ],
      "text/plain": [
       "        home_team_goal  away_team_goal better_at  home_team_taken  \\\n",
       "1601          1.233333        1.100000       DOM         1.025000   \n",
       "1773          1.644444        1.155556       DOM         1.622222   \n",
       "1957          1.466667        0.925000       DOM         1.025000   \n",
       "2033          0.933333        0.906667       DOM         1.226667   \n",
       "2182          1.791667        1.308333       DOM         0.758333   \n",
       "...                ...             ...       ...              ...   \n",
       "158085        1.142857        0.918367       DOM         1.265306   \n",
       "177361        1.400000        0.800000       DOM         1.266667   \n",
       "188163        0.882353        1.117647       EXT         1.529412   \n",
       "208931        1.210526        0.736842       DOM         1.368421   \n",
       "274581        1.366667        1.000000       DOM         1.533333   \n",
       "\n",
       "        away_team_taken worst_at  diff_dom  diff_ext  \n",
       "1601           1.408333      EXT  0.208333 -0.308333  \n",
       "1773           1.977778      EXT  0.022222 -0.822222  \n",
       "1957           1.600000      EXT  0.441667 -0.675000  \n",
       "2033           1.560000      EXT -0.293333 -0.653333  \n",
       "2182           0.991667      EXT  1.033333  0.316667  \n",
       "...                 ...      ...       ...       ...  \n",
       "158085         1.387755      EXT -0.122449 -0.469388  \n",
       "177361         1.600000      EXT  0.133333 -0.800000  \n",
       "188163         1.647059      EXT -0.647059 -0.529412  \n",
       "208931         1.631579      EXT -0.157895 -0.894737  \n",
       "274581         1.866667      EXT -0.166667 -0.866667  \n",
       "\n",
       "[299 rows x 8 columns]"
      ]
     },
     "execution_count": 59,
     "metadata": {},
     "output_type": "execute_result"
    }
   ],
   "source": [
    "full_df = pd.concat([team_mean_goaled,team_mean_taken,team_diff.iloc[:,-3:-1]],axis=1)\n",
    "full_df"
   ]
  },
  {
   "cell_type": "code",
   "execution_count": 60,
   "metadata": {},
   "outputs": [
    {
     "data": {
      "text/plain": [
       "<AxesSubplot:>"
      ]
     },
     "execution_count": 60,
     "metadata": {},
     "output_type": "execute_result"
    },
    {
     "data": {
      "image/png": "[encoded data removed]",
      "text/plain": [
       "<Figure size 432x288 with 2 Axes>"
      ]
     },
     "metadata": {
      "needs_background": "light"
     },
     "output_type": "display_data"
    }
   ],
   "source": [
    "matrix_corr = full_df[['home_team_goal','home_team_taken','diff_dom','away_team_goal','away_team_taken','diff_ext']].corr()\n",
    "sns.heatmap(matrix_corr,annot=True)"
   ]
  },
  {
   "cell_type": "markdown",
   "metadata": {},
   "source": [
    "Cette matrix de corrélation confirme bien les liaisons entre variables : \n",
    "* Fortement corrélé négativement lorsque l'une influe négativement sur l'autre. Exemple : Plus on prend de buts à l'exterieur et moins le goal average a l'exterieur est grand\n",
    "* Fortement corrélé positivement lorsque l'une influe positivement sur l'autre. Exemple : Plus on marque de buts à domicile et plus le goal average a domicile est grand\n",
    "* Très peu corrélé positivement ou négativement lorsque l'une influe peu sur l'autre (relation d'independance). Exemple : Marqué beaucoup de buts à domicile ne veut pas dire que l'equipe en question ne prend pas beaucoup de buts à l'exterieur ou qu'elle marque beaucoup à l'exterieur"
   ]
  },
  {
   "cell_type": "markdown",
   "metadata": {},
   "source": [
    "### Réponse à la sous question"
   ]
  },
  {
   "cell_type": "markdown",
   "metadata": {},
   "source": [
    "La réponse à la question : Est ce que les équipes marquent/prennent d'avantage de buts à domicile ou à l'exterieur est : \n",
    "Les équipes ont plus de chance de marquer de buts à domicile que à l'exterieur mais ont plus de chance de prendre des buts lorsqu'elles jouent à l'exterieur. Ceci explique que le goal average (différence de buts) soient meilleur à domicile que à l'exterieur. "
   ]
  },
  {
   "cell_type": "markdown",
   "metadata": {},
   "source": [
    "# 3) L'arbitrage a-t-il tendance a favoriser les équipes a domicile ?"
   ]
  },
  {
   "cell_type": "markdown",
   "metadata": {},
   "source": [
    "## A) Conversion des données XML en dataframe exploitable"
   ]
  },
  {
   "cell_type": "code",
   "execution_count": 61,
   "metadata": {},
   "outputs": [
    {
     "data": {
      "text/plain": [
       "array(['id', 'country_id', 'league_id', 'season', 'stage', 'date',\n",
       "       'match_api_id', 'home_team_api_id', 'away_team_api_id',\n",
       "       'home_team_goal', 'away_team_goal', 'home_player_X1',\n",
       "       'home_player_X2', 'home_player_X3', 'home_player_X4',\n",
       "       'home_player_X5', 'home_player_X6', 'home_player_X7',\n",
       "       'home_player_X8', 'home_player_X9', 'home_player_X10',\n",
       "       'home_player_X11', 'away_player_X1', 'away_player_X2',\n",
       "       'away_player_X3', 'away_player_X4', 'away_player_X5',\n",
       "       'away_player_X6', 'away_player_X7', 'away_player_X8',\n",
       "       'away_player_X9', 'away_player_X10', 'away_player_X11',\n",
       "       'home_player_Y1', 'home_player_Y2', 'home_player_Y3',\n",
       "       'home_player_Y4', 'home_player_Y5', 'home_player_Y6',\n",
       "       'home_player_Y7', 'home_player_Y8', 'home_player_Y9',\n",
       "       'home_player_Y10', 'home_player_Y11', 'away_player_Y1',\n",
       "       'away_player_Y2', 'away_player_Y3', 'away_player_Y4',\n",
       "       'away_player_Y5', 'away_player_Y6', 'away_player_Y7',\n",
       "       'away_player_Y8', 'away_player_Y9', 'away_player_Y10',\n",
       "       'away_player_Y11', 'home_player_1', 'home_player_2',\n",
       "       'home_player_3', 'home_player_4', 'home_player_5', 'home_player_6',\n",
       "       'home_player_7', 'home_player_8', 'home_player_9',\n",
       "       'home_player_10', 'home_player_11', 'away_player_1',\n",
       "       'away_player_2', 'away_player_3', 'away_player_4', 'away_player_5',\n",
       "       'away_player_6', 'away_player_7', 'away_player_8', 'away_player_9',\n",
       "       'away_player_10', 'away_player_11', 'goal', 'shoton', 'shotoff',\n",
       "       'foulcommit', 'card', 'cross', 'corner', 'possession', 'B365H',\n",
       "       'B365D', 'B365A', 'BWH', 'BWD', 'BWA', 'IWH', 'IWD', 'IWA', 'LBH',\n",
       "       'LBD', 'LBA', 'PSH', 'PSD', 'PSA', 'WHH', 'WHD', 'WHA', 'SJH',\n",
       "       'SJD', 'SJA', 'VCH', 'VCD', 'VCA', 'GBH', 'GBD', 'GBA', 'BSH',\n",
       "       'BSD', 'BSA'], dtype=object)"
      ]
     },
     "execution_count": 61,
     "metadata": {},
     "output_type": "execute_result"
    }
   ],
   "source": [
    "df.columns.values"
   ]
  },
  {
   "cell_type": "markdown",
   "metadata": {},
   "source": [
    "On selectionne les colonnes sur les faits de jeu durant le match"
   ]
  },
  {
   "cell_type": "code",
   "execution_count": 62,
   "metadata": {},
   "outputs": [],
   "source": [
    "import xml.etree.ElementTree as ET\n",
    "xml_df = pd.read_sql(\"\"\"SELECT id, league_id, stage, season,date, match_api_id,\n",
    "                     home_team_api_id, (SELECT team_long_name FROM Team WHERE team_api_id = home_team_api_id) home_team, \n",
    "                     away_team_api_id, (SELECT team_long_name FROM Team WHERE team_api_id = away_team_api_id) away_team,\n",
    "                     home_team_goal, away_team_goal, goal, shoton, shotoff, foulcommit,\n",
    "                     card\n",
    "                     FROM Match m;\n",
    "                \"\"\", conn)"
   ]
  },
  {
   "cell_type": "code",
   "execution_count": 63,
   "metadata": {},
   "outputs": [
    {
     "data": {
      "text/html": [
       "<div>\n",
       "<style scoped>\n",
       "    .dataframe tbody tr th:only-of-type {\n",
       "        vertical-align: middle;\n",
       "    }\n",
       "\n",
       "    .dataframe tbody tr th {\n",
       "        vertical-align: top;\n",
       "    }\n",
       "\n",
       "    .dataframe thead th {\n",
       "        text-align: right;\n",
       "    }\n",
       "</style>\n",
       "<table border=\"1\" class=\"dataframe\">\n",
       "  <thead>\n",
       "    <tr style=\"text-align: right;\">\n",
       "      <th></th>\n",
       "      <th>id</th>\n",
       "      <th>league_id</th>\n",
       "      <th>stage</th>\n",
       "      <th>season</th>\n",
       "      <th>date</th>\n",
       "      <th>match_api_id</th>\n",
       "      <th>home_team_api_id</th>\n",
       "      <th>home_team</th>\n",
       "      <th>away_team_api_id</th>\n",
       "      <th>away_team</th>\n",
       "      <th>home_team_goal</th>\n",
       "      <th>away_team_goal</th>\n",
       "      <th>goal</th>\n",
       "      <th>shoton</th>\n",
       "      <th>shotoff</th>\n",
       "      <th>foulcommit</th>\n",
       "      <th>card</th>\n",
       "    </tr>\n",
       "  </thead>\n",
       "  <tbody>\n",
       "    <tr>\n",
       "      <th>0</th>\n",
       "      <td>1</td>\n",
       "      <td>1</td>\n",
       "      <td>1</td>\n",
       "      <td>2008/2009</td>\n",
       "      <td>2008-08-17 00:00:00</td>\n",
       "      <td>492473</td>\n",
       "      <td>9987</td>\n",
       "      <td>KRC Genk</td>\n",
       "      <td>9993</td>\n",
       "      <td>Beerschot AC</td>\n",
       "      <td>1</td>\n",
       "      <td>1</td>\n",
       "      <td>None</td>\n",
       "      <td>None</td>\n",
       "      <td>None</td>\n",
       "      <td>None</td>\n",
       "      <td>None</td>\n",
       "    </tr>\n",
       "    <tr>\n",
       "      <th>1</th>\n",
       "      <td>2</td>\n",
       "      <td>1</td>\n",
       "      <td>1</td>\n",
       "      <td>2008/2009</td>\n",
       "      <td>2008-08-16 00:00:00</td>\n",
       "      <td>492474</td>\n",
       "      <td>10000</td>\n",
       "      <td>SV Zulte-Waregem</td>\n",
       "      <td>9994</td>\n",
       "      <td>Sporting Lokeren</td>\n",
       "      <td>0</td>\n",
       "      <td>0</td>\n",
       "      <td>None</td>\n",
       "      <td>None</td>\n",
       "      <td>None</td>\n",
       "      <td>None</td>\n",
       "      <td>None</td>\n",
       "    </tr>\n",
       "    <tr>\n",
       "      <th>2</th>\n",
       "      <td>3</td>\n",
       "      <td>1</td>\n",
       "      <td>1</td>\n",
       "      <td>2008/2009</td>\n",
       "      <td>2008-08-16 00:00:00</td>\n",
       "      <td>492475</td>\n",
       "      <td>9984</td>\n",
       "      <td>KSV Cercle Brugge</td>\n",
       "      <td>8635</td>\n",
       "      <td>RSC Anderlecht</td>\n",
       "      <td>0</td>\n",
       "      <td>3</td>\n",
       "      <td>None</td>\n",
       "      <td>None</td>\n",
       "      <td>None</td>\n",
       "      <td>None</td>\n",
       "      <td>None</td>\n",
       "    </tr>\n",
       "    <tr>\n",
       "      <th>3</th>\n",
       "      <td>4</td>\n",
       "      <td>1</td>\n",
       "      <td>1</td>\n",
       "      <td>2008/2009</td>\n",
       "      <td>2008-08-17 00:00:00</td>\n",
       "      <td>492476</td>\n",
       "      <td>9991</td>\n",
       "      <td>KAA Gent</td>\n",
       "      <td>9998</td>\n",
       "      <td>RAEC Mons</td>\n",
       "      <td>5</td>\n",
       "      <td>0</td>\n",
       "      <td>None</td>\n",
       "      <td>None</td>\n",
       "      <td>None</td>\n",
       "      <td>None</td>\n",
       "      <td>None</td>\n",
       "    </tr>\n",
       "    <tr>\n",
       "      <th>4</th>\n",
       "      <td>5</td>\n",
       "      <td>1</td>\n",
       "      <td>1</td>\n",
       "      <td>2008/2009</td>\n",
       "      <td>2008-08-16 00:00:00</td>\n",
       "      <td>492477</td>\n",
       "      <td>7947</td>\n",
       "      <td>FCV Dender EH</td>\n",
       "      <td>9985</td>\n",
       "      <td>Standard de Liège</td>\n",
       "      <td>1</td>\n",
       "      <td>3</td>\n",
       "      <td>None</td>\n",
       "      <td>None</td>\n",
       "      <td>None</td>\n",
       "      <td>None</td>\n",
       "      <td>None</td>\n",
       "    </tr>\n",
       "  </tbody>\n",
       "</table>\n",
       "</div>"
      ],
      "text/plain": [
       "   id  league_id  stage     season                 date  match_api_id  \\\n",
       "0   1          1      1  2008/2009  2008-08-17 00:00:00        492473   \n",
       "1   2          1      1  2008/2009  2008-08-16 00:00:00        492474   \n",
       "2   3          1      1  2008/2009  2008-08-16 00:00:00        492475   \n",
       "3   4          1      1  2008/2009  2008-08-17 00:00:00        492476   \n",
       "4   5          1      1  2008/2009  2008-08-16 00:00:00        492477   \n",
       "\n",
       "   home_team_api_id          home_team  away_team_api_id          away_team  \\\n",
       "0              9987           KRC Genk              9993       Beerschot AC   \n",
       "1             10000   SV Zulte-Waregem              9994   Sporting Lokeren   \n",
       "2              9984  KSV Cercle Brugge              8635     RSC Anderlecht   \n",
       "3              9991           KAA Gent              9998          RAEC Mons   \n",
       "4              7947      FCV Dender EH              9985  Standard de Liège   \n",
       "\n",
       "   home_team_goal  away_team_goal  goal shoton shotoff foulcommit  card  \n",
       "0               1               1  None   None    None       None  None  \n",
       "1               0               0  None   None    None       None  None  \n",
       "2               0               3  None   None    None       None  None  \n",
       "3               5               0  None   None    None       None  None  \n",
       "4               1               3  None   None    None       None  None  "
      ]
     },
     "execution_count": 63,
     "metadata": {},
     "output_type": "execute_result"
    }
   ],
   "source": [
    "xml_df.head()"
   ]
  },
  {
   "cell_type": "code",
   "execution_count": 64,
   "metadata": {},
   "outputs": [],
   "source": [
    "xml_df = xml_df.dropna(subset=['foulcommit'])"
   ]
  },
  {
   "cell_type": "code",
   "execution_count": 65,
   "metadata": {
    "scrolled": true
   },
   "outputs": [
    {
     "data": {
      "text/plain": [
       "(14217, 17)"
      ]
     },
     "execution_count": 65,
     "metadata": {},
     "output_type": "execute_result"
    }
   ],
   "source": [
    "xml_df.shape"
   ]
  },
  {
   "cell_type": "code",
   "execution_count": 66,
   "metadata": {},
   "outputs": [
    {
     "data": {
      "text/html": [
       "<div>\n",
       "<style scoped>\n",
       "    .dataframe tbody tr th:only-of-type {\n",
       "        vertical-align: middle;\n",
       "    }\n",
       "\n",
       "    .dataframe tbody tr th {\n",
       "        vertical-align: top;\n",
       "    }\n",
       "\n",
       "    .dataframe thead th {\n",
       "        text-align: right;\n",
       "    }\n",
       "</style>\n",
       "<table border=\"1\" class=\"dataframe\">\n",
       "  <thead>\n",
       "    <tr style=\"text-align: right;\">\n",
       "      <th></th>\n",
       "      <th>id</th>\n",
       "      <th>league_id</th>\n",
       "      <th>stage</th>\n",
       "      <th>season</th>\n",
       "      <th>date</th>\n",
       "      <th>match_api_id</th>\n",
       "      <th>home_team_api_id</th>\n",
       "      <th>home_team</th>\n",
       "      <th>away_team_api_id</th>\n",
       "      <th>away_team</th>\n",
       "      <th>home_team_goal</th>\n",
       "      <th>away_team_goal</th>\n",
       "      <th>goal</th>\n",
       "      <th>shoton</th>\n",
       "      <th>shotoff</th>\n",
       "      <th>foulcommit</th>\n",
       "      <th>card</th>\n",
       "    </tr>\n",
       "  </thead>\n",
       "  <tbody>\n",
       "    <tr>\n",
       "      <th>1728</th>\n",
       "      <td>1729</td>\n",
       "      <td>1729</td>\n",
       "      <td>1</td>\n",
       "      <td>2008/2009</td>\n",
       "      <td>2008-08-17 00:00:00</td>\n",
       "      <td>489042</td>\n",
       "      <td>10260</td>\n",
       "      <td>Manchester United</td>\n",
       "      <td>10261</td>\n",
       "      <td>Newcastle United</td>\n",
       "      <td>1</td>\n",
       "      <td>1</td>\n",
       "      <td>&lt;goal&gt;&lt;value&gt;&lt;comment&gt;n&lt;/comment&gt;&lt;stats&gt;&lt;goals...</td>\n",
       "      <td>&lt;shoton&gt;&lt;value&gt;&lt;stats&gt;&lt;blocked&gt;1&lt;/blocked&gt;&lt;/st...</td>\n",
       "      <td>&lt;shotoff&gt;&lt;value&gt;&lt;stats&gt;&lt;shotoff&gt;1&lt;/shotoff&gt;&lt;/s...</td>\n",
       "      <td>&lt;foulcommit&gt;&lt;value&gt;&lt;stats&gt;&lt;foulscommitted&gt;1&lt;/f...</td>\n",
       "      <td>&lt;card&gt;&lt;value&gt;&lt;comment&gt;y&lt;/comment&gt;&lt;stats&gt;&lt;ycard...</td>\n",
       "    </tr>\n",
       "    <tr>\n",
       "      <th>1729</th>\n",
       "      <td>1730</td>\n",
       "      <td>1729</td>\n",
       "      <td>1</td>\n",
       "      <td>2008/2009</td>\n",
       "      <td>2008-08-16 00:00:00</td>\n",
       "      <td>489043</td>\n",
       "      <td>9825</td>\n",
       "      <td>Arsenal</td>\n",
       "      <td>8659</td>\n",
       "      <td>West Bromwich Albion</td>\n",
       "      <td>1</td>\n",
       "      <td>0</td>\n",
       "      <td>&lt;goal&gt;&lt;value&gt;&lt;comment&gt;n&lt;/comment&gt;&lt;stats&gt;&lt;goals...</td>\n",
       "      <td>&lt;shoton&gt;&lt;value&gt;&lt;stats&gt;&lt;blocked&gt;1&lt;/blocked&gt;&lt;/st...</td>\n",
       "      <td>&lt;shotoff&gt;&lt;value&gt;&lt;stats&gt;&lt;shotoff&gt;1&lt;/shotoff&gt;&lt;/s...</td>\n",
       "      <td>&lt;foulcommit&gt;&lt;value&gt;&lt;stats&gt;&lt;foulscommitted&gt;1&lt;/f...</td>\n",
       "      <td>&lt;card /&gt;</td>\n",
       "    </tr>\n",
       "    <tr>\n",
       "      <th>1730</th>\n",
       "      <td>1731</td>\n",
       "      <td>1729</td>\n",
       "      <td>1</td>\n",
       "      <td>2008/2009</td>\n",
       "      <td>2008-08-16 00:00:00</td>\n",
       "      <td>489044</td>\n",
       "      <td>8472</td>\n",
       "      <td>Sunderland</td>\n",
       "      <td>8650</td>\n",
       "      <td>Liverpool</td>\n",
       "      <td>0</td>\n",
       "      <td>1</td>\n",
       "      <td>&lt;goal&gt;&lt;value&gt;&lt;comment&gt;n&lt;/comment&gt;&lt;stats&gt;&lt;goals...</td>\n",
       "      <td>&lt;shoton&gt;&lt;value&gt;&lt;stats&gt;&lt;blocked&gt;1&lt;/blocked&gt;&lt;/st...</td>\n",
       "      <td>&lt;shotoff&gt;&lt;value&gt;&lt;stats&gt;&lt;shotoff&gt;1&lt;/shotoff&gt;&lt;/s...</td>\n",
       "      <td>&lt;foulcommit&gt;&lt;value&gt;&lt;stats&gt;&lt;foulscommitted&gt;1&lt;/f...</td>\n",
       "      <td>&lt;card&gt;&lt;value&gt;&lt;comment&gt;y&lt;/comment&gt;&lt;stats&gt;&lt;ycard...</td>\n",
       "    </tr>\n",
       "    <tr>\n",
       "      <th>1731</th>\n",
       "      <td>1732</td>\n",
       "      <td>1729</td>\n",
       "      <td>1</td>\n",
       "      <td>2008/2009</td>\n",
       "      <td>2008-08-16 00:00:00</td>\n",
       "      <td>489045</td>\n",
       "      <td>8654</td>\n",
       "      <td>West Ham United</td>\n",
       "      <td>8528</td>\n",
       "      <td>Wigan Athletic</td>\n",
       "      <td>2</td>\n",
       "      <td>1</td>\n",
       "      <td>&lt;goal&gt;&lt;value&gt;&lt;comment&gt;n&lt;/comment&gt;&lt;stats&gt;&lt;goals...</td>\n",
       "      <td>&lt;shoton&gt;&lt;value&gt;&lt;stats&gt;&lt;shoton&gt;1&lt;/shoton&gt;&lt;/stat...</td>\n",
       "      <td>&lt;shotoff&gt;&lt;value&gt;&lt;stats&gt;&lt;shotoff&gt;1&lt;/shotoff&gt;&lt;/s...</td>\n",
       "      <td>&lt;foulcommit&gt;&lt;value&gt;&lt;stats&gt;&lt;foulscommitted&gt;1&lt;/f...</td>\n",
       "      <td>&lt;card&gt;&lt;value&gt;&lt;comment&gt;y&lt;/comment&gt;&lt;stats&gt;&lt;ycard...</td>\n",
       "    </tr>\n",
       "    <tr>\n",
       "      <th>1732</th>\n",
       "      <td>1733</td>\n",
       "      <td>1729</td>\n",
       "      <td>1</td>\n",
       "      <td>2008/2009</td>\n",
       "      <td>2008-08-17 00:00:00</td>\n",
       "      <td>489046</td>\n",
       "      <td>10252</td>\n",
       "      <td>Aston Villa</td>\n",
       "      <td>8456</td>\n",
       "      <td>Manchester City</td>\n",
       "      <td>4</td>\n",
       "      <td>2</td>\n",
       "      <td>&lt;goal&gt;&lt;value&gt;&lt;comment&gt;n&lt;/comment&gt;&lt;stats&gt;&lt;goals...</td>\n",
       "      <td>&lt;shoton&gt;&lt;value&gt;&lt;stats&gt;&lt;blocked&gt;1&lt;/blocked&gt;&lt;/st...</td>\n",
       "      <td>&lt;shotoff&gt;&lt;value&gt;&lt;stats&gt;&lt;shotoff&gt;1&lt;/shotoff&gt;&lt;/s...</td>\n",
       "      <td>&lt;foulcommit&gt;&lt;value&gt;&lt;stats&gt;&lt;foulscommitted&gt;1&lt;/f...</td>\n",
       "      <td>&lt;card&gt;&lt;value&gt;&lt;comment&gt;y&lt;/comment&gt;&lt;stats&gt;&lt;ycard...</td>\n",
       "    </tr>\n",
       "  </tbody>\n",
       "</table>\n",
       "</div>"
      ],
      "text/plain": [
       "        id  league_id  stage     season                 date  match_api_id  \\\n",
       "1728  1729       1729      1  2008/2009  2008-08-17 00:00:00        489042   \n",
       "1729  1730       1729      1  2008/2009  2008-08-16 00:00:00        489043   \n",
       "1730  1731       1729      1  2008/2009  2008-08-16 00:00:00        489044   \n",
       "1731  1732       1729      1  2008/2009  2008-08-16 00:00:00        489045   \n",
       "1732  1733       1729      1  2008/2009  2008-08-17 00:00:00        489046   \n",
       "\n",
       "      home_team_api_id          home_team  away_team_api_id  \\\n",
       "1728             10260  Manchester United             10261   \n",
       "1729              9825            Arsenal              8659   \n",
       "1730              8472         Sunderland              8650   \n",
       "1731              8654    West Ham United              8528   \n",
       "1732             10252        Aston Villa              8456   \n",
       "\n",
       "                 away_team  home_team_goal  away_team_goal  \\\n",
       "1728      Newcastle United               1               1   \n",
       "1729  West Bromwich Albion               1               0   \n",
       "1730             Liverpool               0               1   \n",
       "1731        Wigan Athletic               2               1   \n",
       "1732       Manchester City               4               2   \n",
       "\n",
       "                                                   goal  \\\n",
       "1728  <goal><value><comment>n</comment><stats><goals...   \n",
       "1729  <goal><value><comment>n</comment><stats><goals...   \n",
       "1730  <goal><value><comment>n</comment><stats><goals...   \n",
       "1731  <goal><value><comment>n</comment><stats><goals...   \n",
       "1732  <goal><value><comment>n</comment><stats><goals...   \n",
       "\n",
       "                                                 shoton  \\\n",
       "1728  <shoton><value><stats><blocked>1</blocked></st...   \n",
       "1729  <shoton><value><stats><blocked>1</blocked></st...   \n",
       "1730  <shoton><value><stats><blocked>1</blocked></st...   \n",
       "1731  <shoton><value><stats><shoton>1</shoton></stat...   \n",
       "1732  <shoton><value><stats><blocked>1</blocked></st...   \n",
       "\n",
       "                                                shotoff  \\\n",
       "1728  <shotoff><value><stats><shotoff>1</shotoff></s...   \n",
       "1729  <shotoff><value><stats><shotoff>1</shotoff></s...   \n",
       "1730  <shotoff><value><stats><shotoff>1</shotoff></s...   \n",
       "1731  <shotoff><value><stats><shotoff>1</shotoff></s...   \n",
       "1732  <shotoff><value><stats><shotoff>1</shotoff></s...   \n",
       "\n",
       "                                             foulcommit  \\\n",
       "1728  <foulcommit><value><stats><foulscommitted>1</f...   \n",
       "1729  <foulcommit><value><stats><foulscommitted>1</f...   \n",
       "1730  <foulcommit><value><stats><foulscommitted>1</f...   \n",
       "1731  <foulcommit><value><stats><foulscommitted>1</f...   \n",
       "1732  <foulcommit><value><stats><foulscommitted>1</f...   \n",
       "\n",
       "                                                   card  \n",
       "1728  <card><value><comment>y</comment><stats><ycard...  \n",
       "1729                                           <card />  \n",
       "1730  <card><value><comment>y</comment><stats><ycard...  \n",
       "1731  <card><value><comment>y</comment><stats><ycard...  \n",
       "1732  <card><value><comment>y</comment><stats><ycard...  "
      ]
     },
     "execution_count": 66,
     "metadata": {},
     "output_type": "execute_result"
    }
   ],
   "source": [
    "xml_df.head()"
   ]
  },
  {
   "cell_type": "code",
   "execution_count": 67,
   "metadata": {},
   "outputs": [
    {
     "data": {
      "text/plain": [
       "Index(['id', 'league_id', 'stage', 'season', 'date', 'match_api_id',\n",
       "       'home_team_api_id', 'home_team', 'away_team_api_id', 'away_team',\n",
       "       'home_team_goal', 'away_team_goal', 'goal', 'shoton', 'shotoff',\n",
       "       'foulcommit', 'card'],\n",
       "      dtype='object')"
      ]
     },
     "execution_count": 67,
     "metadata": {},
     "output_type": "execute_result"
    }
   ],
   "source": [
    "xml_df.columns"
   ]
  },
  {
   "cell_type": "markdown",
   "metadata": {},
   "source": [
    "Calcul des statistiques qui nous interesse sur les équipes a domicile et a l'exterieur par match : faute, carton jaune et rouges"
   ]
  },
  {
   "cell_type": "code",
   "execution_count": 68,
   "metadata": {},
   "outputs": [],
   "source": [
    "def calculate_stats_both_teams(xml_document, home_team, away_team, card_type='y'):\n",
    "    assert card_type == 'y' or card_type == 'r', \"Please enter either y or r\"\n",
    "    tree = ET.fromstring(xml_document)\n",
    "    stat_home_team = 0\n",
    "    stat_away_team = 0\n",
    "    \n",
    "    #Dealing with card type using the root element & the card type argument\n",
    "    if tree.tag == 'card':\n",
    "        for child in tree.iter('value'):\n",
    "            #Some xml docs have no card_type element in the tree. comment section seems to have that information\n",
    "            try:\n",
    "                if child.find('comment').text == card_type:\n",
    "                    if int(child.find('team').text) == home_team:\n",
    "                        stat_home_team += 1\n",
    "                    else:\n",
    "                        stat_away_team += 1\n",
    "            except AttributeError:\n",
    "                #Some values in the xml doc don't have team values, so there isn't much we can do at this stage\n",
    "                pass\n",
    "                \n",
    "        return stat_home_team, stat_away_team\n",
    "    \n",
    "    #Lets take the last possession stat which is available from the xml doc\n",
    "    if tree.tag == 'possession':\n",
    "        try:\n",
    "            last_value = [child for child in tree.iter('value')][-1]\n",
    "            return int(last_value.find('homepos').text), int(last_value.find('awaypos').text)\n",
    "        except:\n",
    "            return None, None\n",
    "    \n",
    "    #Taking care of all other stats by extracting based on the home team & away team api id's\n",
    "    for team in [int(stat.text) for stat in tree.findall('value/team')]:\n",
    "        if team == home_team: \n",
    "            stat_home_team += 1\n",
    "        else:\n",
    "            stat_away_team += 1\n",
    "    return stat_home_team, stat_away_team"
   ]
  },
  {
   "cell_type": "code",
   "execution_count": 69,
   "metadata": {},
   "outputs": [],
   "source": [
    "xml_df[['foul_home_team','foul_away_team']] = xml_df[['foulcommit','home_team_api_id','away_team_api_id']].apply(lambda x: calculate_stats_both_teams(x['foulcommit'],x['home_team_api_id'],x['away_team_api_id']), axis = 1,result_type=\"expand\")  \n",
    "xml_df[['yellow_card_home_team','yellow_card_away_team']] = xml_df[['card','home_team_api_id','away_team_api_id']].apply(lambda x: calculate_stats_both_teams(x['card'],x['home_team_api_id'],x['away_team_api_id']), axis = 1,result_type=\"expand\")\n",
    "xml_df[['red_card_home_team','red_card_away_team']] = xml_df[['card','home_team_api_id','away_team_api_id']].apply(lambda x: calculate_stats_both_teams(x['card'],x['home_team_api_id'],x['away_team_api_id'], card_type='r'), axis = 1,result_type=\"expand\")  "
   ]
  },
  {
   "cell_type": "code",
   "execution_count": 70,
   "metadata": {},
   "outputs": [
    {
     "data": {
      "text/html": [
       "<div>\n",
       "<style scoped>\n",
       "    .dataframe tbody tr th:only-of-type {\n",
       "        vertical-align: middle;\n",
       "    }\n",
       "\n",
       "    .dataframe tbody tr th {\n",
       "        vertical-align: top;\n",
       "    }\n",
       "\n",
       "    .dataframe thead th {\n",
       "        text-align: right;\n",
       "    }\n",
       "</style>\n",
       "<table border=\"1\" class=\"dataframe\">\n",
       "  <thead>\n",
       "    <tr style=\"text-align: right;\">\n",
       "      <th></th>\n",
       "      <th>id</th>\n",
       "      <th>league_id</th>\n",
       "      <th>stage</th>\n",
       "      <th>season</th>\n",
       "      <th>date</th>\n",
       "      <th>match_api_id</th>\n",
       "      <th>home_team_api_id</th>\n",
       "      <th>home_team</th>\n",
       "      <th>away_team_api_id</th>\n",
       "      <th>away_team</th>\n",
       "      <th>...</th>\n",
       "      <th>shoton</th>\n",
       "      <th>shotoff</th>\n",
       "      <th>foulcommit</th>\n",
       "      <th>card</th>\n",
       "      <th>foul_home_team</th>\n",
       "      <th>foul_away_team</th>\n",
       "      <th>yellow_card_home_team</th>\n",
       "      <th>yellow_card_away_team</th>\n",
       "      <th>red_card_home_team</th>\n",
       "      <th>red_card_away_team</th>\n",
       "    </tr>\n",
       "  </thead>\n",
       "  <tbody>\n",
       "    <tr>\n",
       "      <th>1728</th>\n",
       "      <td>1729</td>\n",
       "      <td>1729</td>\n",
       "      <td>1</td>\n",
       "      <td>2008/2009</td>\n",
       "      <td>2008-08-17 00:00:00</td>\n",
       "      <td>489042</td>\n",
       "      <td>10260</td>\n",
       "      <td>Manchester United</td>\n",
       "      <td>10261</td>\n",
       "      <td>Newcastle United</td>\n",
       "      <td>...</td>\n",
       "      <td>&lt;shoton&gt;&lt;value&gt;&lt;stats&gt;&lt;blocked&gt;1&lt;/blocked&gt;&lt;/st...</td>\n",
       "      <td>&lt;shotoff&gt;&lt;value&gt;&lt;stats&gt;&lt;shotoff&gt;1&lt;/shotoff&gt;&lt;/s...</td>\n",
       "      <td>&lt;foulcommit&gt;&lt;value&gt;&lt;stats&gt;&lt;foulscommitted&gt;1&lt;/f...</td>\n",
       "      <td>&lt;card&gt;&lt;value&gt;&lt;comment&gt;y&lt;/comment&gt;&lt;stats&gt;&lt;ycard...</td>\n",
       "      <td>16</td>\n",
       "      <td>11</td>\n",
       "      <td>3</td>\n",
       "      <td>0</td>\n",
       "      <td>0</td>\n",
       "      <td>0</td>\n",
       "    </tr>\n",
       "    <tr>\n",
       "      <th>1729</th>\n",
       "      <td>1730</td>\n",
       "      <td>1729</td>\n",
       "      <td>1</td>\n",
       "      <td>2008/2009</td>\n",
       "      <td>2008-08-16 00:00:00</td>\n",
       "      <td>489043</td>\n",
       "      <td>9825</td>\n",
       "      <td>Arsenal</td>\n",
       "      <td>8659</td>\n",
       "      <td>West Bromwich Albion</td>\n",
       "      <td>...</td>\n",
       "      <td>&lt;shoton&gt;&lt;value&gt;&lt;stats&gt;&lt;blocked&gt;1&lt;/blocked&gt;&lt;/st...</td>\n",
       "      <td>&lt;shotoff&gt;&lt;value&gt;&lt;stats&gt;&lt;shotoff&gt;1&lt;/shotoff&gt;&lt;/s...</td>\n",
       "      <td>&lt;foulcommit&gt;&lt;value&gt;&lt;stats&gt;&lt;foulscommitted&gt;1&lt;/f...</td>\n",
       "      <td>&lt;card /&gt;</td>\n",
       "      <td>11</td>\n",
       "      <td>9</td>\n",
       "      <td>0</td>\n",
       "      <td>0</td>\n",
       "      <td>0</td>\n",
       "      <td>0</td>\n",
       "    </tr>\n",
       "    <tr>\n",
       "      <th>1730</th>\n",
       "      <td>1731</td>\n",
       "      <td>1729</td>\n",
       "      <td>1</td>\n",
       "      <td>2008/2009</td>\n",
       "      <td>2008-08-16 00:00:00</td>\n",
       "      <td>489044</td>\n",
       "      <td>8472</td>\n",
       "      <td>Sunderland</td>\n",
       "      <td>8650</td>\n",
       "      <td>Liverpool</td>\n",
       "      <td>...</td>\n",
       "      <td>&lt;shoton&gt;&lt;value&gt;&lt;stats&gt;&lt;blocked&gt;1&lt;/blocked&gt;&lt;/st...</td>\n",
       "      <td>&lt;shotoff&gt;&lt;value&gt;&lt;stats&gt;&lt;shotoff&gt;1&lt;/shotoff&gt;&lt;/s...</td>\n",
       "      <td>&lt;foulcommit&gt;&lt;value&gt;&lt;stats&gt;&lt;foulscommitted&gt;1&lt;/f...</td>\n",
       "      <td>&lt;card&gt;&lt;value&gt;&lt;comment&gt;y&lt;/comment&gt;&lt;stats&gt;&lt;ycard...</td>\n",
       "      <td>13</td>\n",
       "      <td>12</td>\n",
       "      <td>0</td>\n",
       "      <td>2</td>\n",
       "      <td>0</td>\n",
       "      <td>0</td>\n",
       "    </tr>\n",
       "    <tr>\n",
       "      <th>1731</th>\n",
       "      <td>1732</td>\n",
       "      <td>1729</td>\n",
       "      <td>1</td>\n",
       "      <td>2008/2009</td>\n",
       "      <td>2008-08-16 00:00:00</td>\n",
       "      <td>489045</td>\n",
       "      <td>8654</td>\n",
       "      <td>West Ham United</td>\n",
       "      <td>8528</td>\n",
       "      <td>Wigan Athletic</td>\n",
       "      <td>...</td>\n",
       "      <td>&lt;shoton&gt;&lt;value&gt;&lt;stats&gt;&lt;shoton&gt;1&lt;/shoton&gt;&lt;/stat...</td>\n",
       "      <td>&lt;shotoff&gt;&lt;value&gt;&lt;stats&gt;&lt;shotoff&gt;1&lt;/shotoff&gt;&lt;/s...</td>\n",
       "      <td>&lt;foulcommit&gt;&lt;value&gt;&lt;stats&gt;&lt;foulscommitted&gt;1&lt;/f...</td>\n",
       "      <td>&lt;card&gt;&lt;value&gt;&lt;comment&gt;y&lt;/comment&gt;&lt;stats&gt;&lt;ycard...</td>\n",
       "      <td>14</td>\n",
       "      <td>13</td>\n",
       "      <td>2</td>\n",
       "      <td>1</td>\n",
       "      <td>0</td>\n",
       "      <td>0</td>\n",
       "    </tr>\n",
       "    <tr>\n",
       "      <th>1732</th>\n",
       "      <td>1733</td>\n",
       "      <td>1729</td>\n",
       "      <td>1</td>\n",
       "      <td>2008/2009</td>\n",
       "      <td>2008-08-17 00:00:00</td>\n",
       "      <td>489046</td>\n",
       "      <td>10252</td>\n",
       "      <td>Aston Villa</td>\n",
       "      <td>8456</td>\n",
       "      <td>Manchester City</td>\n",
       "      <td>...</td>\n",
       "      <td>&lt;shoton&gt;&lt;value&gt;&lt;stats&gt;&lt;blocked&gt;1&lt;/blocked&gt;&lt;/st...</td>\n",
       "      <td>&lt;shotoff&gt;&lt;value&gt;&lt;stats&gt;&lt;shotoff&gt;1&lt;/shotoff&gt;&lt;/s...</td>\n",
       "      <td>&lt;foulcommit&gt;&lt;value&gt;&lt;stats&gt;&lt;foulscommitted&gt;1&lt;/f...</td>\n",
       "      <td>&lt;card&gt;&lt;value&gt;&lt;comment&gt;y&lt;/comment&gt;&lt;stats&gt;&lt;ycard...</td>\n",
       "      <td>11</td>\n",
       "      <td>13</td>\n",
       "      <td>0</td>\n",
       "      <td>1</td>\n",
       "      <td>0</td>\n",
       "      <td>0</td>\n",
       "    </tr>\n",
       "  </tbody>\n",
       "</table>\n",
       "<p>5 rows × 23 columns</p>\n",
       "</div>"
      ],
      "text/plain": [
       "        id  league_id  stage     season                 date  match_api_id  \\\n",
       "1728  1729       1729      1  2008/2009  2008-08-17 00:00:00        489042   \n",
       "1729  1730       1729      1  2008/2009  2008-08-16 00:00:00        489043   \n",
       "1730  1731       1729      1  2008/2009  2008-08-16 00:00:00        489044   \n",
       "1731  1732       1729      1  2008/2009  2008-08-16 00:00:00        489045   \n",
       "1732  1733       1729      1  2008/2009  2008-08-17 00:00:00        489046   \n",
       "\n",
       "      home_team_api_id          home_team  away_team_api_id  \\\n",
       "1728             10260  Manchester United             10261   \n",
       "1729              9825            Arsenal              8659   \n",
       "1730              8472         Sunderland              8650   \n",
       "1731              8654    West Ham United              8528   \n",
       "1732             10252        Aston Villa              8456   \n",
       "\n",
       "                 away_team  ...  \\\n",
       "1728      Newcastle United  ...   \n",
       "1729  West Bromwich Albion  ...   \n",
       "1730             Liverpool  ...   \n",
       "1731        Wigan Athletic  ...   \n",
       "1732       Manchester City  ...   \n",
       "\n",
       "                                                 shoton  \\\n",
       "1728  <shoton><value><stats><blocked>1</blocked></st...   \n",
       "1729  <shoton><value><stats><blocked>1</blocked></st...   \n",
       "1730  <shoton><value><stats><blocked>1</blocked></st...   \n",
       "1731  <shoton><value><stats><shoton>1</shoton></stat...   \n",
       "1732  <shoton><value><stats><blocked>1</blocked></st...   \n",
       "\n",
       "                                                shotoff  \\\n",
       "1728  <shotoff><value><stats><shotoff>1</shotoff></s...   \n",
       "1729  <shotoff><value><stats><shotoff>1</shotoff></s...   \n",
       "1730  <shotoff><value><stats><shotoff>1</shotoff></s...   \n",
       "1731  <shotoff><value><stats><shotoff>1</shotoff></s...   \n",
       "1732  <shotoff><value><stats><shotoff>1</shotoff></s...   \n",
       "\n",
       "                                             foulcommit  \\\n",
       "1728  <foulcommit><value><stats><foulscommitted>1</f...   \n",
       "1729  <foulcommit><value><stats><foulscommitted>1</f...   \n",
       "1730  <foulcommit><value><stats><foulscommitted>1</f...   \n",
       "1731  <foulcommit><value><stats><foulscommitted>1</f...   \n",
       "1732  <foulcommit><value><stats><foulscommitted>1</f...   \n",
       "\n",
       "                                                   card foul_home_team  \\\n",
       "1728  <card><value><comment>y</comment><stats><ycard...             16   \n",
       "1729                                           <card />             11   \n",
       "1730  <card><value><comment>y</comment><stats><ycard...             13   \n",
       "1731  <card><value><comment>y</comment><stats><ycard...             14   \n",
       "1732  <card><value><comment>y</comment><stats><ycard...             11   \n",
       "\n",
       "     foul_away_team yellow_card_home_team  yellow_card_away_team  \\\n",
       "1728             11                     3                      0   \n",
       "1729              9                     0                      0   \n",
       "1730             12                     0                      2   \n",
       "1731             13                     2                      1   \n",
       "1732             13                     0                      1   \n",
       "\n",
       "      red_card_home_team  red_card_away_team  \n",
       "1728                   0                   0  \n",
       "1729                   0                   0  \n",
       "1730                   0                   0  \n",
       "1731                   0                   0  \n",
       "1732                   0                   0  \n",
       "\n",
       "[5 rows x 23 columns]"
      ]
     },
     "execution_count": 70,
     "metadata": {},
     "output_type": "execute_result"
    }
   ],
   "source": [
    "xml_df.head()"
   ]
  },
  {
   "cell_type": "markdown",
   "metadata": {},
   "source": [
    "Selection des colonnes interessantes"
   ]
  },
  {
   "cell_type": "code",
   "execution_count": 71,
   "metadata": {},
   "outputs": [],
   "source": [
    "col_selected = [\n",
    "'match_api_id',\n",
    "'foul_home_team',\n",
    "'foul_away_team',\n",
    "'yellow_card_home_team',\n",
    "'yellow_card_away_team',\n",
    "'red_card_home_team',\n",
    "'red_card_away_team',\n",
    "'home_team_api_id',\n",
    "'home_team',\n",
    "'away_team_api_id',\n",
    "'away_team',\n",
    "'season'\n",
    "]"
   ]
  },
  {
   "cell_type": "code",
   "execution_count": 72,
   "metadata": {},
   "outputs": [
    {
     "data": {
      "text/plain": [
       "match_api_id             0\n",
       "foul_home_team           0\n",
       "foul_away_team           0\n",
       "yellow_card_home_team    0\n",
       "yellow_card_away_team    0\n",
       "red_card_home_team       0\n",
       "red_card_away_team       0\n",
       "home_team_api_id         0\n",
       "home_team                0\n",
       "away_team_api_id         0\n",
       "away_team                0\n",
       "season                   0\n",
       "dtype: int64"
      ]
     },
     "execution_count": 72,
     "metadata": {},
     "output_type": "execute_result"
    }
   ],
   "source": [
    "referee_match = xml_df[col_selected]\n",
    "referee_match.isnull().sum()"
   ]
  },
  {
   "cell_type": "code",
   "execution_count": 73,
   "metadata": {},
   "outputs": [
    {
     "data": {
      "text/html": [
       "<div>\n",
       "<style scoped>\n",
       "    .dataframe tbody tr th:only-of-type {\n",
       "        vertical-align: middle;\n",
       "    }\n",
       "\n",
       "    .dataframe tbody tr th {\n",
       "        vertical-align: top;\n",
       "    }\n",
       "\n",
       "    .dataframe thead th {\n",
       "        text-align: right;\n",
       "    }\n",
       "</style>\n",
       "<table border=\"1\" class=\"dataframe\">\n",
       "  <thead>\n",
       "    <tr style=\"text-align: right;\">\n",
       "      <th></th>\n",
       "      <th>match_api_id</th>\n",
       "      <th>foul_home_team</th>\n",
       "      <th>foul_away_team</th>\n",
       "      <th>yellow_card_home_team</th>\n",
       "      <th>yellow_card_away_team</th>\n",
       "      <th>red_card_home_team</th>\n",
       "      <th>red_card_away_team</th>\n",
       "      <th>home_team_api_id</th>\n",
       "      <th>home_team</th>\n",
       "      <th>away_team_api_id</th>\n",
       "      <th>away_team</th>\n",
       "      <th>season</th>\n",
       "    </tr>\n",
       "  </thead>\n",
       "  <tbody>\n",
       "    <tr>\n",
       "      <th>1728</th>\n",
       "      <td>489042</td>\n",
       "      <td>16</td>\n",
       "      <td>11</td>\n",
       "      <td>3</td>\n",
       "      <td>0</td>\n",
       "      <td>0</td>\n",
       "      <td>0</td>\n",
       "      <td>10260</td>\n",
       "      <td>Manchester United</td>\n",
       "      <td>10261</td>\n",
       "      <td>Newcastle United</td>\n",
       "      <td>2008/2009</td>\n",
       "    </tr>\n",
       "    <tr>\n",
       "      <th>1729</th>\n",
       "      <td>489043</td>\n",
       "      <td>11</td>\n",
       "      <td>9</td>\n",
       "      <td>0</td>\n",
       "      <td>0</td>\n",
       "      <td>0</td>\n",
       "      <td>0</td>\n",
       "      <td>9825</td>\n",
       "      <td>Arsenal</td>\n",
       "      <td>8659</td>\n",
       "      <td>West Bromwich Albion</td>\n",
       "      <td>2008/2009</td>\n",
       "    </tr>\n",
       "    <tr>\n",
       "      <th>1730</th>\n",
       "      <td>489044</td>\n",
       "      <td>13</td>\n",
       "      <td>12</td>\n",
       "      <td>0</td>\n",
       "      <td>2</td>\n",
       "      <td>0</td>\n",
       "      <td>0</td>\n",
       "      <td>8472</td>\n",
       "      <td>Sunderland</td>\n",
       "      <td>8650</td>\n",
       "      <td>Liverpool</td>\n",
       "      <td>2008/2009</td>\n",
       "    </tr>\n",
       "    <tr>\n",
       "      <th>1731</th>\n",
       "      <td>489045</td>\n",
       "      <td>14</td>\n",
       "      <td>13</td>\n",
       "      <td>2</td>\n",
       "      <td>1</td>\n",
       "      <td>0</td>\n",
       "      <td>0</td>\n",
       "      <td>8654</td>\n",
       "      <td>West Ham United</td>\n",
       "      <td>8528</td>\n",
       "      <td>Wigan Athletic</td>\n",
       "      <td>2008/2009</td>\n",
       "    </tr>\n",
       "    <tr>\n",
       "      <th>1732</th>\n",
       "      <td>489046</td>\n",
       "      <td>11</td>\n",
       "      <td>13</td>\n",
       "      <td>0</td>\n",
       "      <td>1</td>\n",
       "      <td>0</td>\n",
       "      <td>0</td>\n",
       "      <td>10252</td>\n",
       "      <td>Aston Villa</td>\n",
       "      <td>8456</td>\n",
       "      <td>Manchester City</td>\n",
       "      <td>2008/2009</td>\n",
       "    </tr>\n",
       "    <tr>\n",
       "      <th>...</th>\n",
       "      <td>...</td>\n",
       "      <td>...</td>\n",
       "      <td>...</td>\n",
       "      <td>...</td>\n",
       "      <td>...</td>\n",
       "      <td>...</td>\n",
       "      <td>...</td>\n",
       "      <td>...</td>\n",
       "      <td>...</td>\n",
       "      <td>...</td>\n",
       "      <td>...</td>\n",
       "      <td>...</td>\n",
       "    </tr>\n",
       "    <tr>\n",
       "      <th>25944</th>\n",
       "      <td>1992225</td>\n",
       "      <td>0</td>\n",
       "      <td>0</td>\n",
       "      <td>1</td>\n",
       "      <td>4</td>\n",
       "      <td>0</td>\n",
       "      <td>0</td>\n",
       "      <td>9931</td>\n",
       "      <td>FC Basel</td>\n",
       "      <td>9956</td>\n",
       "      <td>Grasshopper Club Zürich</td>\n",
       "      <td>2015/2016</td>\n",
       "    </tr>\n",
       "    <tr>\n",
       "      <th>25945</th>\n",
       "      <td>1992226</td>\n",
       "      <td>0</td>\n",
       "      <td>0</td>\n",
       "      <td>0</td>\n",
       "      <td>2</td>\n",
       "      <td>0</td>\n",
       "      <td>0</td>\n",
       "      <td>7896</td>\n",
       "      <td>Lugano</td>\n",
       "      <td>10190</td>\n",
       "      <td>FC St. Gallen</td>\n",
       "      <td>2015/2016</td>\n",
       "    </tr>\n",
       "    <tr>\n",
       "      <th>25946</th>\n",
       "      <td>1992227</td>\n",
       "      <td>0</td>\n",
       "      <td>0</td>\n",
       "      <td>2</td>\n",
       "      <td>3</td>\n",
       "      <td>0</td>\n",
       "      <td>0</td>\n",
       "      <td>10199</td>\n",
       "      <td>FC Luzern</td>\n",
       "      <td>10179</td>\n",
       "      <td>FC Sion</td>\n",
       "      <td>2015/2016</td>\n",
       "    </tr>\n",
       "    <tr>\n",
       "      <th>25947</th>\n",
       "      <td>1992228</td>\n",
       "      <td>0</td>\n",
       "      <td>0</td>\n",
       "      <td>1</td>\n",
       "      <td>2</td>\n",
       "      <td>0</td>\n",
       "      <td>0</td>\n",
       "      <td>10191</td>\n",
       "      <td>FC Thun</td>\n",
       "      <td>10192</td>\n",
       "      <td>BSC Young Boys</td>\n",
       "      <td>2015/2016</td>\n",
       "    </tr>\n",
       "    <tr>\n",
       "      <th>25948</th>\n",
       "      <td>1992229</td>\n",
       "      <td>0</td>\n",
       "      <td>0</td>\n",
       "      <td>2</td>\n",
       "      <td>2</td>\n",
       "      <td>0</td>\n",
       "      <td>0</td>\n",
       "      <td>10243</td>\n",
       "      <td>FC Zürich</td>\n",
       "      <td>9824</td>\n",
       "      <td>FC Vaduz</td>\n",
       "      <td>2015/2016</td>\n",
       "    </tr>\n",
       "  </tbody>\n",
       "</table>\n",
       "<p>14217 rows × 12 columns</p>\n",
       "</div>"
      ],
      "text/plain": [
       "       match_api_id  foul_home_team  foul_away_team  yellow_card_home_team  \\\n",
       "1728         489042              16              11                      3   \n",
       "1729         489043              11               9                      0   \n",
       "1730         489044              13              12                      0   \n",
       "1731         489045              14              13                      2   \n",
       "1732         489046              11              13                      0   \n",
       "...             ...             ...             ...                    ...   \n",
       "25944       1992225               0               0                      1   \n",
       "25945       1992226               0               0                      0   \n",
       "25946       1992227               0               0                      2   \n",
       "25947       1992228               0               0                      1   \n",
       "25948       1992229               0               0                      2   \n",
       "\n",
       "       yellow_card_away_team  red_card_home_team  red_card_away_team  \\\n",
       "1728                       0                   0                   0   \n",
       "1729                       0                   0                   0   \n",
       "1730                       2                   0                   0   \n",
       "1731                       1                   0                   0   \n",
       "1732                       1                   0                   0   \n",
       "...                      ...                 ...                 ...   \n",
       "25944                      4                   0                   0   \n",
       "25945                      2                   0                   0   \n",
       "25946                      3                   0                   0   \n",
       "25947                      2                   0                   0   \n",
       "25948                      2                   0                   0   \n",
       "\n",
       "       home_team_api_id          home_team  away_team_api_id  \\\n",
       "1728              10260  Manchester United             10261   \n",
       "1729               9825            Arsenal              8659   \n",
       "1730               8472         Sunderland              8650   \n",
       "1731               8654    West Ham United              8528   \n",
       "1732              10252        Aston Villa              8456   \n",
       "...                 ...                ...               ...   \n",
       "25944              9931           FC Basel              9956   \n",
       "25945              7896             Lugano             10190   \n",
       "25946             10199          FC Luzern             10179   \n",
       "25947             10191            FC Thun             10192   \n",
       "25948             10243          FC Zürich              9824   \n",
       "\n",
       "                     away_team     season  \n",
       "1728          Newcastle United  2008/2009  \n",
       "1729      West Bromwich Albion  2008/2009  \n",
       "1730                 Liverpool  2008/2009  \n",
       "1731            Wigan Athletic  2008/2009  \n",
       "1732           Manchester City  2008/2009  \n",
       "...                        ...        ...  \n",
       "25944  Grasshopper Club Zürich  2015/2016  \n",
       "25945            FC St. Gallen  2015/2016  \n",
       "25946                  FC Sion  2015/2016  \n",
       "25947           BSC Young Boys  2015/2016  \n",
       "25948                 FC Vaduz  2015/2016  \n",
       "\n",
       "[14217 rows x 12 columns]"
      ]
     },
     "execution_count": 73,
     "metadata": {},
     "output_type": "execute_result"
    }
   ],
   "source": [
    "referee_match"
   ]
  },
  {
   "cell_type": "code",
   "execution_count": 74,
   "metadata": {},
   "outputs": [
    {
     "data": {
      "text/html": [
       "<div>\n",
       "<style scoped>\n",
       "    .dataframe tbody tr th:only-of-type {\n",
       "        vertical-align: middle;\n",
       "    }\n",
       "\n",
       "    .dataframe tbody tr th {\n",
       "        vertical-align: top;\n",
       "    }\n",
       "\n",
       "    .dataframe thead th {\n",
       "        text-align: right;\n",
       "    }\n",
       "</style>\n",
       "<table border=\"1\" class=\"dataframe\">\n",
       "  <thead>\n",
       "    <tr style=\"text-align: right;\">\n",
       "      <th></th>\n",
       "      <th>match_api_id</th>\n",
       "      <th>foul_home_team</th>\n",
       "      <th>foul_away_team</th>\n",
       "      <th>yellow_card_home_team</th>\n",
       "      <th>yellow_card_away_team</th>\n",
       "      <th>red_card_home_team</th>\n",
       "      <th>red_card_away_team</th>\n",
       "      <th>home_team_api_id</th>\n",
       "      <th>home_team</th>\n",
       "      <th>away_team_api_id</th>\n",
       "      <th>away_team</th>\n",
       "      <th>season</th>\n",
       "    </tr>\n",
       "  </thead>\n",
       "  <tbody>\n",
       "    <tr>\n",
       "      <th>1728</th>\n",
       "      <td>489042</td>\n",
       "      <td>16</td>\n",
       "      <td>11</td>\n",
       "      <td>3</td>\n",
       "      <td>0</td>\n",
       "      <td>0</td>\n",
       "      <td>0</td>\n",
       "      <td>10260</td>\n",
       "      <td>Manchester United</td>\n",
       "      <td>10261</td>\n",
       "      <td>Newcastle United</td>\n",
       "      <td>2008/2009</td>\n",
       "    </tr>\n",
       "    <tr>\n",
       "      <th>1729</th>\n",
       "      <td>489043</td>\n",
       "      <td>11</td>\n",
       "      <td>9</td>\n",
       "      <td>0</td>\n",
       "      <td>0</td>\n",
       "      <td>0</td>\n",
       "      <td>0</td>\n",
       "      <td>9825</td>\n",
       "      <td>Arsenal</td>\n",
       "      <td>8659</td>\n",
       "      <td>West Bromwich Albion</td>\n",
       "      <td>2008/2009</td>\n",
       "    </tr>\n",
       "    <tr>\n",
       "      <th>1730</th>\n",
       "      <td>489044</td>\n",
       "      <td>13</td>\n",
       "      <td>12</td>\n",
       "      <td>0</td>\n",
       "      <td>2</td>\n",
       "      <td>0</td>\n",
       "      <td>0</td>\n",
       "      <td>8472</td>\n",
       "      <td>Sunderland</td>\n",
       "      <td>8650</td>\n",
       "      <td>Liverpool</td>\n",
       "      <td>2008/2009</td>\n",
       "    </tr>\n",
       "    <tr>\n",
       "      <th>1731</th>\n",
       "      <td>489045</td>\n",
       "      <td>14</td>\n",
       "      <td>13</td>\n",
       "      <td>2</td>\n",
       "      <td>1</td>\n",
       "      <td>0</td>\n",
       "      <td>0</td>\n",
       "      <td>8654</td>\n",
       "      <td>West Ham United</td>\n",
       "      <td>8528</td>\n",
       "      <td>Wigan Athletic</td>\n",
       "      <td>2008/2009</td>\n",
       "    </tr>\n",
       "    <tr>\n",
       "      <th>1732</th>\n",
       "      <td>489046</td>\n",
       "      <td>11</td>\n",
       "      <td>13</td>\n",
       "      <td>0</td>\n",
       "      <td>1</td>\n",
       "      <td>0</td>\n",
       "      <td>0</td>\n",
       "      <td>10252</td>\n",
       "      <td>Aston Villa</td>\n",
       "      <td>8456</td>\n",
       "      <td>Manchester City</td>\n",
       "      <td>2008/2009</td>\n",
       "    </tr>\n",
       "    <tr>\n",
       "      <th>...</th>\n",
       "      <td>...</td>\n",
       "      <td>...</td>\n",
       "      <td>...</td>\n",
       "      <td>...</td>\n",
       "      <td>...</td>\n",
       "      <td>...</td>\n",
       "      <td>...</td>\n",
       "      <td>...</td>\n",
       "      <td>...</td>\n",
       "      <td>...</td>\n",
       "      <td>...</td>\n",
       "      <td>...</td>\n",
       "    </tr>\n",
       "    <tr>\n",
       "      <th>25944</th>\n",
       "      <td>1992225</td>\n",
       "      <td>0</td>\n",
       "      <td>0</td>\n",
       "      <td>1</td>\n",
       "      <td>4</td>\n",
       "      <td>0</td>\n",
       "      <td>0</td>\n",
       "      <td>9931</td>\n",
       "      <td>FC Basel</td>\n",
       "      <td>9956</td>\n",
       "      <td>Grasshopper Club Zürich</td>\n",
       "      <td>2015/2016</td>\n",
       "    </tr>\n",
       "    <tr>\n",
       "      <th>25945</th>\n",
       "      <td>1992226</td>\n",
       "      <td>0</td>\n",
       "      <td>0</td>\n",
       "      <td>0</td>\n",
       "      <td>2</td>\n",
       "      <td>0</td>\n",
       "      <td>0</td>\n",
       "      <td>7896</td>\n",
       "      <td>Lugano</td>\n",
       "      <td>10190</td>\n",
       "      <td>FC St. Gallen</td>\n",
       "      <td>2015/2016</td>\n",
       "    </tr>\n",
       "    <tr>\n",
       "      <th>25946</th>\n",
       "      <td>1992227</td>\n",
       "      <td>0</td>\n",
       "      <td>0</td>\n",
       "      <td>2</td>\n",
       "      <td>3</td>\n",
       "      <td>0</td>\n",
       "      <td>0</td>\n",
       "      <td>10199</td>\n",
       "      <td>FC Luzern</td>\n",
       "      <td>10179</td>\n",
       "      <td>FC Sion</td>\n",
       "      <td>2015/2016</td>\n",
       "    </tr>\n",
       "    <tr>\n",
       "      <th>25947</th>\n",
       "      <td>1992228</td>\n",
       "      <td>0</td>\n",
       "      <td>0</td>\n",
       "      <td>1</td>\n",
       "      <td>2</td>\n",
       "      <td>0</td>\n",
       "      <td>0</td>\n",
       "      <td>10191</td>\n",
       "      <td>FC Thun</td>\n",
       "      <td>10192</td>\n",
       "      <td>BSC Young Boys</td>\n",
       "      <td>2015/2016</td>\n",
       "    </tr>\n",
       "    <tr>\n",
       "      <th>25948</th>\n",
       "      <td>1992229</td>\n",
       "      <td>0</td>\n",
       "      <td>0</td>\n",
       "      <td>2</td>\n",
       "      <td>2</td>\n",
       "      <td>0</td>\n",
       "      <td>0</td>\n",
       "      <td>10243</td>\n",
       "      <td>FC Zürich</td>\n",
       "      <td>9824</td>\n",
       "      <td>FC Vaduz</td>\n",
       "      <td>2015/2016</td>\n",
       "    </tr>\n",
       "  </tbody>\n",
       "</table>\n",
       "<p>14217 rows × 12 columns</p>\n",
       "</div>"
      ],
      "text/plain": [
       "       match_api_id  foul_home_team  foul_away_team  yellow_card_home_team  \\\n",
       "1728         489042              16              11                      3   \n",
       "1729         489043              11               9                      0   \n",
       "1730         489044              13              12                      0   \n",
       "1731         489045              14              13                      2   \n",
       "1732         489046              11              13                      0   \n",
       "...             ...             ...             ...                    ...   \n",
       "25944       1992225               0               0                      1   \n",
       "25945       1992226               0               0                      0   \n",
       "25946       1992227               0               0                      2   \n",
       "25947       1992228               0               0                      1   \n",
       "25948       1992229               0               0                      2   \n",
       "\n",
       "       yellow_card_away_team  red_card_home_team  red_card_away_team  \\\n",
       "1728                       0                   0                   0   \n",
       "1729                       0                   0                   0   \n",
       "1730                       2                   0                   0   \n",
       "1731                       1                   0                   0   \n",
       "1732                       1                   0                   0   \n",
       "...                      ...                 ...                 ...   \n",
       "25944                      4                   0                   0   \n",
       "25945                      2                   0                   0   \n",
       "25946                      3                   0                   0   \n",
       "25947                      2                   0                   0   \n",
       "25948                      2                   0                   0   \n",
       "\n",
       "       home_team_api_id          home_team  away_team_api_id  \\\n",
       "1728              10260  Manchester United             10261   \n",
       "1729               9825            Arsenal              8659   \n",
       "1730               8472         Sunderland              8650   \n",
       "1731               8654    West Ham United              8528   \n",
       "1732              10252        Aston Villa              8456   \n",
       "...                 ...                ...               ...   \n",
       "25944              9931           FC Basel              9956   \n",
       "25945              7896             Lugano             10190   \n",
       "25946             10199          FC Luzern             10179   \n",
       "25947             10191            FC Thun             10192   \n",
       "25948             10243          FC Zürich              9824   \n",
       "\n",
       "                     away_team     season  \n",
       "1728          Newcastle United  2008/2009  \n",
       "1729      West Bromwich Albion  2008/2009  \n",
       "1730                 Liverpool  2008/2009  \n",
       "1731            Wigan Athletic  2008/2009  \n",
       "1732           Manchester City  2008/2009  \n",
       "...                        ...        ...  \n",
       "25944  Grasshopper Club Zürich  2015/2016  \n",
       "25945            FC St. Gallen  2015/2016  \n",
       "25946                  FC Sion  2015/2016  \n",
       "25947           BSC Young Boys  2015/2016  \n",
       "25948                 FC Vaduz  2015/2016  \n",
       "\n",
       "[14217 rows x 12 columns]"
      ]
     },
     "execution_count": 74,
     "metadata": {},
     "output_type": "execute_result"
    }
   ],
   "source": [
    "referee_match = referee_match.apply(pd.to_numeric,errors='coerce').fillna(referee_match)\n",
    "referee_match"
   ]
  },
  {
   "cell_type": "code",
   "execution_count": 75,
   "metadata": {},
   "outputs": [
    {
     "name": "stderr",
     "output_type": "stream",
     "text": [
      "<ipython-input-75-92d6bd36d8e4>:1: FutureWarning: Indexing with multiple keys (implicitly converted to a tuple of keys) will be deprecated, use a list instead.\n",
      "  foul_home_team = referee_match.groupby(['home_team_api_id'])['foul_home_team','yellow_card_home_team','red_card_home_team'].sum()\n",
      "<ipython-input-75-92d6bd36d8e4>:2: FutureWarning: Indexing with multiple keys (implicitly converted to a tuple of keys) will be deprecated, use a list instead.\n",
      "  foul_away_team = referee_match.groupby(['away_team_api_id'])['foul_away_team','yellow_card_away_team','red_card_away_team'].sum()\n"
     ]
    }
   ],
   "source": [
    "foul_home_team = referee_match.groupby(['home_team_api_id'])['foul_home_team','yellow_card_home_team','red_card_home_team'].sum()\n",
    "foul_away_team = referee_match.groupby(['away_team_api_id'])['foul_away_team','yellow_card_away_team','red_card_away_team'].sum()\n"
   ]
  },
  {
   "cell_type": "code",
   "execution_count": 76,
   "metadata": {},
   "outputs": [],
   "source": [
    "foul_home_team['nb_match'] = referee_match.groupby('home_team_api_id')['home_team_api_id'].count()\n",
    "foul_away_team['nb_match'] =  referee_match.groupby('away_team_api_id')['away_team_api_id'].count()"
   ]
  },
  {
   "cell_type": "code",
   "execution_count": 77,
   "metadata": {},
   "outputs": [
    {
     "data": {
      "text/html": [
       "<div>\n",
       "<style scoped>\n",
       "    .dataframe tbody tr th:only-of-type {\n",
       "        vertical-align: middle;\n",
       "    }\n",
       "\n",
       "    .dataframe tbody tr th {\n",
       "        vertical-align: top;\n",
       "    }\n",
       "\n",
       "    .dataframe thead th {\n",
       "        text-align: right;\n",
       "    }\n",
       "</style>\n",
       "<table border=\"1\" class=\"dataframe\">\n",
       "  <thead>\n",
       "    <tr style=\"text-align: right;\">\n",
       "      <th></th>\n",
       "      <th>foul_home_team</th>\n",
       "      <th>yellow_card_home_team</th>\n",
       "      <th>red_card_home_team</th>\n",
       "      <th>nb_match</th>\n",
       "    </tr>\n",
       "    <tr>\n",
       "      <th>home_team_api_id</th>\n",
       "      <th></th>\n",
       "      <th></th>\n",
       "      <th></th>\n",
       "      <th></th>\n",
       "    </tr>\n",
       "  </thead>\n",
       "  <tbody>\n",
       "    <tr>\n",
       "      <th>1601</th>\n",
       "      <td>14</td>\n",
       "      <td>4</td>\n",
       "      <td>0</td>\n",
       "      <td>1</td>\n",
       "    </tr>\n",
       "    <tr>\n",
       "      <th>1957</th>\n",
       "      <td>17</td>\n",
       "      <td>4</td>\n",
       "      <td>0</td>\n",
       "      <td>1</td>\n",
       "    </tr>\n",
       "    <tr>\n",
       "      <th>2182</th>\n",
       "      <td>16</td>\n",
       "      <td>2</td>\n",
       "      <td>0</td>\n",
       "      <td>1</td>\n",
       "    </tr>\n",
       "    <tr>\n",
       "      <th>4087</th>\n",
       "      <td>256</td>\n",
       "      <td>125</td>\n",
       "      <td>3</td>\n",
       "      <td>72</td>\n",
       "    </tr>\n",
       "    <tr>\n",
       "      <th>6269</th>\n",
       "      <td>108</td>\n",
       "      <td>36</td>\n",
       "      <td>1</td>\n",
       "      <td>18</td>\n",
       "    </tr>\n",
       "    <tr>\n",
       "      <th>...</th>\n",
       "      <td>...</td>\n",
       "      <td>...</td>\n",
       "      <td>...</td>\n",
       "      <td>...</td>\n",
       "    </tr>\n",
       "    <tr>\n",
       "      <th>10269</th>\n",
       "      <td>862</td>\n",
       "      <td>241</td>\n",
       "      <td>7</td>\n",
       "      <td>136</td>\n",
       "    </tr>\n",
       "    <tr>\n",
       "      <th>10278</th>\n",
       "      <td>82</td>\n",
       "      <td>40</td>\n",
       "      <td>2</td>\n",
       "      <td>19</td>\n",
       "    </tr>\n",
       "    <tr>\n",
       "      <th>10281</th>\n",
       "      <td>179</td>\n",
       "      <td>182</td>\n",
       "      <td>5</td>\n",
       "      <td>76</td>\n",
       "    </tr>\n",
       "    <tr>\n",
       "      <th>108893</th>\n",
       "      <td>0</td>\n",
       "      <td>22</td>\n",
       "      <td>1</td>\n",
       "      <td>12</td>\n",
       "    </tr>\n",
       "    <tr>\n",
       "      <th>208931</th>\n",
       "      <td>320</td>\n",
       "      <td>53</td>\n",
       "      <td>0</td>\n",
       "      <td>19</td>\n",
       "    </tr>\n",
       "  </tbody>\n",
       "</table>\n",
       "<p>200 rows × 4 columns</p>\n",
       "</div>"
      ],
      "text/plain": [
       "                  foul_home_team  yellow_card_home_team  red_card_home_team  \\\n",
       "home_team_api_id                                                              \n",
       "1601                          14                      4                   0   \n",
       "1957                          17                      4                   0   \n",
       "2182                          16                      2                   0   \n",
       "4087                         256                    125                   3   \n",
       "6269                         108                     36                   1   \n",
       "...                          ...                    ...                 ...   \n",
       "10269                        862                    241                   7   \n",
       "10278                         82                     40                   2   \n",
       "10281                        179                    182                   5   \n",
       "108893                         0                     22                   1   \n",
       "208931                       320                     53                   0   \n",
       "\n",
       "                  nb_match  \n",
       "home_team_api_id            \n",
       "1601                     1  \n",
       "1957                     1  \n",
       "2182                     1  \n",
       "4087                    72  \n",
       "6269                    18  \n",
       "...                    ...  \n",
       "10269                  136  \n",
       "10278                   19  \n",
       "10281                   76  \n",
       "108893                  12  \n",
       "208931                  19  \n",
       "\n",
       "[200 rows x 4 columns]"
      ]
     },
     "execution_count": 77,
     "metadata": {},
     "output_type": "execute_result"
    }
   ],
   "source": [
    "foul_home_team"
   ]
  },
  {
   "cell_type": "code",
   "execution_count": 78,
   "metadata": {},
   "outputs": [
    {
     "data": {
      "text/html": [
       "<div>\n",
       "<style scoped>\n",
       "    .dataframe tbody tr th:only-of-type {\n",
       "        vertical-align: middle;\n",
       "    }\n",
       "\n",
       "    .dataframe tbody tr th {\n",
       "        vertical-align: top;\n",
       "    }\n",
       "\n",
       "    .dataframe thead th {\n",
       "        text-align: right;\n",
       "    }\n",
       "</style>\n",
       "<table border=\"1\" class=\"dataframe\">\n",
       "  <thead>\n",
       "    <tr style=\"text-align: right;\">\n",
       "      <th></th>\n",
       "      <th>foul_away_team</th>\n",
       "      <th>yellow_card_away_team</th>\n",
       "      <th>red_card_away_team</th>\n",
       "      <th>nb_match</th>\n",
       "    </tr>\n",
       "    <tr>\n",
       "      <th>away_team_api_id</th>\n",
       "      <th></th>\n",
       "      <th></th>\n",
       "      <th></th>\n",
       "      <th></th>\n",
       "    </tr>\n",
       "  </thead>\n",
       "  <tbody>\n",
       "    <tr>\n",
       "      <th>1601</th>\n",
       "      <td>15</td>\n",
       "      <td>3</td>\n",
       "      <td>0</td>\n",
       "      <td>1</td>\n",
       "    </tr>\n",
       "    <tr>\n",
       "      <th>1957</th>\n",
       "      <td>19</td>\n",
       "      <td>5</td>\n",
       "      <td>0</td>\n",
       "      <td>1</td>\n",
       "    </tr>\n",
       "    <tr>\n",
       "      <th>2182</th>\n",
       "      <td>11</td>\n",
       "      <td>3</td>\n",
       "      <td>0</td>\n",
       "      <td>1</td>\n",
       "    </tr>\n",
       "    <tr>\n",
       "      <th>2183</th>\n",
       "      <td>13</td>\n",
       "      <td>2</td>\n",
       "      <td>0</td>\n",
       "      <td>1</td>\n",
       "    </tr>\n",
       "    <tr>\n",
       "      <th>4087</th>\n",
       "      <td>285</td>\n",
       "      <td>141</td>\n",
       "      <td>7</td>\n",
       "      <td>70</td>\n",
       "    </tr>\n",
       "    <tr>\n",
       "      <th>...</th>\n",
       "      <td>...</td>\n",
       "      <td>...</td>\n",
       "      <td>...</td>\n",
       "      <td>...</td>\n",
       "    </tr>\n",
       "    <tr>\n",
       "      <th>10269</th>\n",
       "      <td>945</td>\n",
       "      <td>284</td>\n",
       "      <td>10</td>\n",
       "      <td>136</td>\n",
       "    </tr>\n",
       "    <tr>\n",
       "      <th>10278</th>\n",
       "      <td>100</td>\n",
       "      <td>52</td>\n",
       "      <td>2</td>\n",
       "      <td>19</td>\n",
       "    </tr>\n",
       "    <tr>\n",
       "      <th>10281</th>\n",
       "      <td>182</td>\n",
       "      <td>178</td>\n",
       "      <td>7</td>\n",
       "      <td>76</td>\n",
       "    </tr>\n",
       "    <tr>\n",
       "      <th>108893</th>\n",
       "      <td>0</td>\n",
       "      <td>22</td>\n",
       "      <td>2</td>\n",
       "      <td>11</td>\n",
       "    </tr>\n",
       "    <tr>\n",
       "      <th>208931</th>\n",
       "      <td>302</td>\n",
       "      <td>57</td>\n",
       "      <td>1</td>\n",
       "      <td>19</td>\n",
       "    </tr>\n",
       "  </tbody>\n",
       "</table>\n",
       "<p>199 rows × 4 columns</p>\n",
       "</div>"
      ],
      "text/plain": [
       "                  foul_away_team  yellow_card_away_team  red_card_away_team  \\\n",
       "away_team_api_id                                                              \n",
       "1601                          15                      3                   0   \n",
       "1957                          19                      5                   0   \n",
       "2182                          11                      3                   0   \n",
       "2183                          13                      2                   0   \n",
       "4087                         285                    141                   7   \n",
       "...                          ...                    ...                 ...   \n",
       "10269                        945                    284                  10   \n",
       "10278                        100                     52                   2   \n",
       "10281                        182                    178                   7   \n",
       "108893                         0                     22                   2   \n",
       "208931                       302                     57                   1   \n",
       "\n",
       "                  nb_match  \n",
       "away_team_api_id            \n",
       "1601                     1  \n",
       "1957                     1  \n",
       "2182                     1  \n",
       "2183                     1  \n",
       "4087                    70  \n",
       "...                    ...  \n",
       "10269                  136  \n",
       "10278                   19  \n",
       "10281                   76  \n",
       "108893                  11  \n",
       "208931                  19  \n",
       "\n",
       "[199 rows x 4 columns]"
      ]
     },
     "execution_count": 78,
     "metadata": {},
     "output_type": "execute_result"
    }
   ],
   "source": [
    "foul_away_team"
   ]
  },
  {
   "cell_type": "code",
   "execution_count": 79,
   "metadata": {},
   "outputs": [
    {
     "data": {
      "text/plain": [
       "foul_away_team           0\n",
       "yellow_card_away_team    0\n",
       "red_card_away_team       0\n",
       "nb_match                 0\n",
       "dtype: int64"
      ]
     },
     "execution_count": 79,
     "metadata": {},
     "output_type": "execute_result"
    }
   ],
   "source": [
    "foul_away_team.isnull().sum()"
   ]
  },
  {
   "cell_type": "code",
   "execution_count": 80,
   "metadata": {},
   "outputs": [
    {
     "data": {
      "text/plain": [
       "foul_home_team           0\n",
       "yellow_card_home_team    0\n",
       "red_card_home_team       0\n",
       "nb_match                 0\n",
       "dtype: int64"
      ]
     },
     "execution_count": 80,
     "metadata": {},
     "output_type": "execute_result"
    }
   ],
   "source": [
    "foul_home_team.isnull().sum()"
   ]
  },
  {
   "cell_type": "code",
   "execution_count": 81,
   "metadata": {},
   "outputs": [
    {
     "data": {
      "text/html": [
       "<div>\n",
       "<style scoped>\n",
       "    .dataframe tbody tr th:only-of-type {\n",
       "        vertical-align: middle;\n",
       "    }\n",
       "\n",
       "    .dataframe tbody tr th {\n",
       "        vertical-align: top;\n",
       "    }\n",
       "\n",
       "    .dataframe thead th {\n",
       "        text-align: right;\n",
       "    }\n",
       "</style>\n",
       "<table border=\"1\" class=\"dataframe\">\n",
       "  <thead>\n",
       "    <tr style=\"text-align: right;\">\n",
       "      <th></th>\n",
       "      <th>foul_home_team</th>\n",
       "      <th>yellow_card_home_team</th>\n",
       "      <th>red_card_home_team</th>\n",
       "      <th>nb_match</th>\n",
       "    </tr>\n",
       "  </thead>\n",
       "  <tbody>\n",
       "    <tr>\n",
       "      <th>count</th>\n",
       "      <td>200.000000</td>\n",
       "      <td>200.000000</td>\n",
       "      <td>200.000000</td>\n",
       "      <td>200.000000</td>\n",
       "    </tr>\n",
       "    <tr>\n",
       "      <th>mean</th>\n",
       "      <td>535.280000</td>\n",
       "      <td>134.020000</td>\n",
       "      <td>3.905000</td>\n",
       "      <td>71.085000</td>\n",
       "    </tr>\n",
       "    <tr>\n",
       "      <th>std</th>\n",
       "      <td>482.391823</td>\n",
       "      <td>110.449832</td>\n",
       "      <td>3.656889</td>\n",
       "      <td>52.413679</td>\n",
       "    </tr>\n",
       "    <tr>\n",
       "      <th>min</th>\n",
       "      <td>0.000000</td>\n",
       "      <td>2.000000</td>\n",
       "      <td>0.000000</td>\n",
       "      <td>1.000000</td>\n",
       "    </tr>\n",
       "    <tr>\n",
       "      <th>25%</th>\n",
       "      <td>159.000000</td>\n",
       "      <td>37.000000</td>\n",
       "      <td>1.000000</td>\n",
       "      <td>19.000000</td>\n",
       "    </tr>\n",
       "    <tr>\n",
       "      <th>50%</th>\n",
       "      <td>427.500000</td>\n",
       "      <td>111.000000</td>\n",
       "      <td>3.000000</td>\n",
       "      <td>59.500000</td>\n",
       "    </tr>\n",
       "    <tr>\n",
       "      <th>75%</th>\n",
       "      <td>867.500000</td>\n",
       "      <td>212.500000</td>\n",
       "      <td>6.000000</td>\n",
       "      <td>119.000000</td>\n",
       "    </tr>\n",
       "    <tr>\n",
       "      <th>max</th>\n",
       "      <td>1734.000000</td>\n",
       "      <td>450.000000</td>\n",
       "      <td>17.000000</td>\n",
       "      <td>152.000000</td>\n",
       "    </tr>\n",
       "  </tbody>\n",
       "</table>\n",
       "</div>"
      ],
      "text/plain": [
       "       foul_home_team  yellow_card_home_team  red_card_home_team    nb_match\n",
       "count      200.000000             200.000000          200.000000  200.000000\n",
       "mean       535.280000             134.020000            3.905000   71.085000\n",
       "std        482.391823             110.449832            3.656889   52.413679\n",
       "min          0.000000               2.000000            0.000000    1.000000\n",
       "25%        159.000000              37.000000            1.000000   19.000000\n",
       "50%        427.500000             111.000000            3.000000   59.500000\n",
       "75%        867.500000             212.500000            6.000000  119.000000\n",
       "max       1734.000000             450.000000           17.000000  152.000000"
      ]
     },
     "execution_count": 81,
     "metadata": {},
     "output_type": "execute_result"
    }
   ],
   "source": [
    "foul_home_team.describe()"
   ]
  },
  {
   "cell_type": "code",
   "execution_count": 82,
   "metadata": {},
   "outputs": [
    {
     "data": {
      "text/html": [
       "<div>\n",
       "<style scoped>\n",
       "    .dataframe tbody tr th:only-of-type {\n",
       "        vertical-align: middle;\n",
       "    }\n",
       "\n",
       "    .dataframe tbody tr th {\n",
       "        vertical-align: top;\n",
       "    }\n",
       "\n",
       "    .dataframe thead th {\n",
       "        text-align: right;\n",
       "    }\n",
       "</style>\n",
       "<table border=\"1\" class=\"dataframe\">\n",
       "  <thead>\n",
       "    <tr style=\"text-align: right;\">\n",
       "      <th></th>\n",
       "      <th>foul_away_team</th>\n",
       "      <th>yellow_card_away_team</th>\n",
       "      <th>red_card_away_team</th>\n",
       "      <th>nb_match</th>\n",
       "    </tr>\n",
       "  </thead>\n",
       "  <tbody>\n",
       "    <tr>\n",
       "      <th>count</th>\n",
       "      <td>199.000000</td>\n",
       "      <td>199.000000</td>\n",
       "      <td>199.000000</td>\n",
       "      <td>199.000000</td>\n",
       "    </tr>\n",
       "    <tr>\n",
       "      <th>mean</th>\n",
       "      <td>561.648241</td>\n",
       "      <td>158.316583</td>\n",
       "      <td>4.959799</td>\n",
       "      <td>71.442211</td>\n",
       "    </tr>\n",
       "    <tr>\n",
       "      <th>std</th>\n",
       "      <td>499.980481</td>\n",
       "      <td>128.303874</td>\n",
       "      <td>4.401376</td>\n",
       "      <td>52.297859</td>\n",
       "    </tr>\n",
       "    <tr>\n",
       "      <th>min</th>\n",
       "      <td>0.000000</td>\n",
       "      <td>1.000000</td>\n",
       "      <td>0.000000</td>\n",
       "      <td>1.000000</td>\n",
       "    </tr>\n",
       "    <tr>\n",
       "      <th>25%</th>\n",
       "      <td>182.500000</td>\n",
       "      <td>45.500000</td>\n",
       "      <td>1.000000</td>\n",
       "      <td>19.000000</td>\n",
       "    </tr>\n",
       "    <tr>\n",
       "      <th>50%</th>\n",
       "      <td>463.000000</td>\n",
       "      <td>130.000000</td>\n",
       "      <td>4.000000</td>\n",
       "      <td>62.000000</td>\n",
       "    </tr>\n",
       "    <tr>\n",
       "      <th>75%</th>\n",
       "      <td>901.500000</td>\n",
       "      <td>262.500000</td>\n",
       "      <td>7.500000</td>\n",
       "      <td>119.000000</td>\n",
       "    </tr>\n",
       "    <tr>\n",
       "      <th>max</th>\n",
       "      <td>1881.000000</td>\n",
       "      <td>518.000000</td>\n",
       "      <td>19.000000</td>\n",
       "      <td>152.000000</td>\n",
       "    </tr>\n",
       "  </tbody>\n",
       "</table>\n",
       "</div>"
      ],
      "text/plain": [
       "       foul_away_team  yellow_card_away_team  red_card_away_team    nb_match\n",
       "count      199.000000             199.000000          199.000000  199.000000\n",
       "mean       561.648241             158.316583            4.959799   71.442211\n",
       "std        499.980481             128.303874            4.401376   52.297859\n",
       "min          0.000000               1.000000            0.000000    1.000000\n",
       "25%        182.500000              45.500000            1.000000   19.000000\n",
       "50%        463.000000             130.000000            4.000000   62.000000\n",
       "75%        901.500000             262.500000            7.500000  119.000000\n",
       "max       1881.000000             518.000000           19.000000  152.000000"
      ]
     },
     "execution_count": 82,
     "metadata": {},
     "output_type": "execute_result"
    }
   ],
   "source": [
    "foul_away_team.describe()"
   ]
  },
  {
   "cell_type": "markdown",
   "metadata": {},
   "source": [
    "## B) Etude des fautes commises à domicile et à l'extérieur par equipe"
   ]
  },
  {
   "cell_type": "code",
   "execution_count": 83,
   "metadata": {},
   "outputs": [],
   "source": [
    "foul_home_team['ratio_foul_home'] = foul_home_team['foul_home_team'] / foul_home_team['nb_match']\n",
    "foul_away_team['ratio_foul_away'] = foul_away_team['foul_away_team'] / foul_away_team['nb_match']"
   ]
  },
  {
   "cell_type": "markdown",
   "metadata": {},
   "source": [
    "On observe pas une grande différence de faute commises a l'exterieur ou a domicile par équipe par match."
   ]
  },
  {
   "cell_type": "code",
   "execution_count": 85,
   "metadata": {},
   "outputs": [
    {
     "data": {
      "text/plain": [
       "count     200.000000\n",
       "mean      535.280000\n",
       "std       482.391823\n",
       "min         0.000000\n",
       "25%       159.000000\n",
       "50%       427.500000\n",
       "75%       867.500000\n",
       "max      1734.000000\n",
       "Name: foul_home_team, dtype: float64"
      ]
     },
     "execution_count": 85,
     "metadata": {},
     "output_type": "execute_result"
    }
   ],
   "source": [
    "foul_home_team['foul_home_team'].describe()"
   ]
  },
  {
   "cell_type": "code",
   "execution_count": 86,
   "metadata": {},
   "outputs": [
    {
     "data": {
      "text/plain": [
       "count     199.000000\n",
       "mean      561.648241\n",
       "std       499.980481\n",
       "min         0.000000\n",
       "25%       182.500000\n",
       "50%       463.000000\n",
       "75%       901.500000\n",
       "max      1881.000000\n",
       "Name: foul_away_team, dtype: float64"
      ]
     },
     "execution_count": 86,
     "metadata": {},
     "output_type": "execute_result"
    }
   ],
   "source": [
    "foul_away_team['foul_away_team'].describe()"
   ]
  },
  {
   "cell_type": "code",
   "execution_count": 116,
   "metadata": {},
   "outputs": [
    {
     "name": "stderr",
     "output_type": "stream",
     "text": [
      "C:\\Users\\laou6\\anaconda3\\lib\\site-packages\\seaborn\\distributions.py:2551: FutureWarning: `distplot` is a deprecated function and will be removed in a future version. Please adapt your code to use either `displot` (a figure-level function with similar flexibility) or `histplot` (an axes-level function for histograms).\n",
      "  warnings.warn(msg, FutureWarning)\n",
      "C:\\Users\\laou6\\anaconda3\\lib\\site-packages\\seaborn\\distributions.py:2551: FutureWarning: `distplot` is a deprecated function and will be removed in a future version. Please adapt your code to use either `displot` (a figure-level function with similar flexibility) or `histplot` (an axes-level function for histograms).\n",
      "  warnings.warn(msg, FutureWarning)\n"
     ]
    },
    {
     "data": {
      "text/plain": [
       "Text(0.5, 1.0, \"Distribution des ratio de fautes par equipe à domicile et à l'exterieur\")"
      ]
     },
     "execution_count": 116,
     "metadata": {},
     "output_type": "execute_result"
    },
    {
     "data": {
      "image/png": "[encoded data removed]",
      "text/plain": [
       "<Figure size 432x288 with 2 Axes>"
      ]
     },
     "metadata": {
      "needs_background": "light"
     },
     "output_type": "display_data"
    }
   ],
   "source": [
    "# call regplot on each axes\n",
    "fig, (ax1, ax2) = plt.subplots(ncols=2, sharey=True)\n",
    "fig.subplots_adjust(hspace=4)\n",
    "sns.distplot(foul_home_team['ratio_foul_home'], ax=ax1)\n",
    "sns.distplot(foul_away_team['ratio_foul_away'], ax=ax2).set_title(\"Distribution des ratio de fautes par equipe à domicile et à l'exterieur\")"
   ]
  },
  {
   "cell_type": "code",
   "execution_count": 105,
   "metadata": {},
   "outputs": [
    {
     "data": {
      "text/plain": [
       "Text(0.5, 1.0, \"Ratio de faute a domicile et à l'exterieur par équipe\")"
      ]
     },
     "execution_count": 105,
     "metadata": {},
     "output_type": "execute_result"
    },
    {
     "data": {
      "image/png": "[encoded data removed]",
      "text/plain": [
       "<Figure size 432x288 with 2 Axes>"
      ]
     },
     "metadata": {
      "needs_background": "light"
     },
     "output_type": "display_data"
    }
   ],
   "source": [
    "fig, (ax1, ax2) = plt.subplots(ncols=2, sharey=True)\n",
    "fig.subplots_adjust(hspace=4)\n",
    "sns.boxplot(y=foul_home_team['ratio_foul_home'], ax=ax1)\n",
    "sns.boxplot(y=foul_away_team['ratio_foul_away'], ax=ax2).set_title(\"Ratio de faute a domicile et à l'exterieur par équipe\")"
   ]
  },
  {
   "cell_type": "code",
   "execution_count": 104,
   "metadata": {},
   "outputs": [
    {
     "data": {
      "image/png": "[encoded data removed]",
      "text/plain": [
       "<Figure size 432x288 with 1 Axes>"
      ]
     },
     "metadata": {},
     "output_type": "display_data"
    }
   ],
   "source": [
    "labels = ['faute par match a domicile','faute par equipe a l\\exterieur']\n",
    "fig1, ax1 = plt.subplots()\n",
    "ax1.pie([foul_home_team['ratio_foul_home'].sum(),foul_away_team['ratio_foul_away'].sum()], labels=labels, autopct='%1.1f%%')\n",
    "ax1.axis('equal')  # Equal aspect ratio ensures that pie is drawn as a circle.\n",
    "plt.title(\"Ratio de faute commises a domicile et a l'exterieur\")\n",
    "plt.show()"
   ]
  },
  {
   "cell_type": "markdown",
   "metadata": {},
   "source": [
    "Cette ressemblance de distribution de ratio par équipe entre domicile et exterieur laisse penser que le lieu n'a pas d'incidence sur le nombre de fautes commises par l'equipe. Les équipes jouent leur manière de jouer quoi qu'il arrive"
   ]
  },
  {
   "cell_type": "markdown",
   "metadata": {},
   "source": [
    "## C) Etude des cartons jaune reçus à domicile et extérieur par match"
   ]
  },
  {
   "cell_type": "code",
   "execution_count": 89,
   "metadata": {},
   "outputs": [],
   "source": [
    "foul_home_team['ratio_yellow_card_home'] = foul_home_team['yellow_card_home_team'] / foul_home_team['nb_match']\n",
    "foul_away_team['ratio_yellow_card_away'] = foul_away_team['yellow_card_away_team'] / foul_away_team['nb_match']"
   ]
  },
  {
   "cell_type": "code",
   "execution_count": 91,
   "metadata": {},
   "outputs": [
    {
     "name": "stderr",
     "output_type": "stream",
     "text": [
      "C:\\Users\\laou6\\anaconda3\\lib\\site-packages\\seaborn\\distributions.py:2551: FutureWarning: `distplot` is a deprecated function and will be removed in a future version. Please adapt your code to use either `displot` (a figure-level function with similar flexibility) or `histplot` (an axes-level function for histograms).\n",
      "  warnings.warn(msg, FutureWarning)\n",
      "C:\\Users\\laou6\\anaconda3\\lib\\site-packages\\seaborn\\distributions.py:2551: FutureWarning: `distplot` is a deprecated function and will be removed in a future version. Please adapt your code to use either `displot` (a figure-level function with similar flexibility) or `histplot` (an axes-level function for histograms).\n",
      "  warnings.warn(msg, FutureWarning)\n"
     ]
    },
    {
     "data": {
      "text/plain": [
       "Text(0.5, 1.0, \"Distribution des ratio de cartons jaune par equipe par match a domicile et à l'exterieur\")"
      ]
     },
     "execution_count": 91,
     "metadata": {},
     "output_type": "execute_result"
    },
    {
     "data": {
      "image/png": "[encoded data removed]",
      "text/plain": [
       "<Figure size 432x288 with 2 Axes>"
      ]
     },
     "metadata": {
      "needs_background": "light"
     },
     "output_type": "display_data"
    }
   ],
   "source": [
    "# call regplot on each axes\n",
    "fig, (ax1, ax2) = plt.subplots(ncols=2, sharey=True)\n",
    "fig.subplots_adjust(hspace=4)\n",
    "sns.distplot(foul_home_team['ratio_yellow_card_home'], ax=ax1)\n",
    "sns.distplot(foul_away_team['ratio_yellow_card_away'], ax=ax2).set_title(\"Distribution des ratio de cartons jaune par equipe par match a domicile et à l'exterieur\")"
   ]
  },
  {
   "cell_type": "code",
   "execution_count": 92,
   "metadata": {},
   "outputs": [
    {
     "data": {
      "text/plain": [
       "count    200.000000\n",
       "mean       1.892008\n",
       "std        0.591004\n",
       "min        0.694444\n",
       "25%        1.478421\n",
       "50%        1.789474\n",
       "75%        2.199007\n",
       "max        5.000000\n",
       "Name: ratio_yellow_card_home, dtype: float64"
      ]
     },
     "execution_count": 92,
     "metadata": {},
     "output_type": "execute_result"
    }
   ],
   "source": [
    "foul_home_team['ratio_yellow_card_home'].describe()"
   ]
  },
  {
   "cell_type": "code",
   "execution_count": 93,
   "metadata": {},
   "outputs": [
    {
     "data": {
      "text/plain": [
       "count    199.000000\n",
       "mean       2.186349\n",
       "std        0.552613\n",
       "min        1.000000\n",
       "25%        1.805752\n",
       "50%        2.095588\n",
       "75%        2.500000\n",
       "max        5.000000\n",
       "Name: ratio_yellow_card_away, dtype: float64"
      ]
     },
     "execution_count": 93,
     "metadata": {},
     "output_type": "execute_result"
    }
   ],
   "source": [
    "foul_away_team['ratio_yellow_card_away'].describe()"
   ]
  },
  {
   "cell_type": "code",
   "execution_count": 94,
   "metadata": {},
   "outputs": [
    {
     "data": {
      "text/plain": [
       "Text(0.5, 1.0, \"Ratio de carton jaune par faute par equipe à domicile et à l'exterieur par equipe par match\")"
      ]
     },
     "execution_count": 94,
     "metadata": {},
     "output_type": "execute_result"
    },
    {
     "data": {
      "image/png": "[encoded data removed]",
      "text/plain": [
       "<Figure size 432x288 with 2 Axes>"
      ]
     },
     "metadata": {
      "needs_background": "light"
     },
     "output_type": "display_data"
    }
   ],
   "source": [
    "fig, (ax1, ax2) = plt.subplots(ncols=2, sharey=True)\n",
    "fig.subplots_adjust(hspace=2)\n",
    "sns.boxplot(y=foul_home_team['ratio_yellow_card_home'], ax=ax1)\n",
    "sns.boxplot(y=foul_away_team['ratio_yellow_card_away'], ax=ax2).set_title(\"Ratio de carton jaune par faute par equipe à domicile et à l'exterieur par equipe par match\")"
   ]
  },
  {
   "cell_type": "code",
   "execution_count": 90,
   "metadata": {},
   "outputs": [
    {
     "data": {
      "image/png": "[encoded data removed]",
      "text/plain": [
       "<Figure size 432x288 with 1 Axes>"
      ]
     },
     "metadata": {},
     "output_type": "display_data"
    }
   ],
   "source": [
    "labels = ['yellow_card_home_team','yellow_card_away_team']\n",
    "sizes = [foul_home_team['ratio_yellow_card_home'].sum(),foul_away_team['ratio_yellow_card_away'].sum()]\n",
    "fig1, ax1 = plt.subplots()\n",
    "ax1.pie(sizes, labels=labels, autopct='%1.1f%%')\n",
    "ax1.axis('equal')  # Equal aspect ratio ensures that pie is drawn as a circle.\n",
    "plt.title(\"Ratio des cartons jaunes pris a domicile et a l'exterieur\")\n",
    "plt.show()"
   ]
  },
  {
   "cell_type": "markdown",
   "metadata": {},
   "source": [
    "On distingue qu'il y'a un peu plus de carton jaune pour les équipe qui jouent à l'exterieur qu'a domicile pour les équipes mais cela reste négligeable"
   ]
  },
  {
   "cell_type": "markdown",
   "metadata": {},
   "source": [
    "## D) Etude des cartons rouge reçus à domicile et extérieur par match"
   ]
  },
  {
   "cell_type": "code",
   "execution_count": 95,
   "metadata": {},
   "outputs": [],
   "source": [
    "foul_home_team['ratio_red_card_home'] = foul_home_team['red_card_home_team'] / foul_home_team['nb_match']\n",
    "foul_away_team['ratio_red_card_away'] = foul_away_team['red_card_away_team'] / foul_away_team['nb_match']"
   ]
  },
  {
   "cell_type": "code",
   "execution_count": 112,
   "metadata": {},
   "outputs": [
    {
     "name": "stderr",
     "output_type": "stream",
     "text": [
      "C:\\Users\\laou6\\anaconda3\\lib\\site-packages\\seaborn\\distributions.py:2551: FutureWarning: `distplot` is a deprecated function and will be removed in a future version. Please adapt your code to use either `displot` (a figure-level function with similar flexibility) or `histplot` (an axes-level function for histograms).\n",
      "  warnings.warn(msg, FutureWarning)\n",
      "C:\\Users\\laou6\\anaconda3\\lib\\site-packages\\seaborn\\distributions.py:2551: FutureWarning: `distplot` is a deprecated function and will be removed in a future version. Please adapt your code to use either `displot` (a figure-level function with similar flexibility) or `histplot` (an axes-level function for histograms).\n",
      "  warnings.warn(msg, FutureWarning)\n"
     ]
    },
    {
     "data": {
      "text/plain": [
       "Text(0.5, 1.0, \"Distribution des ratio de cartons rouges par equipe à domicile et à l'exterieur\")"
      ]
     },
     "execution_count": 112,
     "metadata": {},
     "output_type": "execute_result"
    },
    {
     "data": {
      "image/png": "[encoded data removed]",
      "text/plain": [
       "<Figure size 432x288 with 2 Axes>"
      ]
     },
     "metadata": {
      "needs_background": "light"
     },
     "output_type": "display_data"
    }
   ],
   "source": [
    "# call regplot on each axes\n",
    "fig, (ax1, ax2) = plt.subplots(ncols=2, sharey=True)\n",
    "fig.subplots_adjust(hspace=4)\n",
    "sns.distplot(foul_home_team['ratio_red_card_home'], ax=ax1)\n",
    "sns.distplot(foul_away_team['ratio_red_card_away'], ax=ax2).set_title(\"Distribution des ratio de cartons rouges par equipe à domicile et à l'exterieur\")"
   ]
  },
  {
   "cell_type": "code",
   "execution_count": 98,
   "metadata": {},
   "outputs": [
    {
     "data": {
      "text/plain": [
       "count    200.000000\n",
       "mean       0.051145\n",
       "std        0.041977\n",
       "min        0.000000\n",
       "25%        0.025619\n",
       "50%        0.052632\n",
       "75%        0.069422\n",
       "max        0.300000\n",
       "Name: ratio_red_card_home, dtype: float64"
      ]
     },
     "execution_count": 98,
     "metadata": {},
     "output_type": "execute_result"
    }
   ],
   "source": [
    "foul_home_team['ratio_red_card_home'].describe()"
   ]
  },
  {
   "cell_type": "code",
   "execution_count": 99,
   "metadata": {},
   "outputs": [
    {
     "data": {
      "text/plain": [
       "count    199.000000\n",
       "mean       0.070263\n",
       "std        0.055594\n",
       "min        0.000000\n",
       "25%        0.035401\n",
       "50%        0.059603\n",
       "75%        0.100000\n",
       "max        0.375000\n",
       "Name: ratio_red_card_away, dtype: float64"
      ]
     },
     "execution_count": 99,
     "metadata": {},
     "output_type": "execute_result"
    }
   ],
   "source": [
    "foul_away_team['ratio_red_card_away'].describe()"
   ]
  },
  {
   "cell_type": "code",
   "execution_count": 117,
   "metadata": {},
   "outputs": [
    {
     "data": {
      "text/plain": [
       "Text(0.5, 1.0, \"Ratio de carton rouge par equipe à domicile et à l'exterieur\")"
      ]
     },
     "execution_count": 117,
     "metadata": {},
     "output_type": "execute_result"
    },
    {
     "data": {
      "image/png": "[encoded data removed]",
      "text/plain": [
       "<Figure size 432x288 with 2 Axes>"
      ]
     },
     "metadata": {
      "needs_background": "light"
     },
     "output_type": "display_data"
    }
   ],
   "source": [
    "fig, (ax1, ax2) = plt.subplots(ncols=2, sharey=True)\n",
    "fig.subplots_adjust(hspace=2)\n",
    "sns.boxplot(y=foul_home_team['ratio_red_card_home'], ax=ax1)\n",
    "sns.boxplot(y=foul_away_team['ratio_red_card_away'], ax=ax2).set_title(\"Ratio de carton rouge par equipe à domicile et à l'exterieur\")"
   ]
  },
  {
   "cell_type": "code",
   "execution_count": 111,
   "metadata": {},
   "outputs": [
    {
     "data": {
      "image/png": "[encoded data removed]",
      "text/plain": [
       "<Figure size 432x288 with 1 Axes>"
      ]
     },
     "metadata": {},
     "output_type": "display_data"
    }
   ],
   "source": [
    "labels = ['red_card_home_team','red_card_away_team']\n",
    "sizes =  [foul_home_team['ratio_red_card_home'].sum(),foul_away_team['ratio_red_card_away'].sum()]\n",
    "fig1, ax1 = plt.subplots()\n",
    "ax1.pie(sizes, labels=labels, autopct='%1.1f%%')\n",
    "ax1.axis('equal')  # Equal aspect ratio ensures that pie is drawn as a circle.\n",
    "plt.show()"
   ]
  },
  {
   "cell_type": "markdown",
   "metadata": {},
   "source": [
    "On distingue que les équipes prennent d'avantage de carton rouge à l'exterieur avec 57.8% pour 42.2% à domicile. Ceci peut être dû à la perte de contrôle plus facilement à l'exterieur qu'à domicile avec l'influence des supporters"
   ]
  },
  {
   "cell_type": "markdown",
   "metadata": {},
   "source": [
    "### Réponse à la sous question"
   ]
  },
  {
   "cell_type": "markdown",
   "metadata": {},
   "source": [
    "La réponse à la question : est ce que l'arbitre à tendance à favoriser les équipes à domicile est globalement non car on observe pas de résultat significatif pour les fautes générales et les cartons jaune.\n",
    "    Cependant on observe tout de même de plus grosse chance de prendre un carton rouge à l'exterieur que à domicile pour une équipe.\n",
    "    Ceci peut venir du fait de la pression qu'inflige les supporters à l'equipe visiteur et que cette pression engendre une nervosité et une perte de moyens sur les joueurs"
   ]
  },
  {
   "cell_type": "markdown",
   "metadata": {},
   "source": [
    "# Conclusion"
   ]
  },
  {
   "cell_type": "markdown",
   "metadata": {},
   "source": [
    "A la question, est ce que les équipes sont favorisés à domicile plutôt que à l'exterieur : la réponse est oui.\n",
    "On a notamment pu conclure les faits suivant sur notre jeu de données :\n",
    "\n",
    "- On observe que 93.3 % des équipes gagnent d'avantage de match à domicile que à l\\'exterieur'\n",
    "- On observe que 93.6 % des équipes perdent d'avantage de match a l'exterieur que à domicile\n",
    "- 95 % des équipes marquent plus de buts à domicile que à l'exterieur\n",
    "- 93 % des équipes prennent d'avantage de buts à l'exterieur que à domicile\n",
    "- 97 % des équipes ont un meilleur goal average à domicile que à l'exterieur\n",
    "- 57.8 % des équipes prennent d'avantage de carton rouge à domicile que à l'exterieur\n",
    "\n",
    "On peut donc conclure qu'il est préférable pour les équipes de jouer à domicile plutôt qu'à l'exterieur compte tenu de leur différence significatives sur nos critères choisis"
   ]
  }
 ],
 "metadata": {
  "kernelspec": {
   "display_name": "Python 3",
   "language": "python",
   "name": "python3"
  },
  "language_info": {
   "codemirror_mode": {
    "name": "ipython",
    "version": 3
   },
   "file_extension": ".py",
   "mimetype": "text/x-python",
   "name": "python",
   "nbconvert_exporter": "python",
   "pygments_lexer": "ipython3",
   "version": "3.8.5"
  }
 },
 "nbformat": 4,
 "nbformat_minor": 4
}
